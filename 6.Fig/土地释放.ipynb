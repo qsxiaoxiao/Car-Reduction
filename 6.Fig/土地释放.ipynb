{
 "cells": [
  {
   "cell_type": "code",
   "execution_count": 1,
   "id": "d16e4035",
   "metadata": {},
   "outputs": [],
   "source": [
    "import pandas as pd\n",
    "import numpy as np\n",
    "import os\n",
    "from config import Config"
   ]
  },
  {
   "cell_type": "markdown",
   "id": "f24d81ce",
   "metadata": {},
   "source": [
    "# 出行链在空间上的分布数量（每天）"
   ]
  },
  {
   "cell_type": "code",
   "execution_count": 35,
   "id": "e12d2a40",
   "metadata": {},
   "outputs": [],
   "source": [
    "#出行链在空间上的分布数量（每天）\n",
    "def chuxinglianByregion(date,region):\n",
    "    list_chuxinglianByregion={}\n",
    "    for t in date:\n",
    "        list_region={}\n",
    "        for r in region:\n",
    "            paths=np.load('./data/PathList/900 40000/splitByregion/'+t+'/'+t+'_path_'+r+'.npy', allow_pickle=True)\n",
    "            paths_num=len(paths)\n",
    "            list_region[str(r)]=paths_num\n",
    "        list_chuxinglianByregion[str(t)]=list_region\n",
    "    return list_chuxinglianByregion"
   ]
  },
  {
   "cell_type": "code",
   "execution_count": 40,
   "id": "d6c4d2ed",
   "metadata": {
    "scrolled": true
   },
   "outputs": [
    {
     "name": "stdout",
     "output_type": "stream",
     "text": [
      "          1205   1206   1207   1208   1209   1210   1211\n",
      "beibu    32674  29121  30153  30360  30844  26930  19696\n",
      "dongbu   27393  21440  21445  21461  21766  15804  19805\n",
      "futianA  13785  12447  12605  12894  13211  10723   7639\n",
      "futianB  14438  12635  12805  12599  13009  10920   7570\n",
      "luohu     8673   7370   7327   7562   7562   5965   3827\n",
      "nanshan  16083  15029  15224  14436  14275  11654   7810\n",
      "xibu     19616  16614  18084  18141  17403  16037  21761\n",
      "qita         0      0      0      0      0      0      0\n"
     ]
    }
   ],
   "source": [
    "list_chuxinglianByregion=chuxinglianByregion(['1205','1206','1207','1208','1209','1210','1211'],\n",
    "                         ['beibu','dongbu','futianA','futianB','luohu','nanshan','xibu','qita'])\n",
    "pd_chuxinglianByregion=pd.DataFrame(list_chuxinglianByregion)\n",
    "print(pd_chuxinglianByregion)"
   ]
  },
  {
   "cell_type": "code",
   "execution_count": 49,
   "id": "ad0d556c",
   "metadata": {},
   "outputs": [
    {
     "name": "stdout",
     "output_type": "stream",
     "text": [
      "1166.2968061346992\n",
      "30630.4\n"
     ]
    }
   ],
   "source": [
    "print(np.std(list(pd_chuxinglianByregion.loc['beibu'])[:5]))\n",
    "print(np.mean(list(pd_chuxinglianByregion.loc['beibu'])[:5]))"
   ]
  },
  {
   "cell_type": "markdown",
   "id": "2d32a5af",
   "metadata": {},
   "source": [
    "# 出行链在行政区上的分布数量（每天）"
   ]
  },
  {
   "cell_type": "code",
   "execution_count": 105,
   "id": "278689b9",
   "metadata": {},
   "outputs": [],
   "source": [
    "#融合一个文件夹（例如：1205）下的所有出行链文件npy\n",
    "def all_chuxinglian(filePath):\n",
    "    chuxinglian = []\n",
    "    filePathList = os.listdir(filePath)\n",
    "    for allDir in filePathList:\n",
    "            child = os.path.join('%s/%s' % (filePath, allDir))\n",
    "            numpy_path = np.load(child, allow_pickle=True)\n",
    "            chuxinglian=chuxinglian+list(numpy_path)\n",
    "    return chuxinglian"
   ]
  },
  {
   "cell_type": "code",
   "execution_count": 123,
   "id": "3534c01b",
   "metadata": {},
   "outputs": [],
   "source": [
    "# 出行链在行政区上的分布数量（每天）\n",
    "def chuxinglianBydistrict(date,districtType):\n",
    "    list_chuxinglianBydistrict={}\n",
    "    kakou_location=pd.read_csv(open('./data/new_kakou_location_m_jiedao_qu.csv'))\n",
    "    district_name=list(set(kakou_location[districtType]))\n",
    "    for t in date:\n",
    "        print(t)\n",
    "        jiedian=pd.read_csv(open('./data/节点/'+t+'_jiedian.csv'))\n",
    "        chuxinglian=all_chuxinglian(r'./data/PathList/900 40000/Nosplit/'+t)\n",
    "        dict_chuxinglianBydistrict_oneday={}\n",
    "        for district_n in district_name:\n",
    "            dict_chuxinglianBydistrict_oneday[district_n]=0\n",
    "        for p in chuxinglian:\n",
    "            start_kid=jiedian.iloc[p[0]]['start_kid']\n",
    "            name=kakou_location[kakou_location['k_id']==start_kid].iloc[0]['县']\n",
    "            dict_chuxinglianBydistrict_oneday[name]=dict_chuxinglianBydistrict_oneday[name]+1\n",
    "\n",
    "        list_chuxinglianBydistrict[str(t)]=dict_chuxinglianBydistrict_oneday\n",
    "    return list_chuxinglianBydistrict"
   ]
  },
  {
   "cell_type": "code",
   "execution_count": 125,
   "id": "c01a5e5c",
   "metadata": {},
   "outputs": [
    {
     "name": "stdout",
     "output_type": "stream",
     "text": [
      "      1205   1206   1207   1208   1209   1210   1211\n",
      "龙华区  10678   9180   9909  11061  10468   8311   5875\n",
      "坪山区   5175   4025   4190   4158   4460   3518   3974\n",
      "宝安区  15200  12453  13376  13270  13388  11884  18554\n",
      "龙岗区  31765  26102  26436  25894  25959  20862  22114\n",
      "盐田区   2816   2382   2302   2420   2141    981   1352\n",
      "光明区   3095   3033   3645   3234   2686   3116   2424\n",
      "南山区  18824  17511  17551  17147  17180  14081   9380\n",
      "罗湖区  13499  11379  11491  11874  11928  10681   6975\n",
      "福田区  31610  28591  28743  28395  29860  24599  17460\n"
     ]
    }
   ],
   "source": [
    "list_chuxinglianBydistrict=chuxinglianBydistrict(['1205','1206','1207','1208','1209','1210','1211'],'县')\n",
    "pd_chuxinglianBydistrict=pd.DataFrame(list_chuxinglianBydistrict)\n",
    "print(pd_chuxinglianBydistrict)"
   ]
  },
  {
   "cell_type": "code",
   "execution_count": 127,
   "id": "4b733c2f",
   "metadata": {},
   "outputs": [
    {
     "name": "stdout",
     "output_type": "stream",
     "text": [
      "655.6198288642588\n",
      "10259.2\n"
     ]
    }
   ],
   "source": [
    "print(np.std(list(pd_chuxinglianBydistrict.loc['龙华区'])[:5]))\n",
    "print(np.mean(list(pd_chuxinglianBydistrict.loc['龙华区'])[:5]))"
   ]
  },
  {
   "cell_type": "markdown",
   "id": "cad05a71",
   "metadata": {},
   "source": [
    "# 出行节点在空间上的分布数量（每天）"
   ]
  },
  {
   "cell_type": "code",
   "execution_count": 129,
   "id": "3c7ca430",
   "metadata": {},
   "outputs": [],
   "source": [
    "global_config = Config('./config.ini')\n",
    "source_data_path = global_config.getRaw('设置条件', 'source_data_path')\n",
    "\n",
    "xibu_zhongxin = global_config.getRaw('设置条件', 'xibu_zhongxin')\n",
    "xibu_zhongxin = xibu_zhongxin.strip('[]').split(',')\n",
    "nanshan_zhongxin = global_config.getRaw('设置条件', 'nanshan_zhongxin')\n",
    "nanshan_zhongxin = nanshan_zhongxin.strip('[]').split(',')\n",
    "futian_zhongxinA = global_config.getRaw('设置条件', 'futian_zhongxinA')\n",
    "futian_zhongxinA = futian_zhongxinA.strip('[]').split(',')\n",
    "futian_zhongxinB = global_config.getRaw('设置条件', 'futian_zhongxinB')\n",
    "futian_zhongxinB = futian_zhongxinB.strip('[]').split(',')\n",
    "luohu_zhongxin = global_config.getRaw('设置条件', 'luohu_zhongxin')\n",
    "luohu_zhongxin = luohu_zhongxin.strip('[]').split(',')\n",
    "beibu_zhongxin = global_config.getRaw('设置条件', 'beibu_zhongxin')\n",
    "beibu_zhongxin = beibu_zhongxin.strip('[]').split(',')\n",
    "dongbu_zhongxin = global_config.getRaw('设置条件', 'dongbu_zhongxin')\n",
    "dongbu_zhongxin = dongbu_zhongxin.strip('[]').split(',')"
   ]
  },
  {
   "cell_type": "code",
   "execution_count": 156,
   "id": "e4ccb089",
   "metadata": {},
   "outputs": [],
   "source": [
    "# 出行节点在空间上的分布数量（每天）\n",
    "def jiedianByregion(date):\n",
    "    list_jiedianByregion={}\n",
    "    kakou_location=pd.read_csv(open('./data/new_kakou_location_m_jiedao_qu.csv'))\n",
    "    for t in date:\n",
    "        print(t)\n",
    "        jiedian=pd.read_csv(open('./data/节点/'+t+'_jiedian.csv'))\n",
    "        list_region={'xibu':0,'nanshan':0,'futianA':0,'futianB':0,'luohu':0,'beibu':0,'dongbu':0,'qita':0,}\n",
    "        \n",
    "        for i in range(len(jiedian)):\n",
    "            start_kid=jiedian.iloc[i]['start_kid']\n",
    "            JDNAME=kakou_location[kakou_location['k_id']==start_kid].iloc[0]['JDNAME']\n",
    "            if JDNAME in xibu_zhongxin:\n",
    "                list_region['xibu']=list_region['xibu']+1\n",
    "            elif JDNAME in nanshan_zhongxin:\n",
    "                list_region['nanshan']=list_region['nanshan']+1\n",
    "            elif JDNAME in futian_zhongxinA:\n",
    "                list_region['futianA']=list_region['futianA']+1\n",
    "            elif JDNAME in futian_zhongxinB:\n",
    "                list_region['futianB']=list_region['futianB']+1\n",
    "            elif JDNAME in luohu_zhongxin:\n",
    "                list_region['luohu']=list_region['luohu']+1\n",
    "            elif JDNAME in beibu_zhongxin:\n",
    "                list_region['beibu']=list_region['beibu']+1\n",
    "            elif JDNAME in dongbu_zhongxin:\n",
    "                list_region['dongbu']=list_region['dongbu']+1\n",
    "            else:\n",
    "                list_region['qita']=list_region['qita']+1\n",
    "        list_jiedianByregion[str(t)]=list_region\n",
    "    return list_jiedianByregion"
   ]
  },
  {
   "cell_type": "code",
   "execution_count": 157,
   "id": "b94c8705",
   "metadata": {},
   "outputs": [
    {
     "name": "stdout",
     "output_type": "stream",
     "text": [
      "1205\n",
      "1206\n",
      "1207\n",
      "1208\n",
      "1209\n",
      "1210\n",
      "1211\n",
      "           1205    1206    1207    1208    1209    1210    1211\n",
      "xibu     277808  220082  228133  226581  224060  198016  153783\n",
      "nanshan  159520  140107  139124  141197  139629  116533  102617\n",
      "futianA  130360  119128  119629  115550  119621   89529   79710\n",
      "futianB  130123  121067  118003  123474  126347  104885   93553\n",
      "luohu     90177   65810   73893   69270   68740   65005   62758\n",
      "beibu    217838  188673  185249  184076  186782  163774  141199\n",
      "dongbu   238115  190572  191923  191784  193171  178158  168633\n",
      "qita         72      37      48      51      30      37      48\n"
     ]
    }
   ],
   "source": [
    "list_jiedianByregion=jiedianByregion(['1205','1206','1207','1208','1209','1210','1211'])\n",
    "pd_jiedianByregion=pd.DataFrame(list_jiedianByregion)\n",
    "print(pd_jiedianByregion)"
   ]
  },
  {
   "cell_type": "code",
   "execution_count": 158,
   "id": "4aabc9b7",
   "metadata": {},
   "outputs": [
    {
     "name": "stdout",
     "output_type": "stream",
     "text": [
      "12750.636762138587\n",
      "192523.6\n"
     ]
    }
   ],
   "source": [
    "print(np.std(list(pd_jiedianByregion.loc['beibu'])[:5]))\n",
    "print(np.mean(list(pd_jiedianByregion.loc['beibu'])[:5]))"
   ]
  },
  {
   "cell_type": "markdown",
   "id": "6fc366c9",
   "metadata": {},
   "source": [
    "# 出行节点在行政区上的分布数量（每天）"
   ]
  },
  {
   "cell_type": "code",
   "execution_count": 147,
   "id": "e1b4ea8b",
   "metadata": {},
   "outputs": [],
   "source": [
    "# 出行节点在行政区上的分布数量（每天）\n",
    "def jiedianBydistrict(date,districtType):\n",
    "    list_jiedianBydistrict={}\n",
    "    kakou_location=pd.read_csv(open('./data/new_kakou_location_m_jiedao_qu.csv'))\n",
    "    district_name=list(set(kakou_location[districtType]))\n",
    "    for t in date:\n",
    "        jiedian=pd.read_csv(open('./data/节点/'+t+'_jiedian.csv'))\n",
    "        dict_jiedianBydistrict_oneday={}\n",
    "        for district_n in district_name:\n",
    "            dict_jiedianBydistrict_oneday[district_n]=0\n",
    "        for i in range(len(jiedian)):\n",
    "            start_kid=jiedian.iloc[i]['start_kid']\n",
    "            name=kakou_location[kakou_location['k_id']==start_kid].iloc[0][districtType]\n",
    "            dict_jiedianBydistrict_oneday[name]=dict_jiedianBydistrict_oneday[name]+1\n",
    "        list_jiedianBydistrict[str(t)]=dict_jiedianBydistrict_oneday\n",
    "    return list_jiedianBydistrict"
   ]
  },
  {
   "cell_type": "code",
   "execution_count": 148,
   "id": "4e947464",
   "metadata": {},
   "outputs": [
    {
     "name": "stdout",
     "output_type": "stream",
     "text": [
      "       1205    1206    1207    1208    1209    1210    1211\n",
      "龙华区  144654  124604  124204  123557  127480  114184   93494\n",
      "坪山区   40660   32611   32896   32197   33388   29377   28065\n",
      "宝安区  198748  154684  159928  158919  156944  137872  108919\n",
      "龙岗区  254370  206486  206816  205498  203505  184647  172968\n",
      "盐田区   16002   13269   13634   13913   14126   13073   12874\n",
      "光明区   46336   38558   39509   39105   38390   34976   24665\n",
      "南山区  166809  146520  145910  148625  147431  122619  107957\n",
      "罗湖区  149406  116696  124276  120152  120952  112164  105487\n",
      "福田区  227028  212048  208829  210017  216164  167025  147872\n"
     ]
    }
   ],
   "source": [
    "list_jiedianBydistrict=jiedianBydistrict(['1205','1206','1207','1208','1209','1210','1211'],'县')\n",
    "pd_jiedianBydistrict=pd.DataFrame(list_jiedianBydistrict)\n",
    "print(pd_jiedianBydistrict)"
   ]
  },
  {
   "cell_type": "code",
   "execution_count": 149,
   "id": "b356156b",
   "metadata": {},
   "outputs": [
    {
     "name": "stdout",
     "output_type": "stream",
     "text": [
      "7990.752114788695\n",
      "128899.8\n"
     ]
    }
   ],
   "source": [
    "print(np.std(list(pd_jiedianBydistrict.loc['龙华区'])[:5])) \n",
    "print(np.mean(list(pd_jiedianBydistrict.loc['龙华区'])[:5]))"
   ]
  },
  {
   "cell_type": "markdown",
   "id": "d797a72a",
   "metadata": {},
   "source": [
    "# 出行链的分布数量（每天）"
   ]
  },
  {
   "cell_type": "code",
   "execution_count": 150,
   "id": "4ea119c4",
   "metadata": {
    "scrolled": true
   },
   "outputs": [
    {
     "name": "stdout",
     "output_type": "stream",
     "text": [
      "1205:132662\n",
      "1206:114656\n",
      "1207:117643\n",
      "1208:117453\n",
      "1209:118070\n",
      "1210:98033\n",
      "1211:88108\n"
     ]
    }
   ],
   "source": [
    "print('1205:'+str(len(all_chuxinglian(r'./data/PathList/900 40000/Nosplit/1205'))))\n",
    "print('1206:'+str(len(all_chuxinglian(r'./data/PathList/900 40000/Nosplit/1206'))))\n",
    "print('1207:'+str(len(all_chuxinglian(r'./data/PathList/900 40000/Nosplit/1207'))))\n",
    "print('1208:'+str(len(all_chuxinglian(r'./data/PathList/900 40000/Nosplit/1208'))))\n",
    "print('1209:'+str(len(all_chuxinglian(r'./data/PathList/900 40000/Nosplit/1209'))))\n",
    "print('1210:'+str(len(all_chuxinglian(r'./data/PathList/900 40000/Nosplit/1210'))))\n",
    "print('1211:'+str(len(all_chuxinglian(r'./data/PathList/900 40000/Nosplit/1211'))))"
   ]
  },
  {
   "cell_type": "markdown",
   "id": "c72a37d6",
   "metadata": {},
   "source": [
    "# 出行节点的分布数量"
   ]
  },
  {
   "cell_type": "code",
   "execution_count": 151,
   "id": "f09a8b30",
   "metadata": {},
   "outputs": [
    {
     "name": "stdout",
     "output_type": "stream",
     "text": [
      "1205:1244013\n",
      "1206:1045476\n",
      "1207:1056002\n",
      "1208:1051983\n",
      "1209:1058380\n",
      "1210:915937\n",
      "1211:802301\n"
     ]
    }
   ],
   "source": [
    "print('1205:'+str(len(pd.read_csv(open('./data/节点/1205_jiedian.csv')))))\n",
    "print('1206:'+str(len(pd.read_csv(open('./data/节点/1206_jiedian.csv')))))\n",
    "print('1207:'+str(len(pd.read_csv(open('./data/节点/1207_jiedian.csv')))))\n",
    "print('1208:'+str(len(pd.read_csv(open('./data/节点/1208_jiedian.csv')))))\n",
    "print('1209:'+str(len(pd.read_csv(open('./data/节点/1209_jiedian.csv')))))\n",
    "print('1210:'+str(len(pd.read_csv(open('./data/节点/1210_jiedian.csv')))))\n",
    "print('1211:'+str(len(pd.read_csv(open('./data/节点/1211_jiedian.csv')))))"
   ]
  },
  {
   "cell_type": "code",
   "execution_count": 162,
   "id": "b67c6eaa",
   "metadata": {},
   "outputs": [],
   "source": [
    "#pd_chuxinglianByregion.to_csv('./data/土地释放/出行链在空间上的分布数量900_40000.csv')\n",
    "#pd_chuxinglianBydistrict.to_csv('./data/土地释放/出行链在行政区上的分布数量900_40000.csv')\n",
    "#pd_jiedianByregion.to_csv('./data/土地释放/出行节点在空间上的分布数量.csv')\n",
    "#pd_jiedianBydistrict.to_csv('./data/土地释放/出行节点在行政区上的分布数量.csv')"
   ]
  },
  {
   "cell_type": "code",
   "execution_count": 2,
   "id": "9192f426",
   "metadata": {},
   "outputs": [],
   "source": [
    "pd_chuxinglianByregion=pd.read_csv('./data/土地释放/出行链在空间上的分布数量900_40000.csv',index_col=0)\n",
    "pd_chuxinglianBydistrict=pd.read_csv('./data/土地释放/出行链在行政区上的分布数量900_40000.csv',index_col=0)\n",
    "pd_jiedianByregion=pd.read_csv('./data/土地释放/出行节点在空间上的分布数量.csv',index_col=0)\n",
    "pd_jiedianBydistrict=pd.read_csv('./data/土地释放/出行节点在行政区上的分布数量.csv',index_col=0)"
   ]
  },
  {
   "cell_type": "code",
   "execution_count": 3,
   "id": "161cb268",
   "metadata": {},
   "outputs": [],
   "source": [
    "#(pd_jiedianByregion-pd_chuxinglianByregion).to_csv('./data/土地释放/出行节点减去出行链在空间上的分布数量900_40000.csv')\n",
    "#(pd_jiedianBydistrict-pd_chuxinglianBydistrict).to_csv('./data/土地释放/出行节点减去出行链在行政区上的分布数量900_40000.csv')"
   ]
  },
  {
   "cell_type": "code",
   "execution_count": 4,
   "id": "63b25567",
   "metadata": {},
   "outputs": [
    {
     "data": {
      "text/html": [
       "<div>\n",
       "<style scoped>\n",
       "    .dataframe tbody tr th:only-of-type {\n",
       "        vertical-align: middle;\n",
       "    }\n",
       "\n",
       "    .dataframe tbody tr th {\n",
       "        vertical-align: top;\n",
       "    }\n",
       "\n",
       "    .dataframe thead th {\n",
       "        text-align: right;\n",
       "    }\n",
       "</style>\n",
       "<table border=\"1\" class=\"dataframe\">\n",
       "  <thead>\n",
       "    <tr style=\"text-align: right;\">\n",
       "      <th></th>\n",
       "      <th>1205</th>\n",
       "      <th>1206</th>\n",
       "      <th>1207</th>\n",
       "      <th>1208</th>\n",
       "      <th>1209</th>\n",
       "      <th>1210</th>\n",
       "      <th>1211</th>\n",
       "    </tr>\n",
       "  </thead>\n",
       "  <tbody>\n",
       "    <tr>\n",
       "      <th>beibu</th>\n",
       "      <td>8.332380</td>\n",
       "      <td>7.179840</td>\n",
       "      <td>6.979320</td>\n",
       "      <td>6.917220</td>\n",
       "      <td>7.017210</td>\n",
       "      <td>6.157980</td>\n",
       "      <td>5.467635</td>\n",
       "    </tr>\n",
       "    <tr>\n",
       "      <th>dongbu</th>\n",
       "      <td>9.482490</td>\n",
       "      <td>7.610940</td>\n",
       "      <td>7.671510</td>\n",
       "      <td>7.664535</td>\n",
       "      <td>7.713225</td>\n",
       "      <td>7.305930</td>\n",
       "      <td>6.697260</td>\n",
       "    </tr>\n",
       "    <tr>\n",
       "      <th>futianA</th>\n",
       "      <td>5.245875</td>\n",
       "      <td>4.800645</td>\n",
       "      <td>4.816080</td>\n",
       "      <td>4.619520</td>\n",
       "      <td>4.788450</td>\n",
       "      <td>3.546270</td>\n",
       "      <td>3.243195</td>\n",
       "    </tr>\n",
       "    <tr>\n",
       "      <th>futianB</th>\n",
       "      <td>5.205825</td>\n",
       "      <td>4.879440</td>\n",
       "      <td>4.733910</td>\n",
       "      <td>4.989375</td>\n",
       "      <td>5.100210</td>\n",
       "      <td>4.228425</td>\n",
       "      <td>3.869235</td>\n",
       "    </tr>\n",
       "    <tr>\n",
       "      <th>luohu</th>\n",
       "      <td>3.667680</td>\n",
       "      <td>2.629800</td>\n",
       "      <td>2.995470</td>\n",
       "      <td>2.776860</td>\n",
       "      <td>2.753010</td>\n",
       "      <td>2.656800</td>\n",
       "      <td>2.651895</td>\n",
       "    </tr>\n",
       "    <tr>\n",
       "      <th>nanshan</th>\n",
       "      <td>6.454665</td>\n",
       "      <td>5.628510</td>\n",
       "      <td>5.575500</td>\n",
       "      <td>5.704245</td>\n",
       "      <td>5.640930</td>\n",
       "      <td>4.719555</td>\n",
       "      <td>4.266315</td>\n",
       "    </tr>\n",
       "    <tr>\n",
       "      <th>qita</th>\n",
       "      <td>0.003240</td>\n",
       "      <td>0.001665</td>\n",
       "      <td>0.002160</td>\n",
       "      <td>0.002295</td>\n",
       "      <td>0.001350</td>\n",
       "      <td>0.001665</td>\n",
       "      <td>0.002160</td>\n",
       "    </tr>\n",
       "    <tr>\n",
       "      <th>xibu</th>\n",
       "      <td>11.618640</td>\n",
       "      <td>9.156060</td>\n",
       "      <td>9.452205</td>\n",
       "      <td>9.379800</td>\n",
       "      <td>9.299565</td>\n",
       "      <td>8.189055</td>\n",
       "      <td>5.940990</td>\n",
       "    </tr>\n",
       "  </tbody>\n",
       "</table>\n",
       "</div>"
      ],
      "text/plain": [
       "              1205      1206      1207      1208      1209      1210      1211\n",
       "beibu     8.332380  7.179840  6.979320  6.917220  7.017210  6.157980  5.467635\n",
       "dongbu    9.482490  7.610940  7.671510  7.664535  7.713225  7.305930  6.697260\n",
       "futianA   5.245875  4.800645  4.816080  4.619520  4.788450  3.546270  3.243195\n",
       "futianB   5.205825  4.879440  4.733910  4.989375  5.100210  4.228425  3.869235\n",
       "luohu     3.667680  2.629800  2.995470  2.776860  2.753010  2.656800  2.651895\n",
       "nanshan   6.454665  5.628510  5.575500  5.704245  5.640930  4.719555  4.266315\n",
       "qita      0.003240  0.001665  0.002160  0.002295  0.001350  0.001665  0.002160\n",
       "xibu     11.618640  9.156060  9.452205  9.379800  9.299565  8.189055  5.940990"
      ]
     },
     "execution_count": 4,
     "metadata": {},
     "output_type": "execute_result"
    }
   ],
   "source": [
    "#释放的总面积（分空间）\n",
    "(pd_jiedianByregion-pd_chuxinglianByregion)*3*15/1000000"
   ]
  },
  {
   "cell_type": "code",
   "execution_count": 7,
   "id": "462d2c05",
   "metadata": {},
   "outputs": [
    {
     "data": {
      "text/html": [
       "<div>\n",
       "<style scoped>\n",
       "    .dataframe tbody tr th:only-of-type {\n",
       "        vertical-align: middle;\n",
       "    }\n",
       "\n",
       "    .dataframe tbody tr th {\n",
       "        vertical-align: top;\n",
       "    }\n",
       "\n",
       "    .dataframe thead th {\n",
       "        text-align: right;\n",
       "    }\n",
       "</style>\n",
       "<table border=\"1\" class=\"dataframe\">\n",
       "  <thead>\n",
       "    <tr style=\"text-align: right;\">\n",
       "      <th></th>\n",
       "      <th>1205</th>\n",
       "      <th>1206</th>\n",
       "      <th>1207</th>\n",
       "      <th>1208</th>\n",
       "      <th>1209</th>\n",
       "      <th>1210</th>\n",
       "      <th>1211</th>\n",
       "    </tr>\n",
       "  </thead>\n",
       "  <tbody>\n",
       "    <tr>\n",
       "      <th>龙华区</th>\n",
       "      <td>6.028920</td>\n",
       "      <td>5.194080</td>\n",
       "      <td>5.143275</td>\n",
       "      <td>5.062320</td>\n",
       "      <td>5.265540</td>\n",
       "      <td>4.764285</td>\n",
       "      <td>3.942855</td>\n",
       "    </tr>\n",
       "    <tr>\n",
       "      <th>坪山区</th>\n",
       "      <td>1.596825</td>\n",
       "      <td>1.286370</td>\n",
       "      <td>1.291770</td>\n",
       "      <td>1.261755</td>\n",
       "      <td>1.301760</td>\n",
       "      <td>1.163655</td>\n",
       "      <td>1.084095</td>\n",
       "    </tr>\n",
       "    <tr>\n",
       "      <th>宝安区</th>\n",
       "      <td>8.259660</td>\n",
       "      <td>6.400395</td>\n",
       "      <td>6.594840</td>\n",
       "      <td>6.554205</td>\n",
       "      <td>6.460020</td>\n",
       "      <td>5.669460</td>\n",
       "      <td>4.066425</td>\n",
       "    </tr>\n",
       "    <tr>\n",
       "      <th>龙岗区</th>\n",
       "      <td>10.017225</td>\n",
       "      <td>8.117280</td>\n",
       "      <td>8.117100</td>\n",
       "      <td>8.082180</td>\n",
       "      <td>7.989570</td>\n",
       "      <td>7.370325</td>\n",
       "      <td>6.788430</td>\n",
       "    </tr>\n",
       "    <tr>\n",
       "      <th>盐田区</th>\n",
       "      <td>0.593370</td>\n",
       "      <td>0.489915</td>\n",
       "      <td>0.509940</td>\n",
       "      <td>0.517185</td>\n",
       "      <td>0.539325</td>\n",
       "      <td>0.544140</td>\n",
       "      <td>0.518490</td>\n",
       "    </tr>\n",
       "    <tr>\n",
       "      <th>光明区</th>\n",
       "      <td>1.945845</td>\n",
       "      <td>1.598625</td>\n",
       "      <td>1.613880</td>\n",
       "      <td>1.614195</td>\n",
       "      <td>1.606680</td>\n",
       "      <td>1.433700</td>\n",
       "      <td>1.000845</td>\n",
       "    </tr>\n",
       "    <tr>\n",
       "      <th>南山区</th>\n",
       "      <td>6.659325</td>\n",
       "      <td>5.805405</td>\n",
       "      <td>5.776155</td>\n",
       "      <td>5.916510</td>\n",
       "      <td>5.861295</td>\n",
       "      <td>4.884210</td>\n",
       "      <td>4.435965</td>\n",
       "    </tr>\n",
       "    <tr>\n",
       "      <th>罗湖区</th>\n",
       "      <td>6.115815</td>\n",
       "      <td>4.739265</td>\n",
       "      <td>5.075325</td>\n",
       "      <td>4.872510</td>\n",
       "      <td>4.906080</td>\n",
       "      <td>4.566735</td>\n",
       "      <td>4.433040</td>\n",
       "    </tr>\n",
       "    <tr>\n",
       "      <th>福田区</th>\n",
       "      <td>8.793810</td>\n",
       "      <td>8.255565</td>\n",
       "      <td>8.103870</td>\n",
       "      <td>8.172990</td>\n",
       "      <td>8.383680</td>\n",
       "      <td>6.409170</td>\n",
       "      <td>5.868540</td>\n",
       "    </tr>\n",
       "  </tbody>\n",
       "</table>\n",
       "</div>"
      ],
      "text/plain": [
       "          1205      1206      1207      1208      1209      1210      1211\n",
       "龙华区   6.028920  5.194080  5.143275  5.062320  5.265540  4.764285  3.942855\n",
       "坪山区   1.596825  1.286370  1.291770  1.261755  1.301760  1.163655  1.084095\n",
       "宝安区   8.259660  6.400395  6.594840  6.554205  6.460020  5.669460  4.066425\n",
       "龙岗区  10.017225  8.117280  8.117100  8.082180  7.989570  7.370325  6.788430\n",
       "盐田区   0.593370  0.489915  0.509940  0.517185  0.539325  0.544140  0.518490\n",
       "光明区   1.945845  1.598625  1.613880  1.614195  1.606680  1.433700  1.000845\n",
       "南山区   6.659325  5.805405  5.776155  5.916510  5.861295  4.884210  4.435965\n",
       "罗湖区   6.115815  4.739265  5.075325  4.872510  4.906080  4.566735  4.433040\n",
       "福田区   8.793810  8.255565  8.103870  8.172990  8.383680  6.409170  5.868540"
      ]
     },
     "execution_count": 7,
     "metadata": {},
     "output_type": "execute_result"
    }
   ],
   "source": [
    "#释放的总面积（分行政区）\n",
    "(pd_jiedianBydistrict-pd_chuxinglianBydistrict)*3*15/1000000"
   ]
  },
  {
   "cell_type": "code",
   "execution_count": 13,
   "id": "040ed882",
   "metadata": {},
   "outputs": [],
   "source": [
    "#分空间的车辆减少数量（工作日中位数）\n",
    "median_region=(pd_jiedianByregion-pd_chuxinglianByregion).iloc[:,:5].median(axis=1)"
   ]
  },
  {
   "cell_type": "code",
   "execution_count": 14,
   "id": "3f86a2a8",
   "metadata": {},
   "outputs": [],
   "source": [
    "#分空间的车辆减少数量（工作日平均数）\n",
    "mean_region=(pd_jiedianByregion-pd_chuxinglianByregion).iloc[:,:5].mean(axis=1)"
   ]
  },
  {
   "cell_type": "code",
   "execution_count": 20,
   "id": "28182e55",
   "metadata": {},
   "outputs": [
    {
     "data": {
      "text/html": [
       "<div>\n",
       "<style scoped>\n",
       "    .dataframe tbody tr th:only-of-type {\n",
       "        vertical-align: middle;\n",
       "    }\n",
       "\n",
       "    .dataframe tbody tr th {\n",
       "        vertical-align: top;\n",
       "    }\n",
       "\n",
       "    .dataframe thead th {\n",
       "        text-align: right;\n",
       "    }\n",
       "</style>\n",
       "<table border=\"1\" class=\"dataframe\">\n",
       "  <thead>\n",
       "    <tr style=\"text-align: right;\">\n",
       "      <th></th>\n",
       "      <th>车辆减少数量</th>\n",
       "      <th>系数0.5</th>\n",
       "      <th>系数1</th>\n",
       "      <th>系数1.5</th>\n",
       "      <th>系数2</th>\n",
       "      <th>系数2.5</th>\n",
       "      <th>系数3</th>\n",
       "    </tr>\n",
       "  </thead>\n",
       "  <tbody>\n",
       "    <tr>\n",
       "      <th>beibu</th>\n",
       "      <td>155938.0</td>\n",
       "      <td>77969.0</td>\n",
       "      <td>155938.0</td>\n",
       "      <td>233907.0</td>\n",
       "      <td>311876.0</td>\n",
       "      <td>389845.0</td>\n",
       "      <td>467814.0</td>\n",
       "    </tr>\n",
       "    <tr>\n",
       "      <th>dongbu</th>\n",
       "      <td>170478.0</td>\n",
       "      <td>85239.0</td>\n",
       "      <td>170478.0</td>\n",
       "      <td>255717.0</td>\n",
       "      <td>340956.0</td>\n",
       "      <td>426195.0</td>\n",
       "      <td>511434.0</td>\n",
       "    </tr>\n",
       "    <tr>\n",
       "      <th>futianA</th>\n",
       "      <td>106681.0</td>\n",
       "      <td>53340.5</td>\n",
       "      <td>106681.0</td>\n",
       "      <td>160021.5</td>\n",
       "      <td>213362.0</td>\n",
       "      <td>266702.5</td>\n",
       "      <td>320043.0</td>\n",
       "    </tr>\n",
       "    <tr>\n",
       "      <th>futianB</th>\n",
       "      <td>110875.0</td>\n",
       "      <td>55437.5</td>\n",
       "      <td>110875.0</td>\n",
       "      <td>166312.5</td>\n",
       "      <td>221750.0</td>\n",
       "      <td>277187.5</td>\n",
       "      <td>332625.0</td>\n",
       "    </tr>\n",
       "    <tr>\n",
       "      <th>luohu</th>\n",
       "      <td>61708.0</td>\n",
       "      <td>30854.0</td>\n",
       "      <td>61708.0</td>\n",
       "      <td>92562.0</td>\n",
       "      <td>123416.0</td>\n",
       "      <td>154270.0</td>\n",
       "      <td>185124.0</td>\n",
       "    </tr>\n",
       "    <tr>\n",
       "      <th>nanshan</th>\n",
       "      <td>125354.0</td>\n",
       "      <td>62677.0</td>\n",
       "      <td>125354.0</td>\n",
       "      <td>188031.0</td>\n",
       "      <td>250708.0</td>\n",
       "      <td>313385.0</td>\n",
       "      <td>376062.0</td>\n",
       "    </tr>\n",
       "    <tr>\n",
       "      <th>qita</th>\n",
       "      <td>48.0</td>\n",
       "      <td>24.0</td>\n",
       "      <td>48.0</td>\n",
       "      <td>72.0</td>\n",
       "      <td>96.0</td>\n",
       "      <td>120.0</td>\n",
       "      <td>144.0</td>\n",
       "    </tr>\n",
       "    <tr>\n",
       "      <th>xibu</th>\n",
       "      <td>208440.0</td>\n",
       "      <td>104220.0</td>\n",
       "      <td>208440.0</td>\n",
       "      <td>312660.0</td>\n",
       "      <td>416880.0</td>\n",
       "      <td>521100.0</td>\n",
       "      <td>625320.0</td>\n",
       "    </tr>\n",
       "  </tbody>\n",
       "</table>\n",
       "</div>"
      ],
      "text/plain": [
       "           车辆减少数量     系数0.5       系数1     系数1.5       系数2     系数2.5       系数3\n",
       "beibu    155938.0   77969.0  155938.0  233907.0  311876.0  389845.0  467814.0\n",
       "dongbu   170478.0   85239.0  170478.0  255717.0  340956.0  426195.0  511434.0\n",
       "futianA  106681.0   53340.5  106681.0  160021.5  213362.0  266702.5  320043.0\n",
       "futianB  110875.0   55437.5  110875.0  166312.5  221750.0  277187.5  332625.0\n",
       "luohu     61708.0   30854.0   61708.0   92562.0  123416.0  154270.0  185124.0\n",
       "nanshan  125354.0   62677.0  125354.0  188031.0  250708.0  313385.0  376062.0\n",
       "qita         48.0      24.0      48.0      72.0      96.0     120.0     144.0\n",
       "xibu     208440.0  104220.0  208440.0  312660.0  416880.0  521100.0  625320.0"
      ]
     },
     "execution_count": 20,
     "metadata": {},
     "output_type": "execute_result"
    }
   ],
   "source": [
    "#median_region乘上停车位供给系数（0.5-3）\n",
    "median_region_coefficient=pd.DataFrame()\n",
    "median_region_coefficient['系数0.5']=median_region*0.5\n",
    "median_region_coefficient['系数1']=median_region*1\n",
    "median_region_coefficient['系数1.5']=median_region*1.5\n",
    "median_region_coefficient['系数2']=median_region*2\n",
    "median_region_coefficient['系数2.5']=median_region*2.5\n",
    "median_region_coefficient['系数3']=median_region*3\n",
    "pd.concat([median_region,median_region_coefficient],axis=1).rename(columns={0:'车辆减少数量'})"
   ]
  },
  {
   "cell_type": "code",
   "execution_count": 21,
   "id": "d3f9df87",
   "metadata": {},
   "outputs": [
    {
     "data": {
      "text/html": [
       "<div>\n",
       "<style scoped>\n",
       "    .dataframe tbody tr th:only-of-type {\n",
       "        vertical-align: middle;\n",
       "    }\n",
       "\n",
       "    .dataframe tbody tr th {\n",
       "        vertical-align: top;\n",
       "    }\n",
       "\n",
       "    .dataframe thead th {\n",
       "        text-align: right;\n",
       "    }\n",
       "</style>\n",
       "<table border=\"1\" class=\"dataframe\">\n",
       "  <thead>\n",
       "    <tr style=\"text-align: right;\">\n",
       "      <th></th>\n",
       "      <th>车辆减少数量</th>\n",
       "      <th>系数0.5</th>\n",
       "      <th>系数1</th>\n",
       "      <th>系数1.5</th>\n",
       "      <th>系数2</th>\n",
       "      <th>系数2.5</th>\n",
       "      <th>系数3</th>\n",
       "    </tr>\n",
       "  </thead>\n",
       "  <tbody>\n",
       "    <tr>\n",
       "      <th>beibu</th>\n",
       "      <td>161893.2</td>\n",
       "      <td>80946.6</td>\n",
       "      <td>161893.2</td>\n",
       "      <td>242839.8</td>\n",
       "      <td>323786.4</td>\n",
       "      <td>404733.0</td>\n",
       "      <td>485679.6</td>\n",
       "    </tr>\n",
       "    <tr>\n",
       "      <th>dongbu</th>\n",
       "      <td>178412.0</td>\n",
       "      <td>89206.0</td>\n",
       "      <td>178412.0</td>\n",
       "      <td>267618.0</td>\n",
       "      <td>356824.0</td>\n",
       "      <td>446030.0</td>\n",
       "      <td>535236.0</td>\n",
       "    </tr>\n",
       "    <tr>\n",
       "      <th>futianA</th>\n",
       "      <td>107869.2</td>\n",
       "      <td>53934.6</td>\n",
       "      <td>107869.2</td>\n",
       "      <td>161803.8</td>\n",
       "      <td>215738.4</td>\n",
       "      <td>269673.0</td>\n",
       "      <td>323607.6</td>\n",
       "    </tr>\n",
       "    <tr>\n",
       "      <th>futianB</th>\n",
       "      <td>110705.6</td>\n",
       "      <td>55352.8</td>\n",
       "      <td>110705.6</td>\n",
       "      <td>166058.4</td>\n",
       "      <td>221411.2</td>\n",
       "      <td>276764.0</td>\n",
       "      <td>332116.8</td>\n",
       "    </tr>\n",
       "    <tr>\n",
       "      <th>luohu</th>\n",
       "      <td>65879.2</td>\n",
       "      <td>32939.6</td>\n",
       "      <td>65879.2</td>\n",
       "      <td>98818.8</td>\n",
       "      <td>131758.4</td>\n",
       "      <td>164698.0</td>\n",
       "      <td>197637.6</td>\n",
       "    </tr>\n",
       "    <tr>\n",
       "      <th>nanshan</th>\n",
       "      <td>128906.0</td>\n",
       "      <td>64453.0</td>\n",
       "      <td>128906.0</td>\n",
       "      <td>193359.0</td>\n",
       "      <td>257812.0</td>\n",
       "      <td>322265.0</td>\n",
       "      <td>386718.0</td>\n",
       "    </tr>\n",
       "    <tr>\n",
       "      <th>qita</th>\n",
       "      <td>47.6</td>\n",
       "      <td>23.8</td>\n",
       "      <td>47.6</td>\n",
       "      <td>71.4</td>\n",
       "      <td>95.2</td>\n",
       "      <td>119.0</td>\n",
       "      <td>142.8</td>\n",
       "    </tr>\n",
       "    <tr>\n",
       "      <th>xibu</th>\n",
       "      <td>217361.2</td>\n",
       "      <td>108680.6</td>\n",
       "      <td>217361.2</td>\n",
       "      <td>326041.8</td>\n",
       "      <td>434722.4</td>\n",
       "      <td>543403.0</td>\n",
       "      <td>652083.6</td>\n",
       "    </tr>\n",
       "  </tbody>\n",
       "</table>\n",
       "</div>"
      ],
      "text/plain": [
       "           车辆减少数量     系数0.5       系数1     系数1.5       系数2     系数2.5       系数3\n",
       "beibu    161893.2   80946.6  161893.2  242839.8  323786.4  404733.0  485679.6\n",
       "dongbu   178412.0   89206.0  178412.0  267618.0  356824.0  446030.0  535236.0\n",
       "futianA  107869.2   53934.6  107869.2  161803.8  215738.4  269673.0  323607.6\n",
       "futianB  110705.6   55352.8  110705.6  166058.4  221411.2  276764.0  332116.8\n",
       "luohu     65879.2   32939.6   65879.2   98818.8  131758.4  164698.0  197637.6\n",
       "nanshan  128906.0   64453.0  128906.0  193359.0  257812.0  322265.0  386718.0\n",
       "qita         47.6      23.8      47.6      71.4      95.2     119.0     142.8\n",
       "xibu     217361.2  108680.6  217361.2  326041.8  434722.4  543403.0  652083.6"
      ]
     },
     "execution_count": 21,
     "metadata": {},
     "output_type": "execute_result"
    }
   ],
   "source": [
    "#mean_region乘上停车位供给系数（0.5-3）\n",
    "mean_region_coefficient=pd.DataFrame()\n",
    "mean_region_coefficient['系数0.5']=mean_region*0.5\n",
    "mean_region_coefficient['系数1']=mean_region*1\n",
    "mean_region_coefficient['系数1.5']=mean_region*1.5\n",
    "mean_region_coefficient['系数2']=mean_region*2\n",
    "mean_region_coefficient['系数2.5']=mean_region*2.5\n",
    "mean_region_coefficient['系数3']=mean_region*3\n",
    "pd.concat([mean_region,mean_region_coefficient],axis=1).rename(columns={0:'车辆减少数量'})"
   ]
  },
  {
   "cell_type": "code",
   "execution_count": 27,
   "id": "4bf0f9bf",
   "metadata": {},
   "outputs": [],
   "source": [
    "#分空间的车辆减少数量（非工作日中位数）\n",
    "median_region_fei=(pd_jiedianByregion-pd_chuxinglianByregion).iloc[:,5:].median(axis=1)\n",
    "#分空间的车辆减少数量（非工作日平均数）\n",
    "mean_region_fei=(pd_jiedianByregion-pd_chuxinglianByregion).iloc[:,5:].mean(axis=1)"
   ]
  },
  {
   "cell_type": "code",
   "execution_count": 34,
   "id": "2d04af44",
   "metadata": {},
   "outputs": [
    {
     "data": {
      "text/plain": [
       "beibu      129173.5\n",
       "dongbu     155591.0\n",
       "futianA     75438.5\n",
       "futianB     89974.0\n",
       "luohu       58985.5\n",
       "nanshan     99843.0\n",
       "qita           42.5\n",
       "xibu       157000.5\n",
       "dtype: float64"
      ]
     },
     "execution_count": 34,
     "metadata": {},
     "output_type": "execute_result"
    }
   ],
   "source": [
    "(pd_jiedianByregion-pd_chuxinglianByregion).iloc[:,5:].mean(axis=1)"
   ]
  },
  {
   "cell_type": "code",
   "execution_count": 28,
   "id": "c9e58272",
   "metadata": {},
   "outputs": [
    {
     "data": {
      "text/html": [
       "<div>\n",
       "<style scoped>\n",
       "    .dataframe tbody tr th:only-of-type {\n",
       "        vertical-align: middle;\n",
       "    }\n",
       "\n",
       "    .dataframe tbody tr th {\n",
       "        vertical-align: top;\n",
       "    }\n",
       "\n",
       "    .dataframe thead th {\n",
       "        text-align: right;\n",
       "    }\n",
       "</style>\n",
       "<table border=\"1\" class=\"dataframe\">\n",
       "  <thead>\n",
       "    <tr style=\"text-align: right;\">\n",
       "      <th></th>\n",
       "      <th>车辆减少数量</th>\n",
       "      <th>系数0.5</th>\n",
       "      <th>系数1</th>\n",
       "      <th>系数1.5</th>\n",
       "      <th>系数2</th>\n",
       "      <th>系数2.5</th>\n",
       "      <th>系数3</th>\n",
       "    </tr>\n",
       "  </thead>\n",
       "  <tbody>\n",
       "    <tr>\n",
       "      <th>beibu</th>\n",
       "      <td>129173.5</td>\n",
       "      <td>64586.75</td>\n",
       "      <td>129173.5</td>\n",
       "      <td>193760.25</td>\n",
       "      <td>258347.0</td>\n",
       "      <td>322933.75</td>\n",
       "      <td>387520.5</td>\n",
       "    </tr>\n",
       "    <tr>\n",
       "      <th>dongbu</th>\n",
       "      <td>155591.0</td>\n",
       "      <td>77795.50</td>\n",
       "      <td>155591.0</td>\n",
       "      <td>233386.50</td>\n",
       "      <td>311182.0</td>\n",
       "      <td>388977.50</td>\n",
       "      <td>466773.0</td>\n",
       "    </tr>\n",
       "    <tr>\n",
       "      <th>futianA</th>\n",
       "      <td>75438.5</td>\n",
       "      <td>37719.25</td>\n",
       "      <td>75438.5</td>\n",
       "      <td>113157.75</td>\n",
       "      <td>150877.0</td>\n",
       "      <td>188596.25</td>\n",
       "      <td>226315.5</td>\n",
       "    </tr>\n",
       "    <tr>\n",
       "      <th>futianB</th>\n",
       "      <td>89974.0</td>\n",
       "      <td>44987.00</td>\n",
       "      <td>89974.0</td>\n",
       "      <td>134961.00</td>\n",
       "      <td>179948.0</td>\n",
       "      <td>224935.00</td>\n",
       "      <td>269922.0</td>\n",
       "    </tr>\n",
       "    <tr>\n",
       "      <th>luohu</th>\n",
       "      <td>58985.5</td>\n",
       "      <td>29492.75</td>\n",
       "      <td>58985.5</td>\n",
       "      <td>88478.25</td>\n",
       "      <td>117971.0</td>\n",
       "      <td>147463.75</td>\n",
       "      <td>176956.5</td>\n",
       "    </tr>\n",
       "    <tr>\n",
       "      <th>nanshan</th>\n",
       "      <td>99843.0</td>\n",
       "      <td>49921.50</td>\n",
       "      <td>99843.0</td>\n",
       "      <td>149764.50</td>\n",
       "      <td>199686.0</td>\n",
       "      <td>249607.50</td>\n",
       "      <td>299529.0</td>\n",
       "    </tr>\n",
       "    <tr>\n",
       "      <th>qita</th>\n",
       "      <td>42.5</td>\n",
       "      <td>21.25</td>\n",
       "      <td>42.5</td>\n",
       "      <td>63.75</td>\n",
       "      <td>85.0</td>\n",
       "      <td>106.25</td>\n",
       "      <td>127.5</td>\n",
       "    </tr>\n",
       "    <tr>\n",
       "      <th>xibu</th>\n",
       "      <td>157000.5</td>\n",
       "      <td>78500.25</td>\n",
       "      <td>157000.5</td>\n",
       "      <td>235500.75</td>\n",
       "      <td>314001.0</td>\n",
       "      <td>392501.25</td>\n",
       "      <td>471001.5</td>\n",
       "    </tr>\n",
       "  </tbody>\n",
       "</table>\n",
       "</div>"
      ],
      "text/plain": [
       "           车辆减少数量     系数0.5       系数1      系数1.5       系数2      系数2.5  \\\n",
       "beibu    129173.5  64586.75  129173.5  193760.25  258347.0  322933.75   \n",
       "dongbu   155591.0  77795.50  155591.0  233386.50  311182.0  388977.50   \n",
       "futianA   75438.5  37719.25   75438.5  113157.75  150877.0  188596.25   \n",
       "futianB   89974.0  44987.00   89974.0  134961.00  179948.0  224935.00   \n",
       "luohu     58985.5  29492.75   58985.5   88478.25  117971.0  147463.75   \n",
       "nanshan   99843.0  49921.50   99843.0  149764.50  199686.0  249607.50   \n",
       "qita         42.5     21.25      42.5      63.75      85.0     106.25   \n",
       "xibu     157000.5  78500.25  157000.5  235500.75  314001.0  392501.25   \n",
       "\n",
       "              系数3  \n",
       "beibu    387520.5  \n",
       "dongbu   466773.0  \n",
       "futianA  226315.5  \n",
       "futianB  269922.0  \n",
       "luohu    176956.5  \n",
       "nanshan  299529.0  \n",
       "qita        127.5  \n",
       "xibu     471001.5  "
      ]
     },
     "execution_count": 28,
     "metadata": {},
     "output_type": "execute_result"
    }
   ],
   "source": [
    "#median_region_fei乘上停车位供给系数（0.5-3）\n",
    "median_region_fei_coefficient=pd.DataFrame()\n",
    "median_region_fei_coefficient['系数0.5']=median_region_fei*0.5\n",
    "median_region_fei_coefficient['系数1']=median_region_fei*1\n",
    "median_region_fei_coefficient['系数1.5']=median_region_fei*1.5\n",
    "median_region_fei_coefficient['系数2']=median_region_fei*2\n",
    "median_region_fei_coefficient['系数2.5']=median_region_fei*2.5\n",
    "median_region_fei_coefficient['系数3']=median_region_fei*3\n",
    "pd.concat([median_region_fei,median_region_fei_coefficient],axis=1).rename(columns={0:'车辆减少数量'})"
   ]
  },
  {
   "cell_type": "code",
   "execution_count": 29,
   "id": "39088188",
   "metadata": {},
   "outputs": [
    {
     "data": {
      "text/html": [
       "<div>\n",
       "<style scoped>\n",
       "    .dataframe tbody tr th:only-of-type {\n",
       "        vertical-align: middle;\n",
       "    }\n",
       "\n",
       "    .dataframe tbody tr th {\n",
       "        vertical-align: top;\n",
       "    }\n",
       "\n",
       "    .dataframe thead th {\n",
       "        text-align: right;\n",
       "    }\n",
       "</style>\n",
       "<table border=\"1\" class=\"dataframe\">\n",
       "  <thead>\n",
       "    <tr style=\"text-align: right;\">\n",
       "      <th></th>\n",
       "      <th>车辆减少数量</th>\n",
       "      <th>系数0.5</th>\n",
       "      <th>系数1</th>\n",
       "      <th>系数1.5</th>\n",
       "      <th>系数2</th>\n",
       "      <th>系数2.5</th>\n",
       "      <th>系数3</th>\n",
       "    </tr>\n",
       "  </thead>\n",
       "  <tbody>\n",
       "    <tr>\n",
       "      <th>beibu</th>\n",
       "      <td>129173.5</td>\n",
       "      <td>64586.75</td>\n",
       "      <td>129173.5</td>\n",
       "      <td>193760.25</td>\n",
       "      <td>258347.0</td>\n",
       "      <td>322933.75</td>\n",
       "      <td>387520.5</td>\n",
       "    </tr>\n",
       "    <tr>\n",
       "      <th>dongbu</th>\n",
       "      <td>155591.0</td>\n",
       "      <td>77795.50</td>\n",
       "      <td>155591.0</td>\n",
       "      <td>233386.50</td>\n",
       "      <td>311182.0</td>\n",
       "      <td>388977.50</td>\n",
       "      <td>466773.0</td>\n",
       "    </tr>\n",
       "    <tr>\n",
       "      <th>futianA</th>\n",
       "      <td>75438.5</td>\n",
       "      <td>37719.25</td>\n",
       "      <td>75438.5</td>\n",
       "      <td>113157.75</td>\n",
       "      <td>150877.0</td>\n",
       "      <td>188596.25</td>\n",
       "      <td>226315.5</td>\n",
       "    </tr>\n",
       "    <tr>\n",
       "      <th>futianB</th>\n",
       "      <td>89974.0</td>\n",
       "      <td>44987.00</td>\n",
       "      <td>89974.0</td>\n",
       "      <td>134961.00</td>\n",
       "      <td>179948.0</td>\n",
       "      <td>224935.00</td>\n",
       "      <td>269922.0</td>\n",
       "    </tr>\n",
       "    <tr>\n",
       "      <th>luohu</th>\n",
       "      <td>58985.5</td>\n",
       "      <td>29492.75</td>\n",
       "      <td>58985.5</td>\n",
       "      <td>88478.25</td>\n",
       "      <td>117971.0</td>\n",
       "      <td>147463.75</td>\n",
       "      <td>176956.5</td>\n",
       "    </tr>\n",
       "    <tr>\n",
       "      <th>nanshan</th>\n",
       "      <td>99843.0</td>\n",
       "      <td>49921.50</td>\n",
       "      <td>99843.0</td>\n",
       "      <td>149764.50</td>\n",
       "      <td>199686.0</td>\n",
       "      <td>249607.50</td>\n",
       "      <td>299529.0</td>\n",
       "    </tr>\n",
       "    <tr>\n",
       "      <th>qita</th>\n",
       "      <td>42.5</td>\n",
       "      <td>21.25</td>\n",
       "      <td>42.5</td>\n",
       "      <td>63.75</td>\n",
       "      <td>85.0</td>\n",
       "      <td>106.25</td>\n",
       "      <td>127.5</td>\n",
       "    </tr>\n",
       "    <tr>\n",
       "      <th>xibu</th>\n",
       "      <td>157000.5</td>\n",
       "      <td>78500.25</td>\n",
       "      <td>157000.5</td>\n",
       "      <td>235500.75</td>\n",
       "      <td>314001.0</td>\n",
       "      <td>392501.25</td>\n",
       "      <td>471001.5</td>\n",
       "    </tr>\n",
       "  </tbody>\n",
       "</table>\n",
       "</div>"
      ],
      "text/plain": [
       "           车辆减少数量     系数0.5       系数1      系数1.5       系数2      系数2.5  \\\n",
       "beibu    129173.5  64586.75  129173.5  193760.25  258347.0  322933.75   \n",
       "dongbu   155591.0  77795.50  155591.0  233386.50  311182.0  388977.50   \n",
       "futianA   75438.5  37719.25   75438.5  113157.75  150877.0  188596.25   \n",
       "futianB   89974.0  44987.00   89974.0  134961.00  179948.0  224935.00   \n",
       "luohu     58985.5  29492.75   58985.5   88478.25  117971.0  147463.75   \n",
       "nanshan   99843.0  49921.50   99843.0  149764.50  199686.0  249607.50   \n",
       "qita         42.5     21.25      42.5      63.75      85.0     106.25   \n",
       "xibu     157000.5  78500.25  157000.5  235500.75  314001.0  392501.25   \n",
       "\n",
       "              系数3  \n",
       "beibu    387520.5  \n",
       "dongbu   466773.0  \n",
       "futianA  226315.5  \n",
       "futianB  269922.0  \n",
       "luohu    176956.5  \n",
       "nanshan  299529.0  \n",
       "qita        127.5  \n",
       "xibu     471001.5  "
      ]
     },
     "execution_count": 29,
     "metadata": {},
     "output_type": "execute_result"
    }
   ],
   "source": [
    "#mean_region_fei乘上停车位供给系数（0.5-3）  因为只有两天，平均数与中位数一样。\n",
    "mean_region_fei_coefficient=pd.DataFrame()\n",
    "mean_region_fei_coefficient['系数0.5']=mean_region_fei*0.5\n",
    "mean_region_fei_coefficient['系数1']=mean_region_fei*1\n",
    "mean_region_fei_coefficient['系数1.5']=mean_region_fei*1.5\n",
    "mean_region_fei_coefficient['系数2']=mean_region_fei*2\n",
    "mean_region_fei_coefficient['系数2.5']=mean_region_fei*2.5\n",
    "mean_region_fei_coefficient['系数3']=mean_region_fei*3\n",
    "pd.concat([mean_region_fei,mean_region_fei_coefficient],axis=1).rename(columns={0:'车辆减少数量'})"
   ]
  },
  {
   "cell_type": "code",
   "execution_count": 48,
   "id": "a425ce8d",
   "metadata": {},
   "outputs": [
    {
     "data": {
      "text/plain": [
       "beibu      30630.4\n",
       "dongbu     22701.0\n",
       "futianA    12988.4\n",
       "futianB    13097.2\n",
       "luohu       7698.8\n",
       "nanshan    15009.4\n",
       "xibu       17971.6\n",
       "qita           0.0\n",
       "dtype: float64"
      ]
     },
     "execution_count": 48,
     "metadata": {},
     "output_type": "execute_result"
    }
   ],
   "source": [
    "#减少后的车辆数（工作日平均数）\n",
    "pd_chuxinglianByregion.iloc[:,:5].mean(axis=1)"
   ]
  },
  {
   "cell_type": "code",
   "execution_count": 49,
   "id": "5f62645e",
   "metadata": {},
   "outputs": [
    {
     "data": {
      "text/plain": [
       "beibu      30360.0\n",
       "dongbu     21461.0\n",
       "futianA    12894.0\n",
       "futianB    12805.0\n",
       "luohu       7562.0\n",
       "nanshan    15029.0\n",
       "xibu       18084.0\n",
       "qita           0.0\n",
       "dtype: float64"
      ]
     },
     "execution_count": 49,
     "metadata": {},
     "output_type": "execute_result"
    }
   ],
   "source": [
    "#减少后的车辆数（工作日中位数）\n",
    "pd_chuxinglianByregion.iloc[:,:5].median(axis=1)"
   ]
  },
  {
   "cell_type": "code",
   "execution_count": 50,
   "id": "f5b1d73c",
   "metadata": {},
   "outputs": [
    {
     "data": {
      "text/plain": [
       "beibu      23313.0\n",
       "dongbu     17804.5\n",
       "futianA     9181.0\n",
       "futianB     9245.0\n",
       "luohu       4896.0\n",
       "nanshan     9732.0\n",
       "xibu       18899.0\n",
       "qita           0.0\n",
       "dtype: float64"
      ]
     },
     "execution_count": 50,
     "metadata": {},
     "output_type": "execute_result"
    }
   ],
   "source": [
    "#减少后的车辆数（非工作日平均数）\n",
    "pd_chuxinglianByregion.iloc[:,5:].mean(axis=1)"
   ]
  },
  {
   "cell_type": "code",
   "execution_count": 51,
   "id": "df14ffbc",
   "metadata": {},
   "outputs": [
    {
     "data": {
      "text/plain": [
       "beibu      23313.0\n",
       "dongbu     17804.5\n",
       "futianA     9181.0\n",
       "futianB     9245.0\n",
       "luohu       4896.0\n",
       "nanshan     9732.0\n",
       "xibu       18899.0\n",
       "qita           0.0\n",
       "dtype: float64"
      ]
     },
     "execution_count": 51,
     "metadata": {},
     "output_type": "execute_result"
    }
   ],
   "source": [
    "#减少后的车辆数（非工作日中位数）\n",
    "pd_chuxinglianByregion.iloc[:,5:].median(axis=1)"
   ]
  },
  {
   "cell_type": "code",
   "execution_count": null,
   "id": "1839fae8",
   "metadata": {},
   "outputs": [],
   "source": []
  }
 ],
 "metadata": {
  "kernelspec": {
   "display_name": "Python 3",
   "language": "python",
   "name": "python3"
  },
  "language_info": {
   "codemirror_mode": {
    "name": "ipython",
    "version": 3
   },
   "file_extension": ".py",
   "mimetype": "text/x-python",
   "name": "python",
   "nbconvert_exporter": "python",
   "pygments_lexer": "ipython3",
   "version": "3.8.8"
  }
 },
 "nbformat": 4,
 "nbformat_minor": 5
}
