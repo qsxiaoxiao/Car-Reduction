{
 "cells": [
  {
   "cell_type": "markdown",
   "metadata": {},
   "source": [
    "# 用训练好的模型预测12.06-12.11的数据"
   ]
  },
  {
   "cell_type": "code",
   "execution_count": 1,
   "metadata": {},
   "outputs": [
    {
     "name": "stderr",
     "output_type": "stream",
     "text": [
      "D:\\Anaconda\\lib\\site-packages\\sklearn\\externals\\joblib\\__init__.py:15: DeprecationWarning: sklearn.externals.joblib is deprecated in 0.21 and will be removed in 0.23. Please import this functionality directly from joblib, which can be installed with: pip install joblib. If this warning is raised when loading pickled models, you may need to re-serialize those models with scikit-learn 0.21+.\n",
      "  warnings.warn(msg, category=DeprecationWarning)\n",
      "D:\\Anaconda\\lib\\site-packages\\sklearn\\externals\\six.py:31: DeprecationWarning: The module is deprecated in version 0.21 and will be removed in version 0.23 since we've dropped support for Python 2.7. Please rely on the official version of six (https://pypi.org/project/six/).\n",
      "  \"(https://pypi.org/project/six/).\", DeprecationWarning)\n"
     ]
    }
   ],
   "source": [
    "from sklearn.externals import joblib\n",
    "\n",
    "rf=joblib.load(r'C:\\Users\\Jeremy\\Desktop\\rf_all.pickle')\n",
    "estimator=joblib.load(r'C:\\Users\\Jeremy\\Desktop\\estimator_all.pickle')\n",
    "bc=joblib.load(r'C:\\Users\\Jeremy\\Desktop\\bc_all.pickle')\n",
    "rf2=joblib.load(r'C:\\Users\\Jeremy\\Desktop\\rf2_all.pickle')"
   ]
  },
  {
   "cell_type": "code",
   "execution_count": 2,
   "metadata": {},
   "outputs": [
    {
     "name": "stdout",
     "output_type": "stream",
     "text": [
      "949611 data points and 40 features\n",
      "12038 positive out of 949611 total\n",
      "1111111111111111111111111111111\n",
      "2222222222222222222222222222222222\n",
      "33333333333333333333333333333333\n",
      "44444444444444444444444444444444444\n",
      "          truth  output_std  output_bag  output_skb  output_stp  output_all\n",
      "21545221    1.0       0.503         0.0       0.798       0.535    0.346000\n",
      "21533559    1.0       0.534         0.0       0.833       0.518    0.350667\n",
      "21534659    1.0       0.368         1.0       0.811       0.397    0.588333\n",
      "21546250    1.0       0.432         0.0       0.643       0.438    0.290000\n",
      "21528498    1.0       0.489         0.0       0.902       0.498    0.329000\n",
      "...         ...         ...         ...         ...         ...         ...\n",
      "21715205    0.0       0.000         0.0       0.001       0.000    0.000000\n",
      "24010573    0.0       0.000         0.0       0.376       0.000    0.000000\n",
      "21428917    0.0       0.000         0.0       0.003       0.000    0.000000\n",
      "28031624    0.0       0.000         0.0       0.000       0.000    0.000000\n",
      "22592135    0.0       0.000         0.0       0.009       0.000    0.000000\n",
      "\n",
      "[949611 rows x 6 columns]\n"
     ]
    }
   ],
   "source": [
    "import pandas as pd\n",
    "import numpy as np\n",
    "\n",
    "df_chuzuche_feature=pd.read_csv(open(r'C:\\Users\\Jeremy\\Desktop\\2019.12.18\\20161206_title_chuzuche_yueB_regular_zhibiao.csv'),header=0,index_col='car_id')\n",
    "df_chuzuche_time_feature=pd.read_csv(open(r'C:\\Users\\Jeremy\\Desktop\\2019.12.18\\20161206_title_chuzuche_time_yueB_regular_zhibiao.csv'),header=0,index_col='car_id')\n",
    "df_chuzuche_feature=pd.merge(df_chuzuche_feature,df_chuzuche_time_feature,how='inner',on='car_id')\n",
    "df_chuzuche_feature=df_chuzuche_feature.dropna()#删除所有有空值的行\n",
    "#df_chuzuche_feature.reset_index(drop=True,inplace=True)#重置索引\n",
    "df_shehuiche_feature=pd.read_csv(open(r'C:\\Users\\Jeremy\\Desktop\\2019.12.18\\20161206_title_shehuiche_yueB_regular_zhibiao.csv'),header=0,index_col='car_id')\n",
    "df_shehuiche_time_feature=pd.read_csv(open(r'C:\\Users\\Jeremy\\Desktop\\2019.12.18\\20161206_title_shehuiche_time_yueB_regular_zhibiao.csv'),header=0,index_col='car_id')\n",
    "df_shehuiche_feature=pd.merge(df_shehuiche_feature,df_shehuiche_time_feature,how='inner',on='car_id')\n",
    "df_shehuiche_feature=df_shehuiche_feature.dropna()#删除所有有空值的行\n",
    "#df_shehuiche_feature.reset_index(drop=True,inplace=True)#重置索引\n",
    "X=pd.concat([df_chuzuche_feature,df_shehuiche_feature])\n",
    "#X.reset_index(drop=True,inplace=True)#重置索引\n",
    "y = np.zeros(len(df_chuzuche_feature)+len(df_shehuiche_feature))\n",
    "y[:len(df_chuzuche_feature)] = 1.0\n",
    "car_id=list(X.index)#删除只出行一次的车辆，car_id表示出行次数大于1的车辆ID\n",
    "y = pd.Series(y,index=car_id)\n",
    "print('%d data points and %d features' % (X.shape))\n",
    "print('%d positive out of %d total' % (sum(y), len(y)))\n",
    "\n",
    "results = pd.DataFrame({\n",
    "    'truth'      : y,        # The labels to be shown to models in experiment\n",
    "    'output_std' : rf.predict_proba(X)[:,1]   # The random forest's scores；第i行第j列上的数值是模型预测第i个预测样本为某个标签的概率\n",
    "}, columns = ['truth', 'output_std'])\n",
    "print(\"1111111111111111111111111111111\")\n",
    "\n",
    "results['output_bag']=estimator.predict_proba(X)[:,1]\n",
    "print(\"2222222222222222222222222222222222\")\n",
    "\n",
    "results['output_skb'] = bc.predict_proba(X)[:,1]\n",
    "print(\"33333333333333333333333333333333\")\n",
    "\n",
    "results['output_stp'] = rf2.predict_proba(X)[:,-1] #6000个样本为1的概率\n",
    "print(\"44444444444444444444444444444444444\")\n",
    "\n",
    "results['output_all'] = results[[\n",
    "    'output_std', 'output_bag', 'output_stp'\n",
    "]].mean(axis = 1)#三种方法计算每个样本为1的平均概率。output_std为标准分类，output_bag为bagging分类，output_skb也是bagging分类，output_stp为两步法\n",
    "\n",
    "results_chuzuche=results.iloc[:len(df_chuzuche_feature)]\n",
    "print(results)\n",
    "results.index.name='car_id'\n",
    "results.to_csv(r'C:\\Users\\Jeremy\\Desktop\\2019.12.18\\20161206_results_all.csv')"
   ]
  },
  {
   "cell_type": "code",
   "execution_count": 3,
   "metadata": {},
   "outputs": [
    {
     "name": "stdout",
     "output_type": "stream",
     "text": [
      "949741 data points and 40 features\n",
      "12066 positive out of 949741 total\n",
      "1111111111111111111111111111111\n",
      "2222222222222222222222222222222222\n",
      "33333333333333333333333333333333\n",
      "44444444444444444444444444444444444\n",
      "          truth  output_std  output_bag  output_skb  output_stp  output_all\n",
      "21520741    1.0       0.541         0.0       0.876       0.546    0.362333\n",
      "21417202    1.0       0.360         0.0       0.823       0.378    0.246000\n",
      "21527060    1.0       0.531         0.0       0.840       0.544    0.358333\n",
      "21526276    1.0       0.461         1.0       0.816       0.459    0.640000\n",
      "21553527    1.0       0.546         1.0       0.925       0.556    0.700667\n",
      "...         ...         ...         ...         ...         ...         ...\n",
      "22473514    0.0       0.000         0.0       0.002       0.000    0.000000\n",
      "24214738    0.0       0.000         0.0       0.000       0.000    0.000000\n",
      "21994999    0.0       0.000         0.0       0.000       0.000    0.000000\n",
      "22475994    0.0       0.000         0.0       0.009       0.000    0.000000\n",
      "22598938    0.0       0.000         0.0       0.019       0.000    0.000000\n",
      "\n",
      "[949741 rows x 6 columns]\n"
     ]
    }
   ],
   "source": [
    "import pandas as pd\n",
    "import numpy as np\n",
    "\n",
    "df_chuzuche_feature=pd.read_csv(open(r'C:\\Users\\Jeremy\\Desktop\\2019.12.18\\20161207_title_chuzuche_yueB_regular_zhibiao.csv'),header=0,index_col='car_id')\n",
    "df_chuzuche_time_feature=pd.read_csv(open(r'C:\\Users\\Jeremy\\Desktop\\2019.12.18\\20161207_title_chuzuche_time_yueB_regular_zhibiao.csv'),header=0,index_col='car_id')\n",
    "df_chuzuche_feature=pd.merge(df_chuzuche_feature,df_chuzuche_time_feature,how='inner',on='car_id')\n",
    "df_chuzuche_feature=df_chuzuche_feature.dropna()#删除所有有空值的行\n",
    "#df_chuzuche_feature.reset_index(drop=True,inplace=True)#重置索引\n",
    "df_shehuiche_feature=pd.read_csv(open(r'C:\\Users\\Jeremy\\Desktop\\2019.12.18\\20161207_title_shehuiche_yueB_regular_zhibiao.csv'),header=0,index_col='car_id')\n",
    "df_shehuiche_time_feature=pd.read_csv(open(r'C:\\Users\\Jeremy\\Desktop\\2019.12.18\\20161207_title_shehuiche_time_yueB_regular_zhibiao.csv'),header=0,index_col='car_id')\n",
    "df_shehuiche_feature=pd.merge(df_shehuiche_feature,df_shehuiche_time_feature,how='inner',on='car_id')\n",
    "df_shehuiche_feature=df_shehuiche_feature.dropna()#删除所有有空值的行\n",
    "#df_shehuiche_feature.reset_index(drop=True,inplace=True)#重置索引\n",
    "X=pd.concat([df_chuzuche_feature,df_shehuiche_feature])\n",
    "#X.reset_index(drop=True,inplace=True)#重置索引\n",
    "y = np.zeros(len(df_chuzuche_feature)+len(df_shehuiche_feature))\n",
    "y[:len(df_chuzuche_feature)] = 1.0\n",
    "car_id=list(X.index)#删除只出行一次的车辆，car_id表示出行次数大于1的车辆ID\n",
    "y = pd.Series(y,index=car_id)\n",
    "print('%d data points and %d features' % (X.shape))\n",
    "print('%d positive out of %d total' % (sum(y), len(y)))\n",
    "\n",
    "results = pd.DataFrame({\n",
    "    'truth'      : y,        # The labels to be shown to models in experiment\n",
    "    'output_std' : rf.predict_proba(X)[:,1]   # The random forest's scores；第i行第j列上的数值是模型预测第i个预测样本为某个标签的概率\n",
    "}, columns = ['truth', 'output_std'])\n",
    "print(\"1111111111111111111111111111111\")\n",
    "\n",
    "results['output_bag']=estimator.predict_proba(X)[:,1]\n",
    "print(\"2222222222222222222222222222222222\")\n",
    "\n",
    "results['output_skb'] = bc.predict_proba(X)[:,1]\n",
    "print(\"33333333333333333333333333333333\")\n",
    "\n",
    "results['output_stp'] = rf2.predict_proba(X)[:,-1] #6000个样本为1的概率\n",
    "print(\"44444444444444444444444444444444444\")\n",
    "\n",
    "results['output_all'] = results[[\n",
    "    'output_std', 'output_bag', 'output_stp'\n",
    "]].mean(axis = 1)#三种方法计算每个样本为1的平均概率。output_std为标准分类，output_bag为bagging分类，output_skb也是bagging分类，output_stp为两步法\n",
    "\n",
    "results_chuzuche=results.iloc[:len(df_chuzuche_feature)]\n",
    "print(results)\n",
    "results.index.name='car_id'\n",
    "results.to_csv(r'C:\\Users\\Jeremy\\Desktop\\2019.12.18\\20161207_results_all.csv')"
   ]
  },
  {
   "cell_type": "code",
   "execution_count": 4,
   "metadata": {},
   "outputs": [
    {
     "name": "stdout",
     "output_type": "stream",
     "text": [
      "945228 data points and 40 features\n",
      "12030 positive out of 945228 total\n",
      "1111111111111111111111111111111\n",
      "2222222222222222222222222222222222\n",
      "33333333333333333333333333333333\n",
      "44444444444444444444444444444444444\n",
      "          truth  output_std  output_bag  output_skb  output_stp  output_all\n",
      "21404880    1.0       0.553         0.0       0.844       0.535    0.362667\n",
      "21549273    1.0       0.447         0.0       0.798       0.423    0.290000\n",
      "21704610    1.0       0.568         0.0       0.873       0.563    0.377000\n",
      "21527060    1.0       0.479         0.0       0.831       0.513    0.330667\n",
      "21522952    1.0       0.518         0.0       0.828       0.498    0.338667\n",
      "...         ...         ...         ...         ...         ...         ...\n",
      "22808568    0.0       0.000         0.0       0.014       0.000    0.000000\n",
      "23261654    0.0       0.000         0.0       0.000       0.000    0.000000\n",
      "22926864    0.0       0.000         0.0       0.017       0.000    0.000000\n",
      "22570919    0.0       0.000         0.0       0.031       0.000    0.000000\n",
      "24499001    0.0       0.000         0.0       0.000       0.000    0.000000\n",
      "\n",
      "[945228 rows x 6 columns]\n"
     ]
    }
   ],
   "source": [
    "import pandas as pd\n",
    "import numpy as np\n",
    "\n",
    "df_chuzuche_feature=pd.read_csv(open(r'C:\\Users\\Jeremy\\Desktop\\2019.12.18\\20161208_title_chuzuche_yueB_regular_zhibiao.csv'),header=0,index_col='car_id')\n",
    "df_chuzuche_time_feature=pd.read_csv(open(r'C:\\Users\\Jeremy\\Desktop\\2019.12.18\\20161208_title_chuzuche_time_yueB_regular_zhibiao.csv'),header=0,index_col='car_id')\n",
    "df_chuzuche_feature=pd.merge(df_chuzuche_feature,df_chuzuche_time_feature,how='inner',on='car_id')\n",
    "df_chuzuche_feature=df_chuzuche_feature.dropna()#删除所有有空值的行\n",
    "#df_chuzuche_feature.reset_index(drop=True,inplace=True)#重置索引\n",
    "df_shehuiche_feature=pd.read_csv(open(r'C:\\Users\\Jeremy\\Desktop\\2019.12.18\\20161208_title_shehuiche_yueB_regular_zhibiao.csv'),header=0,index_col='car_id')\n",
    "df_shehuiche_time_feature=pd.read_csv(open(r'C:\\Users\\Jeremy\\Desktop\\2019.12.18\\20161208_title_shehuiche_time_yueB_regular_zhibiao.csv'),header=0,index_col='car_id')\n",
    "df_shehuiche_feature=pd.merge(df_shehuiche_feature,df_shehuiche_time_feature,how='inner',on='car_id')\n",
    "df_shehuiche_feature=df_shehuiche_feature.dropna()#删除所有有空值的行\n",
    "#df_shehuiche_feature.reset_index(drop=True,inplace=True)#重置索引\n",
    "X=pd.concat([df_chuzuche_feature,df_shehuiche_feature])\n",
    "#X.reset_index(drop=True,inplace=True)#重置索引\n",
    "y = np.zeros(len(df_chuzuche_feature)+len(df_shehuiche_feature))\n",
    "y[:len(df_chuzuche_feature)] = 1.0\n",
    "car_id=list(X.index)#删除只出行一次的车辆，car_id表示出行次数大于1的车辆ID\n",
    "y = pd.Series(y,index=car_id)\n",
    "print('%d data points and %d features' % (X.shape))\n",
    "print('%d positive out of %d total' % (sum(y), len(y)))\n",
    "\n",
    "results = pd.DataFrame({\n",
    "    'truth'      : y,        # The labels to be shown to models in experiment\n",
    "    'output_std' : rf.predict_proba(X)[:,1]   # The random forest's scores；第i行第j列上的数值是模型预测第i个预测样本为某个标签的概率\n",
    "}, columns = ['truth', 'output_std'])\n",
    "print(\"1111111111111111111111111111111\")\n",
    "\n",
    "results['output_bag']=estimator.predict_proba(X)[:,1]\n",
    "print(\"2222222222222222222222222222222222\")\n",
    "\n",
    "results['output_skb'] = bc.predict_proba(X)[:,1]\n",
    "print(\"33333333333333333333333333333333\")\n",
    "\n",
    "results['output_stp'] = rf2.predict_proba(X)[:,-1] #6000个样本为1的概率\n",
    "print(\"44444444444444444444444444444444444\")\n",
    "\n",
    "results['output_all'] = results[[\n",
    "    'output_std', 'output_bag', 'output_stp'\n",
    "]].mean(axis = 1)#三种方法计算每个样本为1的平均概率。output_std为标准分类，output_bag为bagging分类，output_skb也是bagging分类，output_stp为两步法\n",
    "\n",
    "results_chuzuche=results.iloc[:len(df_chuzuche_feature)]\n",
    "print(results)\n",
    "results.index.name='car_id'\n",
    "results.to_csv(r'C:\\Users\\Jeremy\\Desktop\\2019.12.18\\20161208_results_all.csv')"
   ]
  },
  {
   "cell_type": "code",
   "execution_count": 5,
   "metadata": {},
   "outputs": [
    {
     "name": "stdout",
     "output_type": "stream",
     "text": [
      "966316 data points and 40 features\n",
      "12051 positive out of 966316 total\n",
      "1111111111111111111111111111111\n",
      "2222222222222222222222222222222222\n",
      "33333333333333333333333333333333\n",
      "44444444444444444444444444444444444\n",
      "          truth  output_std  output_bag  output_skb  output_stp  output_all\n",
      "21545221    1.0       0.486         0.0       0.755       0.489    0.325000\n",
      "21522952    1.0       0.476         0.0       0.720       0.489    0.321667\n",
      "21457066    1.0       0.510         0.0       0.871       0.505    0.338333\n",
      "21717676    1.0       0.562         1.0       0.926       0.575    0.712333\n",
      "22381640    1.0       0.624         1.0       0.945       0.624    0.749333\n",
      "...         ...         ...         ...         ...         ...         ...\n",
      "21956223    0.0       0.000         0.0       0.001       0.000    0.000000\n",
      "23245538    0.0       0.000         0.0       0.000       0.000    0.000000\n",
      "23151497    0.0       0.000         0.0       0.006       0.000    0.000000\n",
      "23344634    0.0       0.000         0.0       0.000       0.000    0.000000\n",
      "23503769    0.0       0.000         0.0       0.000       0.000    0.000000\n",
      "\n",
      "[966316 rows x 6 columns]\n"
     ]
    }
   ],
   "source": [
    "import pandas as pd\n",
    "import numpy as np\n",
    "\n",
    "df_chuzuche_feature=pd.read_csv(open(r'C:\\Users\\Jeremy\\Desktop\\2019.12.18\\20161209_title_chuzuche_yueB_regular_zhibiao.csv'),header=0,index_col='car_id')\n",
    "df_chuzuche_time_feature=pd.read_csv(open(r'C:\\Users\\Jeremy\\Desktop\\2019.12.18\\20161209_title_chuzuche_time_yueB_regular_zhibiao.csv'),header=0,index_col='car_id')\n",
    "df_chuzuche_feature=pd.merge(df_chuzuche_feature,df_chuzuche_time_feature,how='inner',on='car_id')\n",
    "df_chuzuche_feature=df_chuzuche_feature.dropna()#删除所有有空值的行\n",
    "#df_chuzuche_feature.reset_index(drop=True,inplace=True)#重置索引\n",
    "df_shehuiche_feature=pd.read_csv(open(r'C:\\Users\\Jeremy\\Desktop\\2019.12.18\\20161209_title_shehuiche_yueB_regular_zhibiao.csv'),header=0,index_col='car_id')\n",
    "df_shehuiche_time_feature=pd.read_csv(open(r'C:\\Users\\Jeremy\\Desktop\\2019.12.18\\20161209_title_shehuiche_time_yueB_regular_zhibiao.csv'),header=0,index_col='car_id')\n",
    "df_shehuiche_feature=pd.merge(df_shehuiche_feature,df_shehuiche_time_feature,how='inner',on='car_id')\n",
    "df_shehuiche_feature=df_shehuiche_feature.dropna()#删除所有有空值的行\n",
    "#df_shehuiche_feature.reset_index(drop=True,inplace=True)#重置索引\n",
    "X=pd.concat([df_chuzuche_feature,df_shehuiche_feature])\n",
    "#X.reset_index(drop=True,inplace=True)#重置索引\n",
    "y = np.zeros(len(df_chuzuche_feature)+len(df_shehuiche_feature))\n",
    "y[:len(df_chuzuche_feature)] = 1.0\n",
    "car_id=list(X.index)#删除只出行一次的车辆，car_id表示出行次数大于1的车辆ID\n",
    "y = pd.Series(y,index=car_id)\n",
    "print('%d data points and %d features' % (X.shape))\n",
    "print('%d positive out of %d total' % (sum(y), len(y)))\n",
    "\n",
    "results = pd.DataFrame({\n",
    "    'truth'      : y,        # The labels to be shown to models in experiment\n",
    "    'output_std' : rf.predict_proba(X)[:,1]   # The random forest's scores；第i行第j列上的数值是模型预测第i个预测样本为某个标签的概率\n",
    "}, columns = ['truth', 'output_std'])\n",
    "print(\"1111111111111111111111111111111\")\n",
    "\n",
    "results['output_bag']=estimator.predict_proba(X)[:,1]\n",
    "print(\"2222222222222222222222222222222222\")\n",
    "\n",
    "results['output_skb'] = bc.predict_proba(X)[:,1]\n",
    "print(\"33333333333333333333333333333333\")\n",
    "\n",
    "results['output_stp'] = rf2.predict_proba(X)[:,-1] #6000个样本为1的概率\n",
    "print(\"44444444444444444444444444444444444\")\n",
    "\n",
    "results['output_all'] = results[[\n",
    "    'output_std', 'output_bag', 'output_stp'\n",
    "]].mean(axis = 1)#三种方法计算每个样本为1的平均概率。output_std为标准分类，output_bag为bagging分类，output_skb也是bagging分类，output_stp为两步法\n",
    "\n",
    "results_chuzuche=results.iloc[:len(df_chuzuche_feature)]\n",
    "print(results)\n",
    "results.index.name='car_id'\n",
    "results.to_csv(r'C:\\Users\\Jeremy\\Desktop\\2019.12.18\\20161209_results_all.csv')"
   ]
  },
  {
   "cell_type": "code",
   "execution_count": 6,
   "metadata": {},
   "outputs": [
    {
     "name": "stdout",
     "output_type": "stream",
     "text": [
      "894310 data points and 40 features\n",
      "12031 positive out of 894310 total\n",
      "1111111111111111111111111111111\n",
      "2222222222222222222222222222222222\n",
      "33333333333333333333333333333333\n",
      "44444444444444444444444444444444444\n",
      "          truth  output_std  output_bag  output_skb  output_stp  output_all\n",
      "21417202    1.0       0.445         0.0       0.773       0.454    0.299667\n",
      "21522952    1.0       0.561         0.0       0.854       0.575    0.378667\n",
      "21546250    1.0       0.499         1.0       0.826       0.518    0.672333\n",
      "21651679    1.0       0.494         0.0       0.851       0.475    0.323000\n",
      "21559243    1.0       0.621         0.0       0.911       0.633    0.418000\n",
      "...         ...         ...         ...         ...         ...         ...\n",
      "23462160    0.0       0.000         1.0       0.097       0.000    0.333333\n",
      "21770696    0.0       0.000         0.0       0.000       0.000    0.000000\n",
      "22873705    0.0       0.000         0.0       0.002       0.000    0.000000\n",
      "23572297    0.0       0.000         0.0       0.000       0.000    0.000000\n",
      "23906362    0.0       0.000         0.0       0.004       0.000    0.000000\n",
      "\n",
      "[894310 rows x 6 columns]\n"
     ]
    }
   ],
   "source": [
    "import pandas as pd\n",
    "import numpy as np\n",
    "\n",
    "df_chuzuche_feature=pd.read_csv(open(r'C:\\Users\\Jeremy\\Desktop\\2019.12.18\\20161210_title_chuzuche_yueB_regular_zhibiao.csv'),header=0,index_col='car_id')\n",
    "df_chuzuche_time_feature=pd.read_csv(open(r'C:\\Users\\Jeremy\\Desktop\\2019.12.18\\20161210_title_chuzuche_time_yueB_regular_zhibiao.csv'),header=0,index_col='car_id')\n",
    "df_chuzuche_feature=pd.merge(df_chuzuche_feature,df_chuzuche_time_feature,how='inner',on='car_id')\n",
    "df_chuzuche_feature=df_chuzuche_feature.dropna()#删除所有有空值的行\n",
    "#df_chuzuche_feature.reset_index(drop=True,inplace=True)#重置索引\n",
    "df_shehuiche_feature=pd.read_csv(open(r'C:\\Users\\Jeremy\\Desktop\\2019.12.18\\20161210_title_shehuiche_yueB_regular_zhibiao.csv'),header=0,index_col='car_id')\n",
    "df_shehuiche_time_feature=pd.read_csv(open(r'C:\\Users\\Jeremy\\Desktop\\2019.12.18\\20161210_title_shehuiche_time_yueB_regular_zhibiao.csv'),header=0,index_col='car_id')\n",
    "df_shehuiche_feature=pd.merge(df_shehuiche_feature,df_shehuiche_time_feature,how='inner',on='car_id')\n",
    "df_shehuiche_feature=df_shehuiche_feature.dropna()#删除所有有空值的行\n",
    "#df_shehuiche_feature.reset_index(drop=True,inplace=True)#重置索引\n",
    "X=pd.concat([df_chuzuche_feature,df_shehuiche_feature])\n",
    "#X.reset_index(drop=True,inplace=True)#重置索引\n",
    "y = np.zeros(len(df_chuzuche_feature)+len(df_shehuiche_feature))\n",
    "y[:len(df_chuzuche_feature)] = 1.0\n",
    "car_id=list(X.index)#删除只出行一次的车辆，car_id表示出行次数大于1的车辆ID\n",
    "y = pd.Series(y,index=car_id)\n",
    "print('%d data points and %d features' % (X.shape))\n",
    "print('%d positive out of %d total' % (sum(y), len(y)))\n",
    "\n",
    "results = pd.DataFrame({\n",
    "    'truth'      : y,        # The labels to be shown to models in experiment\n",
    "    'output_std' : rf.predict_proba(X)[:,1]   # The random forest's scores；第i行第j列上的数值是模型预测第i个预测样本为某个标签的概率\n",
    "}, columns = ['truth', 'output_std'])\n",
    "print(\"1111111111111111111111111111111\")\n",
    "\n",
    "results['output_bag']=estimator.predict_proba(X)[:,1]\n",
    "print(\"2222222222222222222222222222222222\")\n",
    "\n",
    "results['output_skb'] = bc.predict_proba(X)[:,1]\n",
    "print(\"33333333333333333333333333333333\")\n",
    "\n",
    "results['output_stp'] = rf2.predict_proba(X)[:,-1] #6000个样本为1的概率\n",
    "print(\"44444444444444444444444444444444444\")\n",
    "\n",
    "results['output_all'] = results[[\n",
    "    'output_std', 'output_bag', 'output_stp'\n",
    "]].mean(axis = 1)#三种方法计算每个样本为1的平均概率。output_std为标准分类，output_bag为bagging分类，output_skb也是bagging分类，output_stp为两步法\n",
    "\n",
    "results_chuzuche=results.iloc[:len(df_chuzuche_feature)]\n",
    "print(results)\n",
    "results.index.name='car_id'\n",
    "results.to_csv(r'C:\\Users\\Jeremy\\Desktop\\2019.12.18\\20161210_results_all.csv')"
   ]
  },
  {
   "cell_type": "code",
   "execution_count": 7,
   "metadata": {},
   "outputs": [
    {
     "name": "stdout",
     "output_type": "stream",
     "text": [
      "814792 data points and 40 features\n",
      "12000 positive out of 814792 total\n",
      "1111111111111111111111111111111\n",
      "2222222222222222222222222222222222\n",
      "33333333333333333333333333333333\n",
      "44444444444444444444444444444444444\n",
      "          truth  output_std  output_bag  output_skb  output_stp  output_all\n",
      "21533003    1.0       0.544         0.0       0.822       0.572    0.372000\n",
      "21404880    1.0       0.562         0.0       0.854       0.535    0.365667\n",
      "21545221    1.0       0.566         0.0       0.823       0.588    0.384667\n",
      "21751290    1.0       0.578         1.0       0.908       0.581    0.719667\n",
      "22365238    1.0       0.491         1.0       0.871       0.458    0.649667\n",
      "...         ...         ...         ...         ...         ...         ...\n",
      "21856045    0.0       0.001         0.0       0.008       0.000    0.000333\n",
      "24151418    0.0       0.000         0.0       0.002       0.000    0.000000\n",
      "25522049    0.0       0.000         0.0       0.000       0.000    0.000000\n",
      "21898981    0.0       0.000         0.0       0.003       0.000    0.000000\n",
      "21729038    0.0       0.000         1.0       0.097       0.000    0.333333\n",
      "\n",
      "[814792 rows x 6 columns]\n"
     ]
    }
   ],
   "source": [
    "import pandas as pd\n",
    "import numpy as np\n",
    "\n",
    "df_chuzuche_feature=pd.read_csv(open(r'C:\\Users\\Jeremy\\Desktop\\2019.12.18\\20161211_title_chuzuche_yueB_regular_zhibiao.csv'),header=0,index_col='car_id')\n",
    "df_chuzuche_time_feature=pd.read_csv(open(r'C:\\Users\\Jeremy\\Desktop\\2019.12.18\\20161211_title_chuzuche_time_yueB_regular_zhibiao.csv'),header=0,index_col='car_id')\n",
    "df_chuzuche_feature=pd.merge(df_chuzuche_feature,df_chuzuche_time_feature,how='inner',on='car_id')\n",
    "df_chuzuche_feature=df_chuzuche_feature.dropna()#删除所有有空值的行\n",
    "#df_chuzuche_feature.reset_index(drop=True,inplace=True)#重置索引\n",
    "df_shehuiche_feature=pd.read_csv(open(r'C:\\Users\\Jeremy\\Desktop\\2019.12.18\\20161211_title_shehuiche_yueB_regular_zhibiao.csv'),header=0,index_col='car_id')\n",
    "df_shehuiche_time_feature=pd.read_csv(open(r'C:\\Users\\Jeremy\\Desktop\\2019.12.18\\20161211_title_shehuiche_time_yueB_regular_zhibiao.csv'),header=0,index_col='car_id')\n",
    "df_shehuiche_feature=pd.merge(df_shehuiche_feature,df_shehuiche_time_feature,how='inner',on='car_id')\n",
    "df_shehuiche_feature=df_shehuiche_feature.dropna()#删除所有有空值的行\n",
    "#df_shehuiche_feature.reset_index(drop=True,inplace=True)#重置索引\n",
    "X=pd.concat([df_chuzuche_feature,df_shehuiche_feature])\n",
    "#X.reset_index(drop=True,inplace=True)#重置索引\n",
    "y = np.zeros(len(df_chuzuche_feature)+len(df_shehuiche_feature))\n",
    "y[:len(df_chuzuche_feature)] = 1.0\n",
    "car_id=list(X.index)#删除只出行一次的车辆，car_id表示出行次数大于1的车辆ID\n",
    "y = pd.Series(y,index=car_id)\n",
    "print('%d data points and %d features' % (X.shape))\n",
    "print('%d positive out of %d total' % (sum(y), len(y)))\n",
    "\n",
    "results = pd.DataFrame({\n",
    "    'truth'      : y,        # The labels to be shown to models in experiment\n",
    "    'output_std' : rf.predict_proba(X)[:,1]   # The random forest's scores；第i行第j列上的数值是模型预测第i个预测样本为某个标签的概率\n",
    "}, columns = ['truth', 'output_std'])\n",
    "print(\"1111111111111111111111111111111\")\n",
    "\n",
    "results['output_bag']=estimator.predict_proba(X)[:,1]\n",
    "print(\"2222222222222222222222222222222222\")\n",
    "\n",
    "results['output_skb'] = bc.predict_proba(X)[:,1]\n",
    "print(\"33333333333333333333333333333333\")\n",
    "\n",
    "results['output_stp'] = rf2.predict_proba(X)[:,-1] #6000个样本为1的概率\n",
    "print(\"44444444444444444444444444444444444\")\n",
    "\n",
    "results['output_all'] = results[[\n",
    "    'output_std', 'output_bag', 'output_stp'\n",
    "]].mean(axis = 1)#三种方法计算每个样本为1的平均概率。output_std为标准分类，output_bag为bagging分类，output_skb也是bagging分类，output_stp为两步法\n",
    "\n",
    "results_chuzuche=results.iloc[:len(df_chuzuche_feature)]\n",
    "print(results)\n",
    "results.index.name='car_id'\n",
    "results.to_csv(r'C:\\Users\\Jeremy\\Desktop\\2019.12.18\\20161211_results_all.csv')"
   ]
  },
  {
   "cell_type": "markdown",
   "metadata": {},
   "source": [
    "# 将12.05-12.11的预测结果合并"
   ]
  },
  {
   "cell_type": "code",
   "execution_count": 2,
   "metadata": {},
   "outputs": [],
   "source": [
    "import pandas as pd\n",
    "import numpy as np\n",
    "\n",
    "results_1205=pd.read_csv(open(r'F:\\运营车识别\\2019.12.18\\20161205_results_all.csv'),header=0)\n",
    "results_1205.rename(columns={'truth':'truth_05', 'label':'label_05', 'output_std':'output_std_05', 'output_bag':'output_bag_05', \n",
    "                             'output_skb':'output_skb_05', 'output_stp':'output_stp_05', 'output_all':'output_all_05'}, inplace = True)\n",
    "results_1206=pd.read_csv(open(r'F:\\运营车识别\\2019.12.18\\20161206_results_all.csv'),header=0)\n",
    "results_1206.rename(columns={'truth':'truth_06', 'output_std':'output_std_06', 'output_bag':'output_bag_06', \n",
    "                             'output_skb':'output_skb_06', 'output_stp':'output_stp_06', 'output_all':'output_all_06'}, inplace = True)\n",
    "results_1207=pd.read_csv(open(r'F:\\运营车识别\\2019.12.18\\20161207_results_all.csv'),header=0)\n",
    "results_1207.rename(columns={'truth':'truth_07', 'output_std':'output_std_07', 'output_bag':'output_bag_07', \n",
    "                             'output_skb':'output_skb_07', 'output_stp':'output_stp_07', 'output_all':'output_all_07'}, inplace = True)\n",
    "results_1208=pd.read_csv(open(r'F:\\运营车识别\\2019.12.18\\20161208_results_all.csv'),header=0)\n",
    "results_1208.rename(columns={'truth':'truth_08', 'output_std':'output_std_08', 'output_bag':'output_bag_08', \n",
    "                             'output_skb':'output_skb_08', 'output_stp':'output_stp_08', 'output_all':'output_all_08'}, inplace = True)\n",
    "results_1209=pd.read_csv(open(r'F:\\运营车识别\\2019.12.18\\20161209_results_all.csv'),header=0)\n",
    "results_1209.rename(columns={'truth':'truth_09', 'output_std':'output_std_09', 'output_bag':'output_bag_09', \n",
    "                             'output_skb':'output_skb_09', 'output_stp':'output_stp_09', 'output_all':'output_all_09'}, inplace = True)\n",
    "results_1210=pd.read_csv(open(r'F:\\运营车识别\\2019.12.18\\20161210_results_all.csv'),header=0)\n",
    "results_1210.rename(columns={'truth':'truth_10', 'output_std':'output_std_10', 'output_bag':'output_bag_10', \n",
    "                             'output_skb':'output_skb_10', 'output_stp':'output_stp_10', 'output_all':'output_all_10'}, inplace = True)\n",
    "results_1211=pd.read_csv(open(r'F:\\运营车识别\\2019.12.18\\20161211_results_all.csv'),header=0)\n",
    "results_1211.rename(columns={'truth':'truth_11', 'output_std':'output_std_11', 'output_bag':'output_bag_11', \n",
    "                             'output_skb':'output_skb_11', 'output_stp':'output_stp_11', 'output_all':'output_all_11'}, inplace = True)"
   ]
  },
  {
   "cell_type": "code",
   "execution_count": 3,
   "metadata": {},
   "outputs": [
    {
     "name": "stdout",
     "output_type": "stream",
     "text": [
      "1206总出租车数量：12038\n",
      "1206识别出的出租车数量：10795\n",
      "1206出租车识别准确率：0.896744\n",
      "1206总社会车数量：937573\n",
      "1206社会车中识别出的运营车数量：99355\n",
      "1206社会车中运营比例：0.105970\n",
      "1207总出租车数量：12066\n",
      "1207识别出的出租车数量：10795\n",
      "1207出租车识别准确率：0.894663\n",
      "1207总社会车数量：937675\n",
      "1207社会车中识别出的运营车数量：98920\n",
      "1207社会车中运营比例：0.105495\n",
      "1208总出租车数量：12030\n",
      "1208识别出的出租车数量：10867\n",
      "1208出租车识别准确率：0.903325\n",
      "1208总社会车数量：933198\n",
      "1208社会车中识别出的运营车数量：97652\n",
      "1208社会车中运营比例：0.104642\n",
      "1209总出租车数量：12051\n",
      "1209识别出的出租车数量：10916\n",
      "1209出租车识别准确率：0.905817\n",
      "1209总社会车数量：954265\n",
      "1209社会车中识别出的运营车数量：100045\n",
      "1209社会车中运营比例：0.104840\n",
      "1210总出租车数量：12031\n",
      "1210识别出的出租车数量：10853\n",
      "1210出租车识别准确率：0.902086\n",
      "1210总社会车数量：882279\n",
      "1210社会车中识别出的运营车数量：95827\n",
      "1210社会车中运营比例：0.108613\n",
      "1211总出租车数量：12000\n",
      "1211识别出的出租车数量：10687\n",
      "1211出租车识别准确率：0.890583\n",
      "1211总社会车数量：802792\n",
      "1211社会车中识别出的运营车数量：83680\n",
      "1211社会车中运营比例：0.104236\n"
     ]
    }
   ],
   "source": [
    "print('1206总出租车数量：%d'%(len(results_1206[results_1206['truth_06']==1])))\n",
    "print('1206识别出的出租车数量：%d'%(len(results_1206[(results_1206['output_bag_06']==1) & (results_1206['truth_06']==1)])))\n",
    "print('1206出租车识别准确率：%f'%(len(results_1206[(results_1206['output_bag_06']==1) & (results_1206['truth_06']==1)])/len(results_1206[results_1206['truth_06']==1])))\n",
    "print('1206总社会车数量：%d'%(len(results_1206[results_1206['truth_06']==0])))\n",
    "print('1206社会车中识别出的运营车数量：%d'%(len(results_1206[(results_1206['output_bag_06']==1) & (results_1206['truth_06']==0)])))\n",
    "print('1206社会车中运营比例：%f'%(len(results_1206[(results_1206['output_bag_06']==1) & (results_1206['truth_06']==0)])/len(results_1206[results_1206['truth_06']==0])))\n",
    "\n",
    "print('1207总出租车数量：%d'%(len(results_1207[results_1207['truth_07']==1])))\n",
    "print('1207识别出的出租车数量：%d'%(len(results_1207[(results_1207['output_bag_07']==1) & (results_1207['truth_07']==1)])))\n",
    "print('1207出租车识别准确率：%f'%(len(results_1207[(results_1207['output_bag_07']==1) & (results_1207['truth_07']==1)])/len(results_1207[results_1207['truth_07']==1])))\n",
    "print('1207总社会车数量：%d'%(len(results_1207[results_1207['truth_07']==0])))\n",
    "print('1207社会车中识别出的运营车数量：%d'%(len(results_1207[(results_1207['output_bag_07']==1) & (results_1207['truth_07']==0)])))\n",
    "print('1207社会车中运营比例：%f'%(len(results_1207[(results_1207['output_bag_07']==1) & (results_1207['truth_07']==0)])/len(results_1207[results_1207['truth_07']==0])))\n",
    "\n",
    "print('1208总出租车数量：%d'%(len(results_1208[results_1208['truth_08']==1])))\n",
    "print('1208识别出的出租车数量：%d'%(len(results_1208[(results_1208['output_bag_08']==1) & (results_1208['truth_08']==1)])))\n",
    "print('1208出租车识别准确率：%f'%(len(results_1208[(results_1208['output_bag_08']==1) & (results_1208['truth_08']==1)])/len(results_1208[results_1208['truth_08']==1])))\n",
    "print('1208总社会车数量：%d'%(len(results_1208[results_1208['truth_08']==0])))\n",
    "print('1208社会车中识别出的运营车数量：%d'%(len(results_1208[(results_1208['output_bag_08']==1) & (results_1208['truth_08']==0)])))\n",
    "print('1208社会车中运营比例：%f'%(len(results_1208[(results_1208['output_bag_08']==1) & (results_1208['truth_08']==0)])/len(results_1208[results_1208['truth_08']==0])))\n",
    "\n",
    "print('1209总出租车数量：%d'%(len(results_1209[results_1209['truth_09']==1])))\n",
    "print('1209识别出的出租车数量：%d'%(len(results_1209[(results_1209['output_bag_09']==1) & (results_1209['truth_09']==1)])))\n",
    "print('1209出租车识别准确率：%f'%(len(results_1209[(results_1209['output_bag_09']==1) & (results_1209['truth_09']==1)])/len(results_1209[results_1209['truth_09']==1])))\n",
    "print('1209总社会车数量：%d'%(len(results_1209[results_1209['truth_09']==0])))\n",
    "print('1209社会车中识别出的运营车数量：%d'%(len(results_1209[(results_1209['output_bag_09']==1) & (results_1209['truth_09']==0)])))\n",
    "print('1209社会车中运营比例：%f'%(len(results_1209[(results_1209['output_bag_09']==1) & (results_1209['truth_09']==0)])/len(results_1209[results_1209['truth_09']==0])))\n",
    "\n",
    "print('1210总出租车数量：%d'%(len(results_1210[results_1210['truth_10']==1])))\n",
    "print('1210识别出的出租车数量：%d'%(len(results_1210[(results_1210['output_bag_10']==1) & (results_1210['truth_10']==1)])))\n",
    "print('1210出租车识别准确率：%f'%(len(results_1210[(results_1210['output_bag_10']==1) & (results_1210['truth_10']==1)])/len(results_1210[results_1210['truth_10']==1])))\n",
    "print('1210总社会车数量：%d'%(len(results_1210[results_1210['truth_10']==0])))\n",
    "print('1210社会车中识别出的运营车数量：%d'%(len(results_1210[(results_1210['output_bag_10']==1) & (results_1210['truth_10']==0)])))\n",
    "print('1210社会车中运营比例：%f'%(len(results_1210[(results_1210['output_bag_10']==1) & (results_1210['truth_10']==0)])/len(results_1210[results_1210['truth_10']==0])))\n",
    "\n",
    "print('1211总出租车数量：%d'%(len(results_1211[results_1211['truth_11']==1])))\n",
    "print('1211识别出的出租车数量：%d'%(len(results_1211[(results_1211['output_bag_11']==1) & (results_1211['truth_11']==1)])))\n",
    "print('1211出租车识别准确率：%f'%(len(results_1211[(results_1211['output_bag_11']==1) & (results_1211['truth_11']==1)])/len(results_1211[results_1211['truth_11']==1])))\n",
    "print('1211总社会车数量：%d'%(len(results_1211[results_1211['truth_11']==0])))\n",
    "print('1211社会车中识别出的运营车数量：%d'%(len(results_1211[(results_1211['output_bag_11']==1) & (results_1211['truth_11']==0)])))\n",
    "print('1211社会车中运营比例：%f'%(len(results_1211[(results_1211['output_bag_11']==1) & (results_1211['truth_11']==0)])/len(results_1211[results_1211['truth_11']==0])))"
   ]
  },
  {
   "cell_type": "code",
   "execution_count": 10,
   "metadata": {},
   "outputs": [
    {
     "name": "stdout",
     "output_type": "stream",
     "text": [
      "           car_id  truth_05  label_05  output_std_05  output_bag_05  \\\n",
      "0        21522952       1.0       1.0          0.795            NaN   \n",
      "1        21541449       1.0       1.0          0.848            NaN   \n",
      "2        21520990       1.0       1.0          0.837            NaN   \n",
      "3        21706894       1.0       1.0          0.790            NaN   \n",
      "4        21522729       1.0       1.0          0.827            NaN   \n",
      "...           ...       ...       ...            ...            ...   \n",
      "1839944  23718847       NaN       NaN            NaN            NaN   \n",
      "1839945  25607727       NaN       NaN            NaN            NaN   \n",
      "1839946  22465509       NaN       NaN            NaN            NaN   \n",
      "1839947  23209775       NaN       NaN            NaN            NaN   \n",
      "1839948  21898981       NaN       NaN            NaN            NaN   \n",
      "\n",
      "         output_skb_05  output_stp_05  output_all_05  truth_06  output_std_06  \\\n",
      "0                  NaN          0.787          0.791       1.0          0.433   \n",
      "1                  NaN          0.822          0.835       1.0          0.422   \n",
      "2                  NaN          0.847          0.842       1.0          0.482   \n",
      "3                  NaN          0.804          0.797       1.0          0.607   \n",
      "4                  NaN          0.823          0.825       1.0          0.625   \n",
      "...                ...            ...            ...       ...            ...   \n",
      "1839944            NaN            NaN            NaN       NaN            NaN   \n",
      "1839945            NaN            NaN            NaN       NaN            NaN   \n",
      "1839946            NaN            NaN            NaN       NaN            NaN   \n",
      "1839947            NaN            NaN            NaN       NaN            NaN   \n",
      "1839948            NaN            NaN            NaN       NaN            NaN   \n",
      "\n",
      "         ...  output_bag_10  output_skb_10  output_stp_10  output_all_10  \\\n",
      "0        ...            0.0          0.854          0.575       0.378667   \n",
      "1        ...            1.0          0.990          0.532       0.692333   \n",
      "2        ...            1.0          0.965          0.619       0.734000   \n",
      "3        ...            0.0          0.937          0.421       0.275333   \n",
      "4        ...            1.0          0.979          0.608       0.751000   \n",
      "...      ...            ...            ...            ...            ...   \n",
      "1839944  ...            NaN            NaN            NaN            NaN   \n",
      "1839945  ...            NaN            NaN            NaN            NaN   \n",
      "1839946  ...            NaN            NaN            NaN            NaN   \n",
      "1839947  ...            NaN            NaN            NaN            NaN   \n",
      "1839948  ...            NaN            NaN            NaN            NaN   \n",
      "\n",
      "         truth_11  output_std_11  output_bag_11  output_skb_11  output_stp_11  \\\n",
      "0             1.0       0.514000            1.0          0.896          0.488   \n",
      "1             1.0       0.591000            1.0          0.997          0.592   \n",
      "2             1.0       0.579000            1.0          0.978          0.591   \n",
      "3             1.0       0.518000            1.0          0.985          0.516   \n",
      "4             1.0       0.581000            1.0          0.996          0.588   \n",
      "...           ...            ...            ...            ...            ...   \n",
      "1839944       0.0       0.000000            0.0          0.000          0.000   \n",
      "1839945       0.0       0.000002            1.0          0.314          0.001   \n",
      "1839946       0.0       0.000000            0.0          0.016          0.000   \n",
      "1839947       0.0       0.000000            0.0          0.004          0.000   \n",
      "1839948       0.0       0.000000            0.0          0.003          0.000   \n",
      "\n",
      "         output_all_11  \n",
      "0             0.667333  \n",
      "1             0.727667  \n",
      "2             0.723333  \n",
      "3             0.678000  \n",
      "4             0.723000  \n",
      "...                ...  \n",
      "1839944       0.000000  \n",
      "1839945       0.333667  \n",
      "1839946       0.000000  \n",
      "1839947       0.000000  \n",
      "1839948       0.000000  \n",
      "\n",
      "[1839949 rows x 44 columns]\n"
     ]
    }
   ],
   "source": [
    "results0506=pd.merge(results_1205,results_1206,how='outer',on='car_id')\n",
    "results050607=pd.merge(results0506,results_1207,how='outer',on='car_id')\n",
    "results05060708=pd.merge(results050607,results_1208,how='outer',on='car_id')\n",
    "results0506070809=pd.merge(results05060708,results_1209,how='outer',on='car_id')\n",
    "results050607080910=pd.merge(results0506070809,results_1210,how='outer',on='car_id')\n",
    "results05060708091011=pd.merge(results050607080910,results_1211,how='outer',on='car_id')\n",
    "print(results05060708091011)"
   ]
  },
  {
   "cell_type": "code",
   "execution_count": 11,
   "metadata": {},
   "outputs": [
    {
     "name": "stdout",
     "output_type": "stream",
     "text": [
      "0          1.0\n",
      "1          1.0\n",
      "2          1.0\n",
      "3          1.0\n",
      "4          1.0\n",
      "          ... \n",
      "1839944    0.0\n",
      "1839945    0.0\n",
      "1839946    0.0\n",
      "1839947    0.0\n",
      "1839948    0.0\n",
      "Name: truth_05, Length: 1839949, dtype: float64\n"
     ]
    }
   ],
   "source": [
    "results05060708091011['truth_05']=results05060708091011['truth_05'].fillna(0)\n",
    "results05060708091011['truth_06']=results05060708091011['truth_06'].fillna(0)\n",
    "results05060708091011['truth_07']=results05060708091011['truth_07'].fillna(0)\n",
    "results05060708091011['truth_08']=results05060708091011['truth_08'].fillna(0)\n",
    "results05060708091011['truth_09']=results05060708091011['truth_09'].fillna(0)\n",
    "results05060708091011['truth_10']=results05060708091011['truth_10'].fillna(0)\n",
    "results05060708091011['truth_11']=results05060708091011['truth_11'].fillna(0)\n",
    "results05060708091011['truth_05']=results05060708091011['truth_05']+results05060708091011['truth_06']+results05060708091011['truth_07']+\\\n",
    "                                    results05060708091011['truth_08']+results05060708091011['truth_09']+\\\n",
    "                                    results05060708091011['truth_10']+results05060708091011['truth_11']\n",
    "results05060708091011=results05060708091011.drop(columns=['truth_06','truth_07','truth_08','truth_09','truth_10','truth_11'])\n",
    "\n",
    "results05060708091011.loc[results05060708091011['truth_05']>=1 , 'truth_05']=1\n",
    "print(results05060708091011['truth_05'])"
   ]
  },
  {
   "cell_type": "code",
   "execution_count": 12,
   "metadata": {},
   "outputs": [],
   "source": [
    "results05060708091011.rename(columns={'truth_05':'truth'}, inplace = True)\n",
    "results05060708091011['output_std_mean']=results05060708091011[['output_std_06','output_std_07','output_std_08','output_std_09','output_std_10','output_std_11']].mean(axis=1)\n",
    "results05060708091011['output_bag_mean']=results05060708091011[['output_bag_06','output_bag_07','output_bag_08','output_bag_09','output_bag_10','output_bag_11']].mean(axis=1)\n",
    "results05060708091011['output_skb_mean']=results05060708091011[['output_skb_06','output_skb_07','output_skb_08','output_skb_09','output_skb_10','output_skb_11']].mean(axis=1)\n",
    "results05060708091011['output_stp_mean']=results05060708091011[['output_stp_06','output_stp_07','output_stp_08','output_stp_09','output_stp_10','output_stp_11']].mean(axis=1)\n",
    "results05060708091011.to_csv(r'C:\\Users\\Jeremy\\Desktop\\2019.12.18\\results_all.csv',index=False)"
   ]
  },
  {
   "cell_type": "code",
   "execution_count": 13,
   "metadata": {},
   "outputs": [
    {
     "name": "stdout",
     "output_type": "stream",
     "text": [
      "Index(['car_id', 'truth', 'label_05', 'output_std_05', 'output_bag_05',\n",
      "       'output_skb_05', 'output_stp_05', 'output_all_05', 'output_std_06',\n",
      "       'output_bag_06', 'output_skb_06', 'output_stp_06', 'output_all_06',\n",
      "       'output_std_07', 'output_bag_07', 'output_skb_07', 'output_stp_07',\n",
      "       'output_all_07', 'output_std_08', 'output_bag_08', 'output_skb_08',\n",
      "       'output_stp_08', 'output_all_08', 'output_std_09', 'output_bag_09',\n",
      "       'output_skb_09', 'output_stp_09', 'output_all_09', 'output_std_10',\n",
      "       'output_bag_10', 'output_skb_10', 'output_stp_10', 'output_all_10',\n",
      "       'output_std_11', 'output_bag_11', 'output_skb_11', 'output_stp_11',\n",
      "       'output_all_11', 'output_std_mean', 'output_bag_mean',\n",
      "       'output_skb_mean', 'output_stp_mean'],\n",
      "      dtype='object')\n"
     ]
    }
   ],
   "source": [
    "print(results05060708091011.columns)"
   ]
  },
  {
   "cell_type": "code",
   "execution_count": 14,
   "metadata": {},
   "outputs": [],
   "source": [
    "results_chuzuche=results05060708091011[results05060708091011['truth']==1]\n",
    "results_chuzuche.to_csv(r'C:\\Users\\Jeremy\\Desktop\\2019.12.18\\results_all_chuzuche.csv',index=False)"
   ]
  },
  {
   "cell_type": "code",
   "execution_count": 15,
   "metadata": {},
   "outputs": [],
   "source": [
    "results_shehuiche=results05060708091011[results05060708091011['truth']==0]\n",
    "results_shehuiche.to_csv(r'C:\\Users\\Jeremy\\Desktop\\2019.12.18\\results_all_shehuiche.csv',index=False)"
   ]
  },
  {
   "cell_type": "code",
   "execution_count": 16,
   "metadata": {},
   "outputs": [
    {
     "name": "stdout",
     "output_type": "stream",
     "text": [
      "(1839949, 42)\n"
     ]
    }
   ],
   "source": [
    "print(results05060708091011.shape)"
   ]
  },
  {
   "cell_type": "code",
   "execution_count": 17,
   "metadata": {},
   "outputs": [
    {
     "name": "stdout",
     "output_type": "stream",
     "text": [
      "31479\n",
      "28885\n",
      "41897\n",
      "32513\n"
     ]
    }
   ],
   "source": [
    "print((results_shehuiche['output_bag_mean']>=1).sum())#和预计40,000接近\n",
    "print((results_shehuiche['output_std_mean']>=0.04).sum())#和预计40,000接近\n",
    "print((results_shehuiche['output_skb_mean']>=0.45).sum())#和预计40,000接近\n",
    "print((results_shehuiche['output_stp_mean']>=0.035).sum())#和预计40,000接近"
   ]
  },
  {
   "cell_type": "markdown",
   "metadata": {},
   "source": [
    "# 图表"
   ]
  },
  {
   "cell_type": "code",
   "execution_count": 18,
   "metadata": {},
   "outputs": [
    {
     "name": "stderr",
     "output_type": "stream",
     "text": [
      "D:\\Anaconda\\lib\\site-packages\\numpy\\lib\\arraysetops.py:569: FutureWarning: elementwise comparison failed; returning scalar instead, but in the future will perform elementwise comparison\n",
      "  mask |= (ar1 == a)\n"
     ]
    }
   ],
   "source": [
    "import matplotlib.pylab as plt\n",
    "\n",
    "# Performance graphing\n",
    "plt.rcParams['font.size'] = 16\n",
    "plt.rcParams['figure.figsize'] = 15, 8\n",
    "\n",
    "\n",
    "results05060708091011=pd.read_csv(open(r'C:\\Users\\Jeremy\\Desktop\\2019.12.18\\results_all.csv'),header=0,index_col='car_id')\n",
    "results_chuzuche=pd.read_csv(open(r'C:\\Users\\Jeremy\\Desktop\\2019.12.18\\results_all_chuzuche.csv'),header=0,index_col='car_id')\n",
    "results_shehuiche=pd.read_csv(open(r'C:\\Users\\Jeremy\\Desktop\\2019.12.18\\results_all_shehuiche.csv'),header=0,index_col='car_id')"
   ]
  },
  {
   "cell_type": "code",
   "execution_count": 19,
   "metadata": {},
   "outputs": [
    {
     "name": "stdout",
     "output_type": "stream",
     "text": [
      "[-0.1  0.   0.1  0.2  0.3  0.4  0.5  0.6  0.7]\n"
     ]
    },
    {
     "data": {
      "image/png": "[encoded data removed]",
      "text/plain": [
       "<Figure size 432x288 with 1 Axes>"
      ]
     },
     "metadata": {
      "needs_background": "light"
     },
     "output_type": "display_data"
    }
   ],
   "source": [
    "plt.scatter(  #画散点图\n",
    "    range(len(results05060708091011)), list(results05060708091011['output_stp_mean']),\n",
    "    s=1  #点大小\n",
    ")\n",
    "\n",
    "vals = plt.gca().get_yticks()  #vals为y轴的刻度位置列表\n",
    "print(vals)\n",
    "plt.yticks(vals, ['%.0f%%' % (v*100) for v in vals]) #在y轴原刻度位置vals上修改数值\n",
    "plt.xlabel('Number of unlabeled data points chosen from the top rated')\n",
    "plt.ylabel('Percent of chosen that are secretly positive')\n",
    "plt.legend([\n",
    "    'Two-step approach'\n",
    "])\n",
    "plt.plot([len(results_chuzuche), len(results_chuzuche)], [0, 1 ], 'r--')\n",
    "plt.title('Performance of 12.06-12.11')\n",
    "plt.grid()\n",
    "plt.show()"
   ]
  },
  {
   "cell_type": "code",
   "execution_count": 20,
   "metadata": {},
   "outputs": [
    {
     "name": "stdout",
     "output_type": "stream",
     "text": [
      "[-0.1  0.   0.1  0.2  0.3  0.4  0.5  0.6  0.7]\n"
     ]
    },
    {
     "name": "stderr",
     "output_type": "stream",
     "text": [
      "D:\\Anaconda\\lib\\site-packages\\IPython\\core\\pylabtools.py:128: UserWarning: Creating legend with loc=\"best\" can be slow with large amounts of data.\n",
      "  fig.canvas.print_figure(bytes_io, **kw)\n"
     ]
    },
    {
     "data": {
      "image/png": "[encoded data removed]",
      "text/plain": [
       "<Figure size 432x288 with 1 Axes>"
      ]
     },
     "metadata": {
      "needs_background": "light"
     },
     "output_type": "display_data"
    }
   ],
   "source": [
    "plt.plot(#画折线图\n",
    "    range(len(results05060708091011)), list(results05060708091011['output_stp_mean']),\n",
    "    lw = 1 #折线图的线条宽度\n",
    ")\n",
    "\n",
    "vals = plt.gca().get_yticks()  #vals为y轴的刻度位置列表\n",
    "print(vals)\n",
    "plt.yticks(vals, ['%.0f%%' % (v*100) for v in vals]) #在y轴原刻度位置vals上修改数值\n",
    "plt.xlabel('Number of unlabeled data points chosen from the top rated')\n",
    "plt.ylabel('Percent of chosen that are secretly positive')\n",
    "plt.legend([\n",
    "    'Two-step approach'\n",
    "])\n",
    "plt.plot([len(results_chuzuche), len(results_chuzuche)], [0, 1 ], 'r--')\n",
    "plt.title('Performance of 12.06-12.11')\n",
    "plt.grid()\n",
    "plt.show()"
   ]
  },
  {
   "cell_type": "code",
   "execution_count": 21,
   "metadata": {},
   "outputs": [
    {
     "name": "stderr",
     "output_type": "stream",
     "text": [
      "D:\\Anaconda\\lib\\site-packages\\ipykernel_launcher.py:7: MatplotlibDeprecationWarning: \n",
      "The 'normed' kwarg was deprecated in Matplotlib 2.1 and will be removed in 3.1. Use 'density' instead.\n",
      "  import sys\n",
      "D:\\Anaconda\\lib\\site-packages\\numpy\\lib\\histograms.py:824: RuntimeWarning: invalid value encountered in greater_equal\n",
      "  keep = (tmp_a >= first_edge)\n",
      "D:\\Anaconda\\lib\\site-packages\\numpy\\lib\\histograms.py:825: RuntimeWarning: invalid value encountered in less_equal\n",
      "  keep &= (tmp_a <= last_edge)\n"
     ]
    },
    {
     "data": {
      "image/png": "[encoded data removed]",
      "text/plain": [
       "<Figure size 432x288 with 1 Axes>"
      ]
     },
     "metadata": {
      "needs_background": "light"
     },
     "output_type": "display_data"
    }
   ],
   "source": [
    "import matplotlib\n",
    "# 设置matplotlib正常显示中文和负号\n",
    "matplotlib.rcParams['font.sans-serif']=['SimHei']   # 用黑体显示中文\n",
    "matplotlib.rcParams['axes.unicode_minus']=False     # 正常显示负号\n",
    "\n",
    "\n",
    "plt.hist(results05060708091011['output_stp_mean'], bins=40, normed=0, facecolor=\"blue\", edgecolor=\"black\", alpha=0.7)\n",
    "# 显示横轴标签\n",
    "plt.xlabel(\"区间\")\n",
    "# 显示纵轴标签\n",
    "plt.ylabel(\"频数/频率\")\n",
    "# 显示图标题\n",
    "plt.title(\"频数/频率分布直方图\")\n",
    "plt.show()"
   ]
  },
  {
   "cell_type": "markdown",
   "metadata": {},
   "source": [
    "# 1206-1211  space、time、all中识别出的出租车车辆交叉数"
   ]
  },
  {
   "cell_type": "code",
   "execution_count": 11,
   "metadata": {},
   "outputs": [],
   "source": [
    "import pandas as pd"
   ]
  },
  {
   "cell_type": "code",
   "execution_count": 19,
   "metadata": {},
   "outputs": [
    {
     "name": "stdout",
     "output_type": "stream",
     "text": [
      "1206-space&time识别出的出租车车辆交叉数：9794\n",
      "1206-space&all识别出的出租车车辆交叉数：10174\n",
      "1206-time&all识别出的出租车车辆交叉数：9796\n",
      "1206-space&time&all识别出的出租车车辆交叉数：9363\n"
     ]
    }
   ],
   "source": [
    "results_space=pd.read_csv(open(r'C:\\Users\\Jeremy\\Desktop\\2019.12.18\\20161206_results.csv'),header=0)\n",
    "results_time=pd.read_csv(open(r'C:\\Users\\Jeremy\\Desktop\\2019.12.18\\20161206_results_time.csv'),header=0)\n",
    "results_all=pd.read_csv(open(r'C:\\Users\\Jeremy\\Desktop\\2019.12.18\\20161206_results_all.csv'),header=0)\n",
    "print('1206-space&time识别出的出租车车辆交叉数：%d'%(len(pd.merge(results_space[(results_space['truth']==1)&(results_space['output_bag']==1)],\n",
    "                                                results_time[(results_time['truth']==1)&(results_time['output_bag']==1)],how='inner',on='car_id'))))\n",
    "print('1206-space&all识别出的出租车车辆交叉数：%d'%(len(pd.merge(results_space[(results_space['truth']==1)&(results_space['output_bag']==1)],\n",
    "                                                results_all[(results_all['truth']==1)&(results_all['output_bag']==1)],how='inner',on='car_id'))))\n",
    "print('1206-time&all识别出的出租车车辆交叉数：%d'%(len(pd.merge(results_time[(results_time['truth']==1)&(results_time['output_bag']==1)],\n",
    "                                                results_all[(results_all['truth']==1)&(results_all['output_bag']==1)],how='inner',on='car_id'))))\n",
    "print('1206-space&time&all识别出的出租车车辆交叉数：%d'%(len(\n",
    "    pd.merge(pd.merge(results_space[(results_space['truth']==1)&(results_space['output_bag']==1)],\n",
    "                                                results_time[(results_time['truth']==1)&(results_time['output_bag']==1)],how='inner',on='car_id'),\n",
    "             results_all[(results_all['truth']==1)&(results_all['output_bag']==1)],how='inner',on='car_id'\n",
    "            ))))"
   ]
  },
  {
   "cell_type": "code",
   "execution_count": 20,
   "metadata": {},
   "outputs": [
    {
     "name": "stdout",
     "output_type": "stream",
     "text": [
      "1207-space&time识别出的出租车车辆交叉数：9853\n",
      "1207-space&all识别出的出租车车辆交叉数：10179\n",
      "1207-time&all识别出的出租车车辆交叉数：9815\n",
      "1207-space&time&all识别出的出租车车辆交叉数：9389\n"
     ]
    }
   ],
   "source": [
    "results_space=pd.read_csv(open(r'C:\\Users\\Jeremy\\Desktop\\2019.12.18\\20161207_results.csv'),header=0)\n",
    "results_time=pd.read_csv(open(r'C:\\Users\\Jeremy\\Desktop\\2019.12.18\\20161207_results_time.csv'),header=0)\n",
    "results_all=pd.read_csv(open(r'C:\\Users\\Jeremy\\Desktop\\2019.12.18\\20161207_results_all.csv'),header=0)\n",
    "print('1207-space&time识别出的出租车车辆交叉数：%d'%(len(pd.merge(results_space[(results_space['truth']==1)&(results_space['output_bag']==1)],\n",
    "                                                results_time[(results_time['truth']==1)&(results_time['output_bag']==1)],how='inner',on='car_id'))))\n",
    "print('1207-space&all识别出的出租车车辆交叉数：%d'%(len(pd.merge(results_space[(results_space['truth']==1)&(results_space['output_bag']==1)],\n",
    "                                                results_all[(results_all['truth']==1)&(results_all['output_bag']==1)],how='inner',on='car_id'))))\n",
    "print('1207-time&all识别出的出租车车辆交叉数：%d'%(len(pd.merge(results_time[(results_time['truth']==1)&(results_time['output_bag']==1)],\n",
    "                                                results_all[(results_all['truth']==1)&(results_all['output_bag']==1)],how='inner',on='car_id'))))\n",
    "print('1207-space&time&all识别出的出租车车辆交叉数：%d'%(len(\n",
    "    pd.merge(pd.merge(results_space[(results_space['truth']==1)&(results_space['output_bag']==1)],\n",
    "                                                results_time[(results_time['truth']==1)&(results_time['output_bag']==1)],how='inner',on='car_id'),\n",
    "             results_all[(results_all['truth']==1)&(results_all['output_bag']==1)],how='inner',on='car_id'\n",
    "            ))))"
   ]
  },
  {
   "cell_type": "code",
   "execution_count": 21,
   "metadata": {},
   "outputs": [
    {
     "name": "stdout",
     "output_type": "stream",
     "text": [
      "1208-space&time识别出的出租车车辆交叉数：9822\n",
      "1208-space&all识别出的出租车车辆交叉数：10235\n",
      "1208-time&all识别出的出租车车辆交叉数：9909\n",
      "1208-space&time&all识别出的出租车车辆交叉数：9443\n"
     ]
    }
   ],
   "source": [
    "results_space=pd.read_csv(open(r'C:\\Users\\Jeremy\\Desktop\\2019.12.18\\20161208_results.csv'),header=0)\n",
    "results_time=pd.read_csv(open(r'C:\\Users\\Jeremy\\Desktop\\2019.12.18\\20161208_results_time.csv'),header=0)\n",
    "results_all=pd.read_csv(open(r'C:\\Users\\Jeremy\\Desktop\\2019.12.18\\20161208_results_all.csv'),header=0)\n",
    "print('1208-space&time识别出的出租车车辆交叉数：%d'%(len(pd.merge(results_space[(results_space['truth']==1)&(results_space['output_bag']==1)],\n",
    "                                                results_time[(results_time['truth']==1)&(results_time['output_bag']==1)],how='inner',on='car_id'))))\n",
    "print('1208-space&all识别出的出租车车辆交叉数：%d'%(len(pd.merge(results_space[(results_space['truth']==1)&(results_space['output_bag']==1)],\n",
    "                                                results_all[(results_all['truth']==1)&(results_all['output_bag']==1)],how='inner',on='car_id'))))\n",
    "print('1208-time&all识别出的出租车车辆交叉数：%d'%(len(pd.merge(results_time[(results_time['truth']==1)&(results_time['output_bag']==1)],\n",
    "                                                results_all[(results_all['truth']==1)&(results_all['output_bag']==1)],how='inner',on='car_id'))))\n",
    "print('1208-space&time&all识别出的出租车车辆交叉数：%d'%(len(\n",
    "    pd.merge(pd.merge(results_space[(results_space['truth']==1)&(results_space['output_bag']==1)],\n",
    "                                                results_time[(results_time['truth']==1)&(results_time['output_bag']==1)],how='inner',on='car_id'),\n",
    "             results_all[(results_all['truth']==1)&(results_all['output_bag']==1)],how='inner',on='car_id'\n",
    "            ))))"
   ]
  },
  {
   "cell_type": "code",
   "execution_count": 22,
   "metadata": {},
   "outputs": [
    {
     "name": "stdout",
     "output_type": "stream",
     "text": [
      "1209-space&time识别出的出租车车辆交叉数：9996\n",
      "1209-space&all识别出的出租车车辆交叉数：10354\n",
      "1209-time&all识别出的出租车车辆交叉数：10051\n",
      "1209-space&time&all识别出的出租车车辆交叉数：9610\n"
     ]
    }
   ],
   "source": [
    "results_space=pd.read_csv(open(r'C:\\Users\\Jeremy\\Desktop\\2019.12.18\\20161209_results.csv'),header=0)\n",
    "results_time=pd.read_csv(open(r'C:\\Users\\Jeremy\\Desktop\\2019.12.18\\20161209_results_time.csv'),header=0)\n",
    "results_all=pd.read_csv(open(r'C:\\Users\\Jeremy\\Desktop\\2019.12.18\\20161209_results_all.csv'),header=0)\n",
    "print('1209-space&time识别出的出租车车辆交叉数：%d'%(len(pd.merge(results_space[(results_space['truth']==1)&(results_space['output_bag']==1)],\n",
    "                                                results_time[(results_time['truth']==1)&(results_time['output_bag']==1)],how='inner',on='car_id'))))\n",
    "print('1209-space&all识别出的出租车车辆交叉数：%d'%(len(pd.merge(results_space[(results_space['truth']==1)&(results_space['output_bag']==1)],\n",
    "                                                results_all[(results_all['truth']==1)&(results_all['output_bag']==1)],how='inner',on='car_id'))))\n",
    "print('1209-time&all识别出的出租车车辆交叉数：%d'%(len(pd.merge(results_time[(results_time['truth']==1)&(results_time['output_bag']==1)],\n",
    "                                                results_all[(results_all['truth']==1)&(results_all['output_bag']==1)],how='inner',on='car_id'))))\n",
    "print('1209-space&time&all识别出的出租车车辆交叉数：%d'%(len(\n",
    "    pd.merge(pd.merge(results_space[(results_space['truth']==1)&(results_space['output_bag']==1)],\n",
    "                                                results_time[(results_time['truth']==1)&(results_time['output_bag']==1)],how='inner',on='car_id'),\n",
    "             results_all[(results_all['truth']==1)&(results_all['output_bag']==1)],how='inner',on='car_id'\n",
    "            ))))"
   ]
  },
  {
   "cell_type": "code",
   "execution_count": 23,
   "metadata": {},
   "outputs": [
    {
     "name": "stdout",
     "output_type": "stream",
     "text": [
      "1210-space&time识别出的出租车车辆交叉数：9907\n",
      "1210-space&all识别出的出租车车辆交叉数：10218\n",
      "1210-time&all识别出的出租车车辆交叉数：9956\n",
      "1210-space&time&all识别出的出租车车辆交叉数：9492\n"
     ]
    }
   ],
   "source": [
    "results_space=pd.read_csv(open(r'C:\\Users\\Jeremy\\Desktop\\2019.12.18\\20161210_results.csv'),header=0)\n",
    "results_time=pd.read_csv(open(r'C:\\Users\\Jeremy\\Desktop\\2019.12.18\\20161210_results_time.csv'),header=0)\n",
    "results_all=pd.read_csv(open(r'C:\\Users\\Jeremy\\Desktop\\2019.12.18\\20161210_results_all.csv'),header=0)\n",
    "print('1210-space&time识别出的出租车车辆交叉数：%d'%(len(pd.merge(results_space[(results_space['truth']==1)&(results_space['output_bag']==1)],\n",
    "                                                results_time[(results_time['truth']==1)&(results_time['output_bag']==1)],how='inner',on='car_id'))))\n",
    "print('1210-space&all识别出的出租车车辆交叉数：%d'%(len(pd.merge(results_space[(results_space['truth']==1)&(results_space['output_bag']==1)],\n",
    "                                                results_all[(results_all['truth']==1)&(results_all['output_bag']==1)],how='inner',on='car_id'))))\n",
    "print('1210-time&all识别出的出租车车辆交叉数：%d'%(len(pd.merge(results_time[(results_time['truth']==1)&(results_time['output_bag']==1)],\n",
    "                                                results_all[(results_all['truth']==1)&(results_all['output_bag']==1)],how='inner',on='car_id'))))\n",
    "print('1210-space&time&all识别出的出租车车辆交叉数：%d'%(len(\n",
    "    pd.merge(pd.merge(results_space[(results_space['truth']==1)&(results_space['output_bag']==1)],\n",
    "                                                results_time[(results_time['truth']==1)&(results_time['output_bag']==1)],how='inner',on='car_id'),\n",
    "             results_all[(results_all['truth']==1)&(results_all['output_bag']==1)],how='inner',on='car_id'\n",
    "            ))))"
   ]
  },
  {
   "cell_type": "code",
   "execution_count": 24,
   "metadata": {},
   "outputs": [
    {
     "name": "stdout",
     "output_type": "stream",
     "text": [
      "1211-space&time识别出的出租车车辆交叉数：9635\n",
      "1211-space&all识别出的出租车车辆交叉数：10002\n",
      "1211-time&all识别出的出租车车辆交叉数：9674\n",
      "1211-space&time&all识别出的出租车车辆交叉数：9183\n"
     ]
    }
   ],
   "source": [
    "results_space=pd.read_csv(open(r'C:\\Users\\Jeremy\\Desktop\\2019.12.18\\20161211_results.csv'),header=0)\n",
    "results_time=pd.read_csv(open(r'C:\\Users\\Jeremy\\Desktop\\2019.12.18\\20161211_results_time.csv'),header=0)\n",
    "results_all=pd.read_csv(open(r'C:\\Users\\Jeremy\\Desktop\\2019.12.18\\20161211_results_all.csv'),header=0)\n",
    "print('1211-space&time识别出的出租车车辆交叉数：%d'%(len(pd.merge(results_space[(results_space['truth']==1)&(results_space['output_bag']==1)],\n",
    "                                                results_time[(results_time['truth']==1)&(results_time['output_bag']==1)],how='inner',on='car_id'))))\n",
    "print('1211-space&all识别出的出租车车辆交叉数：%d'%(len(pd.merge(results_space[(results_space['truth']==1)&(results_space['output_bag']==1)],\n",
    "                                                results_all[(results_all['truth']==1)&(results_all['output_bag']==1)],how='inner',on='car_id'))))\n",
    "print('1211-time&all识别出的出租车车辆交叉数：%d'%(len(pd.merge(results_time[(results_time['truth']==1)&(results_time['output_bag']==1)],\n",
    "                                                results_all[(results_all['truth']==1)&(results_all['output_bag']==1)],how='inner',on='car_id'))))\n",
    "print('1211-space&time&all识别出的出租车车辆交叉数：%d'%(len(\n",
    "    pd.merge(pd.merge(results_space[(results_space['truth']==1)&(results_space['output_bag']==1)],\n",
    "                                                results_time[(results_time['truth']==1)&(results_time['output_bag']==1)],how='inner',on='car_id'),\n",
    "             results_all[(results_all['truth']==1)&(results_all['output_bag']==1)],how='inner',on='car_id'\n",
    "            ))))"
   ]
  },
  {
   "cell_type": "code",
   "execution_count": null,
   "metadata": {},
   "outputs": [],
   "source": []
  }
 ],
 "metadata": {
  "kernelspec": {
   "display_name": "Python 3",
   "language": "python",
   "name": "python3"
  },
  "language_info": {
   "codemirror_mode": {
    "name": "ipython",
    "version": 3
   },
   "file_extension": ".py",
   "mimetype": "text/x-python",
   "name": "python",
   "nbconvert_exporter": "python",
   "pygments_lexer": "ipython3",
   "version": "3.8.8"
  }
 },
 "nbformat": 4,
 "nbformat_minor": 2
}
