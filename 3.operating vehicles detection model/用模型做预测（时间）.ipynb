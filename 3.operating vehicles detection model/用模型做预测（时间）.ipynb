{
 "cells": [
  {
   "cell_type": "markdown",
   "metadata": {},
   "source": [
    "# 用训练好的模型预测12.06-12.11的数据"
   ]
  },
  {
   "cell_type": "code",
   "execution_count": 1,
   "metadata": {},
   "outputs": [
    {
     "name": "stderr",
     "output_type": "stream",
     "text": [
      "D:\\Anaconda\\lib\\site-packages\\sklearn\\externals\\joblib\\__init__.py:15: DeprecationWarning: sklearn.externals.joblib is deprecated in 0.21 and will be removed in 0.23. Please import this functionality directly from joblib, which can be installed with: pip install joblib. If this warning is raised when loading pickled models, you may need to re-serialize those models with scikit-learn 0.21+.\n",
      "  warnings.warn(msg, category=DeprecationWarning)\n",
      "D:\\Anaconda\\lib\\site-packages\\sklearn\\externals\\six.py:31: DeprecationWarning: The module is deprecated in version 0.21 and will be removed in version 0.23 since we've dropped support for Python 2.7. Please rely on the official version of six (https://pypi.org/project/six/).\n",
      "  \"(https://pypi.org/project/six/).\", DeprecationWarning)\n"
     ]
    }
   ],
   "source": [
    "from sklearn.externals import joblib\n",
    "\n",
    "rf=joblib.load(r'C:\\Users\\Jeremy\\Desktop\\rf_time.pickle')\n",
    "estimator=joblib.load(r'C:\\Users\\Jeremy\\Desktop\\estimator_time.pickle')\n",
    "bc=joblib.load(r'C:\\Users\\Jeremy\\Desktop\\bc_time.pickle')\n",
    "rf2=joblib.load(r'C:\\Users\\Jeremy\\Desktop\\rf2_time.pickle')"
   ]
  },
  {
   "cell_type": "code",
   "execution_count": 2,
   "metadata": {},
   "outputs": [
    {
     "name": "stdout",
     "output_type": "stream",
     "text": [
      "967225 data points and 24 features\n",
      "12048 positive out of 967225 total\n",
      "1111111111111111111111111111111\n",
      "2222222222222222222222222222222222\n",
      "33333333333333333333333333333333\n",
      "44444444444444444444444444444444444\n",
      "          truth  output_std  output_bag  output_skb  output_stp  output_all\n",
      "21545221    1.0       0.551         1.0       0.883       0.509    0.686667\n",
      "21533559    1.0       0.508         1.0       0.891       0.494    0.667333\n",
      "21534659    1.0       0.523         1.0       0.922       0.494    0.672333\n",
      "21546250    1.0       0.530         1.0       0.909       0.578    0.702667\n",
      "21528498    1.0       0.546         1.0       0.928       0.509    0.685000\n",
      "...         ...         ...         ...         ...         ...         ...\n",
      "24010573    0.0       0.000         0.0       0.000       0.000    0.000000\n",
      "21428917    0.0       0.000         0.0       0.000       0.000    0.000000\n",
      "28031624    0.0       0.000         0.0       0.000       0.000    0.000000\n",
      "22698749    0.0       0.000         0.0       0.000       0.000    0.000000\n",
      "22592135    0.0       0.000         0.0       0.000       0.000    0.000000\n",
      "\n",
      "[967225 rows x 6 columns]\n"
     ]
    }
   ],
   "source": [
    "import pandas as pd\n",
    "import numpy as np\n",
    "\n",
    "df_chuzuche_feature=pd.read_csv(open(r'C:\\Users\\Jeremy\\Desktop\\2019.12.18\\20161206_title_chuzuche_time_yueB_regular_zhibiao.csv'),header=0,index_col='car_id')\n",
    "df_chuzuche_feature=df_chuzuche_feature.dropna()#删除所有有空值的行\n",
    "#df_chuzuche_feature.reset_index(drop=True,inplace=True)#重置索引\n",
    "df_shehuiche_feature=pd.read_csv(open(r'C:\\Users\\Jeremy\\Desktop\\2019.12.18\\20161206_title_shehuiche_time_yueB_regular_zhibiao.csv'),header=0,index_col='car_id')\n",
    "df_shehuiche_feature=df_shehuiche_feature.dropna()#删除所有有空值的行\n",
    "#df_shehuiche_feature.reset_index(drop=True,inplace=True)#重置索引\n",
    "X=pd.concat([df_chuzuche_feature,df_shehuiche_feature])\n",
    "#X.reset_index(drop=True,inplace=True)#重置索引\n",
    "y = np.zeros(len(df_chuzuche_feature)+len(df_shehuiche_feature))\n",
    "y[:len(df_chuzuche_feature)] = 1.0\n",
    "car_id=list(X.index)#删除只出行一次的车辆，car_id表示出行次数大于1的车辆ID\n",
    "y = pd.Series(y,index=car_id)\n",
    "print('%d data points and %d features' % (X.shape))\n",
    "print('%d positive out of %d total' % (sum(y), len(y)))\n",
    "\n",
    "results = pd.DataFrame({\n",
    "    'truth'      : y,        # The labels to be shown to models in experiment\n",
    "    'output_std' : rf.predict_proba(X)[:,1]   # The random forest's scores；第i行第j列上的数值是模型预测第i个预测样本为某个标签的概率\n",
    "}, columns = ['truth', 'output_std'])\n",
    "print(\"1111111111111111111111111111111\")\n",
    "\n",
    "results['output_bag']=estimator.predict_proba(X)[:,1]\n",
    "print(\"2222222222222222222222222222222222\")\n",
    "\n",
    "results['output_skb'] = bc.predict_proba(X)[:,1]\n",
    "print(\"33333333333333333333333333333333\")\n",
    "\n",
    "results['output_stp'] = rf2.predict_proba(X)[:,-1] #6000个样本为1的概率\n",
    "print(\"44444444444444444444444444444444444\")\n",
    "\n",
    "results['output_all'] = results[[\n",
    "    'output_std', 'output_bag', 'output_stp'\n",
    "]].mean(axis = 1)#三种方法计算每个样本为1的平均概率。output_std为标准分类，output_bag为bagging分类，output_skb也是bagging分类，output_stp为两步法\n",
    "\n",
    "results_chuzuche=results.iloc[:len(df_chuzuche_feature)]\n",
    "print(results)\n",
    "results.index.name='car_id'\n",
    "results.to_csv(r'C:\\Users\\Jeremy\\Desktop\\2019.12.18\\20161206_results_time.csv')"
   ]
  },
  {
   "cell_type": "code",
   "execution_count": 3,
   "metadata": {},
   "outputs": [
    {
     "name": "stdout",
     "output_type": "stream",
     "text": [
      "967281 data points and 24 features\n",
      "12073 positive out of 967281 total\n",
      "1111111111111111111111111111111\n",
      "2222222222222222222222222222222222\n",
      "33333333333333333333333333333333\n",
      "44444444444444444444444444444444444\n",
      "          truth  output_std  output_bag  output_skb  output_stp  output_all\n",
      "21520741    1.0    0.480000    1.000000    0.895000    0.450000    0.643333\n",
      "21417202    1.0    0.461000    0.000000    0.832000    0.477000    0.312667\n",
      "21527060    1.0    0.476000    1.000000    0.861000    0.508000    0.661333\n",
      "21526276    1.0    0.549000    1.000000    0.879000    0.559000    0.702667\n",
      "21553527    1.0    0.457000    1.000000    0.924000    0.483000    0.646667\n",
      "...         ...         ...         ...         ...         ...         ...\n",
      "22473514    0.0    0.000161    0.015152    0.015366    0.000161    0.005158\n",
      "24214738    0.0    0.000697    0.048780    0.068537    0.000715    0.016731\n",
      "21994999    0.0    0.000000    0.000000    0.000000    0.000000    0.000000\n",
      "22475994    0.0    0.000846    0.081081    0.078904    0.000823    0.027583\n",
      "22598938    0.0    0.000000    0.000000    0.000000    0.000000    0.000000\n",
      "\n",
      "[967281 rows x 6 columns]\n"
     ]
    }
   ],
   "source": [
    "import pandas as pd\n",
    "import numpy as np\n",
    "\n",
    "df_chuzuche_feature=pd.read_csv(open(r'C:\\Users\\Jeremy\\Desktop\\2019.12.18\\20161207_title_chuzuche_time_yueB_regular_zhibiao.csv'),header=0,index_col='car_id')\n",
    "df_chuzuche_feature=df_chuzuche_feature.dropna()#删除所有有空值的行\n",
    "#df_chuzuche_feature.reset_index(drop=True,inplace=True)#重置索引\n",
    "df_shehuiche_feature=pd.read_csv(open(r'C:\\Users\\Jeremy\\Desktop\\2019.12.18\\20161207_title_shehuiche_time_yueB_regular_zhibiao.csv'),header=0,index_col='car_id')\n",
    "df_shehuiche_feature=df_shehuiche_feature.dropna()#删除所有有空值的行\n",
    "#df_shehuiche_feature.reset_index(drop=True,inplace=True)#重置索引\n",
    "X=pd.concat([df_chuzuche_feature,df_shehuiche_feature])\n",
    "#X.reset_index(drop=True,inplace=True)#重置索引\n",
    "y = np.zeros(len(df_chuzuche_feature)+len(df_shehuiche_feature))\n",
    "y[:len(df_chuzuche_feature)] = 1.0\n",
    "car_id=list(X.index)#删除只出行一次的车辆，car_id表示出行次数大于1的车辆ID\n",
    "y = pd.Series(y,index=car_id)\n",
    "print('%d data points and %d features' % (X.shape))\n",
    "print('%d positive out of %d total' % (sum(y), len(y)))\n",
    "\n",
    "results = pd.DataFrame({\n",
    "    'truth'      : y,        # The labels to be shown to models in experiment\n",
    "    'output_std' : rf.predict_proba(X)[:,1]   # The random forest's scores；第i行第j列上的数值是模型预测第i个预测样本为某个标签的概率\n",
    "}, columns = ['truth', 'output_std'])\n",
    "print(\"1111111111111111111111111111111\")\n",
    "\n",
    "results['output_bag']=estimator.predict_proba(X)[:,1]\n",
    "print(\"2222222222222222222222222222222222\")\n",
    "\n",
    "results['output_skb'] = bc.predict_proba(X)[:,1]\n",
    "print(\"33333333333333333333333333333333\")\n",
    "\n",
    "results['output_stp'] = rf2.predict_proba(X)[:,-1] #6000个样本为1的概率\n",
    "print(\"44444444444444444444444444444444444\")\n",
    "\n",
    "results['output_all'] = results[[\n",
    "    'output_std', 'output_bag', 'output_stp'\n",
    "]].mean(axis = 1)#三种方法计算每个样本为1的平均概率。output_std为标准分类，output_bag为bagging分类，output_skb也是bagging分类，output_stp为两步法\n",
    "\n",
    "results_chuzuche=results.iloc[:len(df_chuzuche_feature)]\n",
    "print(results)\n",
    "results.index.name='car_id'\n",
    "results.to_csv(r'C:\\Users\\Jeremy\\Desktop\\2019.12.18\\20161207_results_time.csv')"
   ]
  },
  {
   "cell_type": "code",
   "execution_count": 4,
   "metadata": {},
   "outputs": [
    {
     "name": "stdout",
     "output_type": "stream",
     "text": [
      "962459 data points and 24 features\n",
      "12035 positive out of 962459 total\n",
      "1111111111111111111111111111111\n",
      "2222222222222222222222222222222222\n",
      "33333333333333333333333333333333\n",
      "44444444444444444444444444444444444\n",
      "          truth  output_std  output_bag  output_skb  output_stp  output_all\n",
      "21404880    1.0     0.45900    0.000000    0.872000    0.445000    0.301333\n",
      "21549273    1.0     0.50100    1.000000    0.943000    0.474000    0.658333\n",
      "21704610    1.0     0.46000    1.000000    0.947000    0.479000    0.646333\n",
      "21527060    1.0     0.49100    1.000000    0.914000    0.554000    0.681667\n",
      "21522952    1.0     0.51700    1.000000    0.906000    0.516000    0.677667\n",
      "...         ...         ...         ...         ...         ...         ...\n",
      "22808568    0.0     0.00703    0.333333    0.534793    0.006969    0.115777\n",
      "23261654    0.0     0.00000    0.000000    0.000000    0.000000    0.000000\n",
      "22926864    0.0     0.00000    0.000000    0.000000    0.000000    0.000000\n",
      "22570919    0.0     0.00000    0.000000    0.000000    0.000000    0.000000\n",
      "24499001    0.0     0.00000    0.000000    0.000000    0.000000    0.000000\n",
      "\n",
      "[962459 rows x 6 columns]\n"
     ]
    }
   ],
   "source": [
    "import pandas as pd\n",
    "import numpy as np\n",
    "\n",
    "df_chuzuche_feature=pd.read_csv(open(r'C:\\Users\\Jeremy\\Desktop\\2019.12.18\\20161208_title_chuzuche_time_yueB_regular_zhibiao.csv'),header=0,index_col='car_id')\n",
    "df_chuzuche_feature=df_chuzuche_feature.dropna()#删除所有有空值的行\n",
    "#df_chuzuche_feature.reset_index(drop=True,inplace=True)#重置索引\n",
    "df_shehuiche_feature=pd.read_csv(open(r'C:\\Users\\Jeremy\\Desktop\\2019.12.18\\20161208_title_shehuiche_time_yueB_regular_zhibiao.csv'),header=0,index_col='car_id')\n",
    "df_shehuiche_feature=df_shehuiche_feature.dropna()#删除所有有空值的行\n",
    "#df_shehuiche_feature.reset_index(drop=True,inplace=True)#重置索引\n",
    "X=pd.concat([df_chuzuche_feature,df_shehuiche_feature])\n",
    "#X.reset_index(drop=True,inplace=True)#重置索引\n",
    "y = np.zeros(len(df_chuzuche_feature)+len(df_shehuiche_feature))\n",
    "y[:len(df_chuzuche_feature)] = 1.0\n",
    "car_id=list(X.index)#删除只出行一次的车辆，car_id表示出行次数大于1的车辆ID\n",
    "y = pd.Series(y,index=car_id)\n",
    "print('%d data points and %d features' % (X.shape))\n",
    "print('%d positive out of %d total' % (sum(y), len(y)))\n",
    "\n",
    "results = pd.DataFrame({\n",
    "    'truth'      : y,        # The labels to be shown to models in experiment\n",
    "    'output_std' : rf.predict_proba(X)[:,1]   # The random forest's scores；第i行第j列上的数值是模型预测第i个预测样本为某个标签的概率\n",
    "}, columns = ['truth', 'output_std'])\n",
    "print(\"1111111111111111111111111111111\")\n",
    "\n",
    "results['output_bag']=estimator.predict_proba(X)[:,1]\n",
    "print(\"2222222222222222222222222222222222\")\n",
    "\n",
    "results['output_skb'] = bc.predict_proba(X)[:,1]\n",
    "print(\"33333333333333333333333333333333\")\n",
    "\n",
    "results['output_stp'] = rf2.predict_proba(X)[:,-1] #6000个样本为1的概率\n",
    "print(\"44444444444444444444444444444444444\")\n",
    "\n",
    "results['output_all'] = results[[\n",
    "    'output_std', 'output_bag', 'output_stp'\n",
    "]].mean(axis = 1)#三种方法计算每个样本为1的平均概率。output_std为标准分类，output_bag为bagging分类，output_skb也是bagging分类，output_stp为两步法\n",
    "\n",
    "results_chuzuche=results.iloc[:len(df_chuzuche_feature)]\n",
    "print(results)\n",
    "results.index.name='car_id'\n",
    "results.to_csv(r'C:\\Users\\Jeremy\\Desktop\\2019.12.18\\20161208_results_time.csv')"
   ]
  },
  {
   "cell_type": "code",
   "execution_count": 5,
   "metadata": {},
   "outputs": [
    {
     "name": "stdout",
     "output_type": "stream",
     "text": [
      "983743 data points and 24 features\n",
      "12055 positive out of 983743 total\n",
      "1111111111111111111111111111111\n",
      "2222222222222222222222222222222222\n",
      "33333333333333333333333333333333\n",
      "44444444444444444444444444444444444\n",
      "          truth  output_std  output_bag  output_skb  output_stp  output_all\n",
      "21545221    1.0    0.534000    1.000000    0.897000    0.523000    0.685667\n",
      "21522952    1.0    0.437000    0.000000    0.808000    0.488000    0.308333\n",
      "21457066    1.0    0.455000    1.000000    0.894000    0.466000    0.640333\n",
      "21717676    1.0    0.456000    1.000000    0.867000    0.479000    0.645000\n",
      "22381640    1.0    0.522000    1.000000    0.951000    0.486000    0.669333\n",
      "...         ...         ...         ...         ...         ...         ...\n",
      "21956223    0.0    0.000000    0.000000    0.001000    0.000000    0.000000\n",
      "23245538    0.0    0.000278    0.025641    0.028692    0.000273    0.008731\n",
      "23151497    0.0    0.000000    0.000000    0.000000    0.000000    0.000000\n",
      "23344634    0.0    0.000000    0.000000    0.000000    0.000000    0.000000\n",
      "23503769    0.0    0.000000    0.000000    0.000000    0.000000    0.000000\n",
      "\n",
      "[983743 rows x 6 columns]\n"
     ]
    }
   ],
   "source": [
    "import pandas as pd\n",
    "import numpy as np\n",
    "\n",
    "df_chuzuche_feature=pd.read_csv(open(r'C:\\Users\\Jeremy\\Desktop\\2019.12.18\\20161209_title_chuzuche_time_yueB_regular_zhibiao.csv'),header=0,index_col='car_id')\n",
    "df_chuzuche_feature=df_chuzuche_feature.dropna()#删除所有有空值的行\n",
    "#df_chuzuche_feature.reset_index(drop=True,inplace=True)#重置索引\n",
    "df_shehuiche_feature=pd.read_csv(open(r'C:\\Users\\Jeremy\\Desktop\\2019.12.18\\20161209_title_shehuiche_time_yueB_regular_zhibiao.csv'),header=0,index_col='car_id')\n",
    "df_shehuiche_feature=df_shehuiche_feature.dropna()#删除所有有空值的行\n",
    "#df_shehuiche_feature.reset_index(drop=True,inplace=True)#重置索引\n",
    "X=pd.concat([df_chuzuche_feature,df_shehuiche_feature])\n",
    "#X.reset_index(drop=True,inplace=True)#重置索引\n",
    "y = np.zeros(len(df_chuzuche_feature)+len(df_shehuiche_feature))\n",
    "y[:len(df_chuzuche_feature)] = 1.0\n",
    "car_id=list(X.index)#删除只出行一次的车辆，car_id表示出行次数大于1的车辆ID\n",
    "y = pd.Series(y,index=car_id)\n",
    "print('%d data points and %d features' % (X.shape))\n",
    "print('%d positive out of %d total' % (sum(y), len(y)))\n",
    "\n",
    "results = pd.DataFrame({\n",
    "    'truth'      : y,        # The labels to be shown to models in experiment\n",
    "    'output_std' : rf.predict_proba(X)[:,1]   # The random forest's scores；第i行第j列上的数值是模型预测第i个预测样本为某个标签的概率\n",
    "}, columns = ['truth', 'output_std'])\n",
    "print(\"1111111111111111111111111111111\")\n",
    "\n",
    "results['output_bag']=estimator.predict_proba(X)[:,1]\n",
    "print(\"2222222222222222222222222222222222\")\n",
    "\n",
    "results['output_skb'] = bc.predict_proba(X)[:,1]\n",
    "print(\"33333333333333333333333333333333\")\n",
    "\n",
    "results['output_stp'] = rf2.predict_proba(X)[:,-1] #6000个样本为1的概率\n",
    "print(\"44444444444444444444444444444444444\")\n",
    "\n",
    "results['output_all'] = results[[\n",
    "    'output_std', 'output_bag', 'output_stp'\n",
    "]].mean(axis = 1)#三种方法计算每个样本为1的平均概率。output_std为标准分类，output_bag为bagging分类，output_skb也是bagging分类，output_stp为两步法\n",
    "\n",
    "results_chuzuche=results.iloc[:len(df_chuzuche_feature)]\n",
    "print(results)\n",
    "results.index.name='car_id'\n",
    "results.to_csv(r'C:\\Users\\Jeremy\\Desktop\\2019.12.18\\20161209_results_time.csv')"
   ]
  },
  {
   "cell_type": "code",
   "execution_count": 6,
   "metadata": {},
   "outputs": [
    {
     "name": "stdout",
     "output_type": "stream",
     "text": [
      "909614 data points and 24 features\n",
      "12033 positive out of 909614 total\n",
      "1111111111111111111111111111111\n",
      "2222222222222222222222222222222222\n",
      "33333333333333333333333333333333\n",
      "44444444444444444444444444444444444\n",
      "          truth  output_std  output_bag  output_skb  output_stp  output_all\n",
      "21417202    1.0    0.411000      1.0000    0.812000    0.437000    0.616000\n",
      "21522952    1.0    0.494000      0.0000    0.886000    0.501000    0.331667\n",
      "21546250    1.0    0.555000      1.0000    0.934000    0.541000    0.698667\n",
      "21651679    1.0    0.486000      1.0000    0.859000    0.490000    0.658667\n",
      "21559243    1.0    0.492000      1.0000    0.943000    0.499000    0.663667\n",
      "...         ...         ...         ...         ...         ...         ...\n",
      "23462160    0.0    0.000000      0.0000    0.000000    0.000000    0.000000\n",
      "21770696    0.0    0.000000      0.0000    0.000000    0.000000    0.000000\n",
      "22873705    0.0    0.000505      0.0625    0.049378    0.000507    0.021170\n",
      "23572297    0.0    0.000000      0.0000    0.000000    0.000000    0.000000\n",
      "23906362    0.0    0.000000      0.0000    0.000000    0.000000    0.000000\n",
      "\n",
      "[909614 rows x 6 columns]\n"
     ]
    }
   ],
   "source": [
    "import pandas as pd\n",
    "import numpy as np\n",
    "\n",
    "df_chuzuche_feature=pd.read_csv(open(r'C:\\Users\\Jeremy\\Desktop\\2019.12.18\\20161210_title_chuzuche_time_yueB_regular_zhibiao.csv'),header=0,index_col='car_id')\n",
    "df_chuzuche_feature=df_chuzuche_feature.dropna()#删除所有有空值的行\n",
    "#df_chuzuche_feature.reset_index(drop=True,inplace=True)#重置索引\n",
    "df_shehuiche_feature=pd.read_csv(open(r'C:\\Users\\Jeremy\\Desktop\\2019.12.18\\20161210_title_shehuiche_time_yueB_regular_zhibiao.csv'),header=0,index_col='car_id')\n",
    "df_shehuiche_feature=df_shehuiche_feature.dropna()#删除所有有空值的行\n",
    "#df_shehuiche_feature.reset_index(drop=True,inplace=True)#重置索引\n",
    "X=pd.concat([df_chuzuche_feature,df_shehuiche_feature])\n",
    "#X.reset_index(drop=True,inplace=True)#重置索引\n",
    "y = np.zeros(len(df_chuzuche_feature)+len(df_shehuiche_feature))\n",
    "y[:len(df_chuzuche_feature)] = 1.0\n",
    "car_id=list(X.index)#删除只出行一次的车辆，car_id表示出行次数大于1的车辆ID\n",
    "y = pd.Series(y,index=car_id)\n",
    "print('%d data points and %d features' % (X.shape))\n",
    "print('%d positive out of %d total' % (sum(y), len(y)))\n",
    "\n",
    "results = pd.DataFrame({\n",
    "    'truth'      : y,        # The labels to be shown to models in experiment\n",
    "    'output_std' : rf.predict_proba(X)[:,1]   # The random forest's scores；第i行第j列上的数值是模型预测第i个预测样本为某个标签的概率\n",
    "}, columns = ['truth', 'output_std'])\n",
    "print(\"1111111111111111111111111111111\")\n",
    "\n",
    "results['output_bag']=estimator.predict_proba(X)[:,1]\n",
    "print(\"2222222222222222222222222222222222\")\n",
    "\n",
    "results['output_skb'] = bc.predict_proba(X)[:,1]\n",
    "print(\"33333333333333333333333333333333\")\n",
    "\n",
    "results['output_stp'] = rf2.predict_proba(X)[:,-1] #6000个样本为1的概率\n",
    "print(\"44444444444444444444444444444444444\")\n",
    "\n",
    "results['output_all'] = results[[\n",
    "    'output_std', 'output_bag', 'output_stp'\n",
    "]].mean(axis = 1)#三种方法计算每个样本为1的平均概率。output_std为标准分类，output_bag为bagging分类，output_skb也是bagging分类，output_stp为两步法\n",
    "\n",
    "results_chuzuche=results.iloc[:len(df_chuzuche_feature)]\n",
    "print(results)\n",
    "results.index.name='car_id'\n",
    "results.to_csv(r'C:\\Users\\Jeremy\\Desktop\\2019.12.18\\20161210_results_time.csv')"
   ]
  },
  {
   "cell_type": "code",
   "execution_count": 7,
   "metadata": {},
   "outputs": [
    {
     "name": "stdout",
     "output_type": "stream",
     "text": [
      "828817 data points and 24 features\n",
      "12011 positive out of 828817 total\n",
      "1111111111111111111111111111111\n",
      "2222222222222222222222222222222222\n",
      "33333333333333333333333333333333\n",
      "44444444444444444444444444444444444\n",
      "          truth  output_std  output_bag  output_skb  output_stp  output_all\n",
      "21533003    1.0    0.477000    0.000000    0.849000    0.492000    0.323000\n",
      "21404880    1.0    0.519000    1.000000    0.900000    0.515000    0.678000\n",
      "21545221    1.0    0.521000    1.000000    0.889000    0.565000    0.695333\n",
      "21751290    1.0    0.517000    0.000000    0.887000    0.497000    0.338000\n",
      "22365238    1.0    0.415000    1.000000    0.839000    0.427000    0.614000\n",
      "...         ...         ...         ...         ...         ...         ...\n",
      "24151418    0.0    0.000291    0.026316    0.029448    0.000298    0.008968\n",
      "25522049    0.0    0.000000    0.000000    0.000000    0.000000    0.000000\n",
      "23454652    0.0    0.000000    0.000000    0.000000    0.000000    0.000000\n",
      "21898981    0.0    0.001338    0.125000    0.134896    0.001400    0.042580\n",
      "21729038    0.0    0.000000    0.000000    0.000000    0.000000    0.000000\n",
      "\n",
      "[828817 rows x 6 columns]\n"
     ]
    }
   ],
   "source": [
    "import pandas as pd\n",
    "import numpy as np\n",
    "\n",
    "df_chuzuche_feature=pd.read_csv(open(r'C:\\Users\\Jeremy\\Desktop\\2019.12.18\\20161211_title_chuzuche_time_yueB_regular_zhibiao.csv'),header=0,index_col='car_id')\n",
    "df_chuzuche_feature=df_chuzuche_feature.dropna()#删除所有有空值的行\n",
    "#df_chuzuche_feature.reset_index(drop=True,inplace=True)#重置索引\n",
    "df_shehuiche_feature=pd.read_csv(open(r'C:\\Users\\Jeremy\\Desktop\\2019.12.18\\20161211_title_shehuiche_time_yueB_regular_zhibiao.csv'),header=0,index_col='car_id')\n",
    "df_shehuiche_feature=df_shehuiche_feature.dropna()#删除所有有空值的行\n",
    "#df_shehuiche_feature.reset_index(drop=True,inplace=True)#重置索引\n",
    "X=pd.concat([df_chuzuche_feature,df_shehuiche_feature])\n",
    "#X.reset_index(drop=True,inplace=True)#重置索引\n",
    "y = np.zeros(len(df_chuzuche_feature)+len(df_shehuiche_feature))\n",
    "y[:len(df_chuzuche_feature)] = 1.0\n",
    "car_id=list(X.index)#删除只出行一次的车辆，car_id表示出行次数大于1的车辆ID\n",
    "y = pd.Series(y,index=car_id)\n",
    "print('%d data points and %d features' % (X.shape))\n",
    "print('%d positive out of %d total' % (sum(y), len(y)))\n",
    "\n",
    "results = pd.DataFrame({\n",
    "    'truth'      : y,        # The labels to be shown to models in experiment\n",
    "    'output_std' : rf.predict_proba(X)[:,1]   # The random forest's scores；第i行第j列上的数值是模型预测第i个预测样本为某个标签的概率\n",
    "}, columns = ['truth', 'output_std'])\n",
    "print(\"1111111111111111111111111111111\")\n",
    "\n",
    "results['output_bag']=estimator.predict_proba(X)[:,1]\n",
    "print(\"2222222222222222222222222222222222\")\n",
    "\n",
    "results['output_skb'] = bc.predict_proba(X)[:,1]\n",
    "print(\"33333333333333333333333333333333\")\n",
    "\n",
    "results['output_stp'] = rf2.predict_proba(X)[:,-1] #6000个样本为1的概率\n",
    "print(\"44444444444444444444444444444444444\")\n",
    "\n",
    "results['output_all'] = results[[\n",
    "    'output_std', 'output_bag', 'output_stp'\n",
    "]].mean(axis = 1)#三种方法计算每个样本为1的平均概率。output_std为标准分类，output_bag为bagging分类，output_skb也是bagging分类，output_stp为两步法\n",
    "\n",
    "results_chuzuche=results.iloc[:len(df_chuzuche_feature)]\n",
    "print(results)\n",
    "results.index.name='car_id'\n",
    "results.to_csv(r'C:\\Users\\Jeremy\\Desktop\\2019.12.18\\20161211_results_time.csv')"
   ]
  },
  {
   "cell_type": "markdown",
   "metadata": {},
   "source": [
    "# 将12.05-12.11的预测结果合并"
   ]
  },
  {
   "cell_type": "code",
   "execution_count": 1,
   "metadata": {},
   "outputs": [],
   "source": [
    "import pandas as pd\n",
    "import numpy as np\n",
    "\n",
    "results_1205=pd.read_csv(open(r'C:\\Users\\Jeremy\\Desktop\\2019.12.18\\20161205_results_time.csv'),header=0)\n",
    "results_1205.rename(columns={'truth':'truth_05', 'label':'label_05', 'output_std':'output_std_05', 'output_bag':'output_bag_05', \n",
    "                             'output_skb':'output_skb_05', 'output_stp':'output_stp_05', 'output_all':'output_all_05'}, inplace = True)\n",
    "results_1206=pd.read_csv(open(r'C:\\Users\\Jeremy\\Desktop\\2019.12.18\\20161206_results_time.csv'),header=0)\n",
    "results_1206.rename(columns={'truth':'truth_06', 'output_std':'output_std_06', 'output_bag':'output_bag_06', \n",
    "                             'output_skb':'output_skb_06', 'output_stp':'output_stp_06', 'output_all':'output_all_06'}, inplace = True)\n",
    "results_1207=pd.read_csv(open(r'C:\\Users\\Jeremy\\Desktop\\2019.12.18\\20161207_results_time.csv'),header=0)\n",
    "results_1207.rename(columns={'truth':'truth_07', 'output_std':'output_std_07', 'output_bag':'output_bag_07', \n",
    "                             'output_skb':'output_skb_07', 'output_stp':'output_stp_07', 'output_all':'output_all_07'}, inplace = True)\n",
    "results_1208=pd.read_csv(open(r'C:\\Users\\Jeremy\\Desktop\\2019.12.18\\20161208_results_time.csv'),header=0)\n",
    "results_1208.rename(columns={'truth':'truth_08', 'output_std':'output_std_08', 'output_bag':'output_bag_08', \n",
    "                             'output_skb':'output_skb_08', 'output_stp':'output_stp_08', 'output_all':'output_all_08'}, inplace = True)\n",
    "results_1209=pd.read_csv(open(r'C:\\Users\\Jeremy\\Desktop\\2019.12.18\\20161209_results_time.csv'),header=0)\n",
    "results_1209.rename(columns={'truth':'truth_09', 'output_std':'output_std_09', 'output_bag':'output_bag_09', \n",
    "                             'output_skb':'output_skb_09', 'output_stp':'output_stp_09', 'output_all':'output_all_09'}, inplace = True)\n",
    "results_1210=pd.read_csv(open(r'C:\\Users\\Jeremy\\Desktop\\2019.12.18\\20161210_results_time.csv'),header=0)\n",
    "results_1210.rename(columns={'truth':'truth_10', 'output_std':'output_std_10', 'output_bag':'output_bag_10', \n",
    "                             'output_skb':'output_skb_10', 'output_stp':'output_stp_10', 'output_all':'output_all_10'}, inplace = True)\n",
    "results_1211=pd.read_csv(open(r'C:\\Users\\Jeremy\\Desktop\\2019.12.18\\20161211_results_time.csv'),header=0)\n",
    "results_1211.rename(columns={'truth':'truth_11', 'output_std':'output_std_11', 'output_bag':'output_bag_11', \n",
    "                             'output_skb':'output_skb_11', 'output_stp':'output_stp_11', 'output_all':'output_all_11'}, inplace = True)"
   ]
  },
  {
   "cell_type": "code",
   "execution_count": 2,
   "metadata": {},
   "outputs": [
    {
     "name": "stdout",
     "output_type": "stream",
     "text": [
      "1206总出租车数量：12048\n",
      "1206识别出的出租车数量：10436\n",
      "1206出租车识别准确率：0.866202\n",
      "1206总社会车数量：955177\n",
      "1206社会车中识别出的运营车数量：107228\n",
      "1206社会车中运营比例：0.112260\n",
      "1207总出租车数量：12073\n",
      "1207识别出的出租车数量：10478\n",
      "1207出租车识别准确率：0.867887\n",
      "1207总社会车数量：955208\n",
      "1207社会车中识别出的运营车数量：108251\n",
      "1207社会车中运营比例：0.113327\n",
      "1208总出租车数量：12035\n",
      "1208识别出的出租车数量：10493\n",
      "1208出租车识别准确率：0.871874\n",
      "1208总社会车数量：950424\n",
      "1208社会车中识别出的运营车数量：108439\n",
      "1208社会车中运营比例：0.114095\n",
      "1209总出租车数量：12055\n",
      "1209识别出的出租车数量：10635\n",
      "1209出租车识别准确率：0.882207\n",
      "1209总社会车数量：971688\n",
      "1209社会车中识别出的运营车数量：112817\n",
      "1209社会车中运营比例：0.116104\n",
      "1210总出租车数量：12033\n",
      "1210识别出的出租车数量：10571\n",
      "1210出租车识别准确率：0.878501\n",
      "1210总社会车数量：897581\n",
      "1210社会车中识别出的运营车数量：105722\n",
      "1210社会车中运营比例：0.117785\n",
      "1211总出租车数量：12011\n",
      "1211识别出的出租车数量：10376\n",
      "1211出租车识别准确率：0.863875\n",
      "1211总社会车数量：816806\n",
      "1211社会车中识别出的运营车数量：91083\n",
      "1211社会车中运营比例：0.111511\n"
     ]
    }
   ],
   "source": [
    "print('1206总出租车数量：%d'%(len(results_1206[results_1206['truth_06']==1])))\n",
    "print('1206识别出的出租车数量：%d'%(len(results_1206[(results_1206['output_bag_06']==1) & (results_1206['truth_06']==1)])))\n",
    "print('1206出租车识别准确率：%f'%(len(results_1206[(results_1206['output_bag_06']==1) & (results_1206['truth_06']==1)])/len(results_1206[results_1206['truth_06']==1])))\n",
    "print('1206总社会车数量：%d'%(len(results_1206[results_1206['truth_06']==0])))\n",
    "print('1206社会车中识别出的运营车数量：%d'%(len(results_1206[(results_1206['output_bag_06']==1) & (results_1206['truth_06']==0)])))\n",
    "print('1206社会车中运营比例：%f'%(len(results_1206[(results_1206['output_bag_06']==1) & (results_1206['truth_06']==0)])/len(results_1206[results_1206['truth_06']==0])))\n",
    "\n",
    "print('1207总出租车数量：%d'%(len(results_1207[results_1207['truth_07']==1])))\n",
    "print('1207识别出的出租车数量：%d'%(len(results_1207[(results_1207['output_bag_07']==1) & (results_1207['truth_07']==1)])))\n",
    "print('1207出租车识别准确率：%f'%(len(results_1207[(results_1207['output_bag_07']==1) & (results_1207['truth_07']==1)])/len(results_1207[results_1207['truth_07']==1])))\n",
    "print('1207总社会车数量：%d'%(len(results_1207[results_1207['truth_07']==0])))\n",
    "print('1207社会车中识别出的运营车数量：%d'%(len(results_1207[(results_1207['output_bag_07']==1) & (results_1207['truth_07']==0)])))\n",
    "print('1207社会车中运营比例：%f'%(len(results_1207[(results_1207['output_bag_07']==1) & (results_1207['truth_07']==0)])/len(results_1207[results_1207['truth_07']==0])))\n",
    "\n",
    "print('1208总出租车数量：%d'%(len(results_1208[results_1208['truth_08']==1])))\n",
    "print('1208识别出的出租车数量：%d'%(len(results_1208[(results_1208['output_bag_08']==1) & (results_1208['truth_08']==1)])))\n",
    "print('1208出租车识别准确率：%f'%(len(results_1208[(results_1208['output_bag_08']==1) & (results_1208['truth_08']==1)])/len(results_1208[results_1208['truth_08']==1])))\n",
    "print('1208总社会车数量：%d'%(len(results_1208[results_1208['truth_08']==0])))\n",
    "print('1208社会车中识别出的运营车数量：%d'%(len(results_1208[(results_1208['output_bag_08']==1) & (results_1208['truth_08']==0)])))\n",
    "print('1208社会车中运营比例：%f'%(len(results_1208[(results_1208['output_bag_08']==1) & (results_1208['truth_08']==0)])/len(results_1208[results_1208['truth_08']==0])))\n",
    "\n",
    "print('1209总出租车数量：%d'%(len(results_1209[results_1209['truth_09']==1])))\n",
    "print('1209识别出的出租车数量：%d'%(len(results_1209[(results_1209['output_bag_09']==1) & (results_1209['truth_09']==1)])))\n",
    "print('1209出租车识别准确率：%f'%(len(results_1209[(results_1209['output_bag_09']==1) & (results_1209['truth_09']==1)])/len(results_1209[results_1209['truth_09']==1])))\n",
    "print('1209总社会车数量：%d'%(len(results_1209[results_1209['truth_09']==0])))\n",
    "print('1209社会车中识别出的运营车数量：%d'%(len(results_1209[(results_1209['output_bag_09']==1) & (results_1209['truth_09']==0)])))\n",
    "print('1209社会车中运营比例：%f'%(len(results_1209[(results_1209['output_bag_09']==1) & (results_1209['truth_09']==0)])/len(results_1209[results_1209['truth_09']==0])))\n",
    "\n",
    "print('1210总出租车数量：%d'%(len(results_1210[results_1210['truth_10']==1])))\n",
    "print('1210识别出的出租车数量：%d'%(len(results_1210[(results_1210['output_bag_10']==1) & (results_1210['truth_10']==1)])))\n",
    "print('1210出租车识别准确率：%f'%(len(results_1210[(results_1210['output_bag_10']==1) & (results_1210['truth_10']==1)])/len(results_1210[results_1210['truth_10']==1])))\n",
    "print('1210总社会车数量：%d'%(len(results_1210[results_1210['truth_10']==0])))\n",
    "print('1210社会车中识别出的运营车数量：%d'%(len(results_1210[(results_1210['output_bag_10']==1) & (results_1210['truth_10']==0)])))\n",
    "print('1210社会车中运营比例：%f'%(len(results_1210[(results_1210['output_bag_10']==1) & (results_1210['truth_10']==0)])/len(results_1210[results_1210['truth_10']==0])))\n",
    "\n",
    "print('1211总出租车数量：%d'%(len(results_1211[results_1211['truth_11']==1])))\n",
    "print('1211识别出的出租车数量：%d'%(len(results_1211[(results_1211['output_bag_11']==1) & (results_1211['truth_11']==1)])))\n",
    "print('1211出租车识别准确率：%f'%(len(results_1211[(results_1211['output_bag_11']==1) & (results_1211['truth_11']==1)])/len(results_1211[results_1211['truth_11']==1])))\n",
    "print('1211总社会车数量：%d'%(len(results_1211[results_1211['truth_11']==0])))\n",
    "print('1211社会车中识别出的运营车数量：%d'%(len(results_1211[(results_1211['output_bag_11']==1) & (results_1211['truth_11']==0)])))\n",
    "print('1211社会车中运营比例：%f'%(len(results_1211[(results_1211['output_bag_11']==1) & (results_1211['truth_11']==0)])/len(results_1211[results_1211['truth_11']==0])))"
   ]
  },
  {
   "cell_type": "code",
   "execution_count": 10,
   "metadata": {},
   "outputs": [
    {
     "name": "stdout",
     "output_type": "stream",
     "text": [
      "           car_id  truth_05  label_05  output_std_05  output_bag_05  \\\n",
      "0        21522952       1.0       1.0          0.809            NaN   \n",
      "1        21541449       1.0       1.0          0.822            NaN   \n",
      "2        21520990       1.0       1.0          0.795            NaN   \n",
      "3        21706894       1.0       1.0          0.819            NaN   \n",
      "4        21522729       1.0       1.0          0.814            NaN   \n",
      "...           ...       ...       ...            ...            ...   \n",
      "1857223  23718847       NaN       NaN            NaN            NaN   \n",
      "1857224  25607727       NaN       NaN            NaN            NaN   \n",
      "1857225  22465509       NaN       NaN            NaN            NaN   \n",
      "1857226  23209775       NaN       NaN            NaN            NaN   \n",
      "1857227  21898981       NaN       NaN            NaN            NaN   \n",
      "\n",
      "         output_skb_05  output_stp_05  output_all_05  truth_06  output_std_06  \\\n",
      "0                  NaN          0.809         0.8090       1.0          0.463   \n",
      "1                  NaN          0.800         0.8110       1.0          0.529   \n",
      "2                  NaN          0.828         0.8115       1.0          0.508   \n",
      "3                  NaN          0.796         0.8075       1.0          0.530   \n",
      "4                  NaN          0.829         0.8215       1.0          0.611   \n",
      "...                ...            ...            ...       ...            ...   \n",
      "1857223            NaN            NaN            NaN       NaN            NaN   \n",
      "1857224            NaN            NaN            NaN       NaN            NaN   \n",
      "1857225            NaN            NaN            NaN       NaN            NaN   \n",
      "1857226            NaN            NaN            NaN       NaN            NaN   \n",
      "1857227            NaN            NaN            NaN       NaN            NaN   \n",
      "\n",
      "         ...  output_bag_10  output_skb_10  output_stp_10  output_all_10  \\\n",
      "0        ...            0.0          0.886          0.501       0.331667   \n",
      "1        ...            1.0          0.972          0.566       0.706000   \n",
      "2        ...            0.0          0.936          0.568       0.375667   \n",
      "3        ...            1.0          0.943          0.440       0.626333   \n",
      "4        ...            1.0          0.962          0.547       0.696333   \n",
      "...      ...            ...            ...            ...            ...   \n",
      "1857223  ...            NaN            NaN            NaN            NaN   \n",
      "1857224  ...            NaN            NaN            NaN            NaN   \n",
      "1857225  ...            NaN            NaN            NaN            NaN   \n",
      "1857226  ...            NaN            NaN            NaN            NaN   \n",
      "1857227  ...            NaN            NaN            NaN            NaN   \n",
      "\n",
      "         truth_11  output_std_11  output_bag_11  output_skb_11  output_stp_11  \\\n",
      "0             1.0       0.483000       1.000000       0.912000       0.469000   \n",
      "1             1.0       0.473000       1.000000       0.990000       0.467000   \n",
      "2             1.0       0.463000       1.000000       0.962000       0.485000   \n",
      "3             1.0       0.530000       1.000000       0.990000       0.546000   \n",
      "4             1.0       0.560000       1.000000       0.995000       0.562000   \n",
      "...           ...            ...            ...            ...            ...   \n",
      "1857223       0.0       0.000981       0.090909       0.095636       0.000904   \n",
      "1857224       0.0       0.000278       0.025641       0.028692       0.000273   \n",
      "1857225       0.0       0.000000       0.000000       0.000000       0.000000   \n",
      "1857226       0.0       0.000000       0.000000       0.000000       0.000000   \n",
      "1857227       0.0       0.001338       0.125000       0.134896       0.001400   \n",
      "\n",
      "         output_all_11  \n",
      "0             0.650667  \n",
      "1             0.646667  \n",
      "2             0.649333  \n",
      "3             0.692000  \n",
      "4             0.707333  \n",
      "...                ...  \n",
      "1857223       0.030931  \n",
      "1857224       0.008731  \n",
      "1857225       0.000000  \n",
      "1857226       0.000000  \n",
      "1857227       0.042580  \n",
      "\n",
      "[1857228 rows x 44 columns]\n"
     ]
    }
   ],
   "source": [
    "results0506=pd.merge(results_1205,results_1206,how='outer',on='car_id')\n",
    "results050607=pd.merge(results0506,results_1207,how='outer',on='car_id')\n",
    "results05060708=pd.merge(results050607,results_1208,how='outer',on='car_id')\n",
    "results0506070809=pd.merge(results05060708,results_1209,how='outer',on='car_id')\n",
    "results050607080910=pd.merge(results0506070809,results_1210,how='outer',on='car_id')\n",
    "results05060708091011=pd.merge(results050607080910,results_1211,how='outer',on='car_id')\n",
    "print(results05060708091011)"
   ]
  },
  {
   "cell_type": "code",
   "execution_count": 11,
   "metadata": {},
   "outputs": [
    {
     "name": "stdout",
     "output_type": "stream",
     "text": [
      "0          1.0\n",
      "1          1.0\n",
      "2          1.0\n",
      "3          1.0\n",
      "4          1.0\n",
      "          ... \n",
      "1857223    0.0\n",
      "1857224    0.0\n",
      "1857225    0.0\n",
      "1857226    0.0\n",
      "1857227    0.0\n",
      "Name: truth_05, Length: 1857228, dtype: float64\n"
     ]
    }
   ],
   "source": [
    "results05060708091011['truth_05']=results05060708091011['truth_05'].fillna(0)\n",
    "results05060708091011['truth_06']=results05060708091011['truth_06'].fillna(0)\n",
    "results05060708091011['truth_07']=results05060708091011['truth_07'].fillna(0)\n",
    "results05060708091011['truth_08']=results05060708091011['truth_08'].fillna(0)\n",
    "results05060708091011['truth_09']=results05060708091011['truth_09'].fillna(0)\n",
    "results05060708091011['truth_10']=results05060708091011['truth_10'].fillna(0)\n",
    "results05060708091011['truth_11']=results05060708091011['truth_11'].fillna(0)\n",
    "results05060708091011['truth_05']=results05060708091011['truth_05']+results05060708091011['truth_06']+results05060708091011['truth_07']+\\\n",
    "                                    results05060708091011['truth_08']+results05060708091011['truth_09']+\\\n",
    "                                    results05060708091011['truth_10']+results05060708091011['truth_11']\n",
    "results05060708091011=results05060708091011.drop(columns=['truth_06','truth_07','truth_08','truth_09','truth_10','truth_11'])\n",
    "\n",
    "results05060708091011.loc[results05060708091011['truth_05']>=1 , 'truth_05']=1\n",
    "print(results05060708091011['truth_05'])"
   ]
  },
  {
   "cell_type": "code",
   "execution_count": 12,
   "metadata": {},
   "outputs": [],
   "source": [
    "results05060708091011.rename(columns={'truth_05':'truth'}, inplace = True)\n",
    "results05060708091011['output_std_mean']=results05060708091011[['output_std_06','output_std_07','output_std_08','output_std_09','output_std_10','output_std_11']].mean(axis=1)\n",
    "results05060708091011['output_bag_mean']=results05060708091011[['output_bag_06','output_bag_07','output_bag_08','output_bag_09','output_bag_10','output_bag_11']].mean(axis=1)\n",
    "results05060708091011['output_skb_mean']=results05060708091011[['output_skb_06','output_skb_07','output_skb_08','output_skb_09','output_skb_10','output_skb_11']].mean(axis=1)\n",
    "results05060708091011['output_stp_mean']=results05060708091011[['output_stp_06','output_stp_07','output_stp_08','output_stp_09','output_stp_10','output_stp_11']].mean(axis=1)\n",
    "results05060708091011.to_csv(r'C:\\Users\\Jeremy\\Desktop\\2019.12.18\\results_time.csv',index=False)"
   ]
  },
  {
   "cell_type": "code",
   "execution_count": 13,
   "metadata": {},
   "outputs": [
    {
     "name": "stdout",
     "output_type": "stream",
     "text": [
      "Index(['car_id', 'truth', 'label_05', 'output_std_05', 'output_bag_05',\n",
      "       'output_skb_05', 'output_stp_05', 'output_all_05', 'output_std_06',\n",
      "       'output_bag_06', 'output_skb_06', 'output_stp_06', 'output_all_06',\n",
      "       'output_std_07', 'output_bag_07', 'output_skb_07', 'output_stp_07',\n",
      "       'output_all_07', 'output_std_08', 'output_bag_08', 'output_skb_08',\n",
      "       'output_stp_08', 'output_all_08', 'output_std_09', 'output_bag_09',\n",
      "       'output_skb_09', 'output_stp_09', 'output_all_09', 'output_std_10',\n",
      "       'output_bag_10', 'output_skb_10', 'output_stp_10', 'output_all_10',\n",
      "       'output_std_11', 'output_bag_11', 'output_skb_11', 'output_stp_11',\n",
      "       'output_all_11', 'output_std_mean', 'output_bag_mean',\n",
      "       'output_skb_mean', 'output_stp_mean'],\n",
      "      dtype='object')\n"
     ]
    }
   ],
   "source": [
    "print(results05060708091011.columns)"
   ]
  },
  {
   "cell_type": "code",
   "execution_count": 14,
   "metadata": {},
   "outputs": [],
   "source": [
    "results_chuzuche=results05060708091011[results05060708091011['truth']==1]\n",
    "results_chuzuche.to_csv(r'C:\\Users\\Jeremy\\Desktop\\2019.12.18\\results_time_chuzuche.csv',index=False)"
   ]
  },
  {
   "cell_type": "code",
   "execution_count": 15,
   "metadata": {},
   "outputs": [],
   "source": [
    "results_shehuiche=results05060708091011[results05060708091011['truth']==0]\n",
    "results_shehuiche.to_csv(r'C:\\Users\\Jeremy\\Desktop\\2019.12.18\\results_time_shehuiche.csv',index=False)"
   ]
  },
  {
   "cell_type": "code",
   "execution_count": 16,
   "metadata": {},
   "outputs": [
    {
     "name": "stdout",
     "output_type": "stream",
     "text": [
      "(1857228, 42)\n"
     ]
    }
   ],
   "source": [
    "print(results05060708091011.shape)"
   ]
  },
  {
   "cell_type": "code",
   "execution_count": 17,
   "metadata": {},
   "outputs": [
    {
     "name": "stdout",
     "output_type": "stream",
     "text": [
      "26389\n",
      "34683\n",
      "64714\n",
      "37549\n"
     ]
    }
   ],
   "source": [
    "print((results_shehuiche['output_bag_mean']>=1).sum())#和预计40,000接近\n",
    "print((results_shehuiche['output_std_mean']>=0.04).sum())#和预计40,000接近\n",
    "print((results_shehuiche['output_skb_mean']>=0.45).sum())#和预计40,000接近\n",
    "print((results_shehuiche['output_stp_mean']>=0.035).sum())#和预计40,000接近"
   ]
  },
  {
   "cell_type": "markdown",
   "metadata": {},
   "source": [
    "# 图表"
   ]
  },
  {
   "cell_type": "code",
   "execution_count": 18,
   "metadata": {},
   "outputs": [
    {
     "name": "stderr",
     "output_type": "stream",
     "text": [
      "D:\\Anaconda\\lib\\site-packages\\numpy\\lib\\arraysetops.py:569: FutureWarning: elementwise comparison failed; returning scalar instead, but in the future will perform elementwise comparison\n",
      "  mask |= (ar1 == a)\n"
     ]
    }
   ],
   "source": [
    "import matplotlib.pylab as plt\n",
    "\n",
    "# Performance graphing\n",
    "plt.rcParams['font.size'] = 16\n",
    "plt.rcParams['figure.figsize'] = 15, 8\n",
    "\n",
    "\n",
    "results05060708091011=pd.read_csv(open(r'C:\\Users\\Jeremy\\Desktop\\2019.12.18\\results_time.csv'),header=0,index_col='car_id')\n",
    "results_chuzuche=pd.read_csv(open(r'C:\\Users\\Jeremy\\Desktop\\2019.12.18\\results_time_chuzuche.csv'),header=0,index_col='car_id')\n",
    "results_shehuiche=pd.read_csv(open(r'C:\\Users\\Jeremy\\Desktop\\2019.12.18\\results_time_shehuiche.csv'),header=0,index_col='car_id')"
   ]
  },
  {
   "cell_type": "code",
   "execution_count": 19,
   "metadata": {},
   "outputs": [
    {
     "name": "stdout",
     "output_type": "stream",
     "text": [
      "[-0.1  0.   0.1  0.2  0.3  0.4  0.5  0.6  0.7  0.8]\n"
     ]
    },
    {
     "data": {
      "image/png": "[encoded data removed]",
      "text/plain": [
       "<Figure size 432x288 with 1 Axes>"
      ]
     },
     "metadata": {
      "needs_background": "light"
     },
     "output_type": "display_data"
    }
   ],
   "source": [
    "plt.scatter(  #画散点图\n",
    "    range(len(results05060708091011)), list(results05060708091011['output_stp_mean']),\n",
    "    s=1  #点大小\n",
    ")\n",
    "\n",
    "vals = plt.gca().get_yticks()  #vals为y轴的刻度位置列表\n",
    "print(vals)\n",
    "plt.yticks(vals, ['%.0f%%' % (v*100) for v in vals]) #在y轴原刻度位置vals上修改数值\n",
    "plt.xlabel('Number of unlabeled data points chosen from the top rated')\n",
    "plt.ylabel('Percent of chosen that are secretly positive')\n",
    "plt.legend([\n",
    "    'Two-step approach'\n",
    "])\n",
    "plt.plot([len(results_chuzuche), len(results_chuzuche)], [0, 1 ], 'r--')\n",
    "plt.title('Performance of 12.06-12.11')\n",
    "plt.grid()\n",
    "plt.show()"
   ]
  },
  {
   "cell_type": "code",
   "execution_count": 20,
   "metadata": {},
   "outputs": [
    {
     "name": "stdout",
     "output_type": "stream",
     "text": [
      "[-0.1  0.   0.1  0.2  0.3  0.4  0.5  0.6  0.7  0.8]\n"
     ]
    },
    {
     "name": "stderr",
     "output_type": "stream",
     "text": [
      "D:\\Anaconda\\lib\\site-packages\\IPython\\core\\pylabtools.py:128: UserWarning: Creating legend with loc=\"best\" can be slow with large amounts of data.\n",
      "  fig.canvas.print_figure(bytes_io, **kw)\n"
     ]
    },
    {
     "data": {
      "image/png": "[encoded data removed]",
      "text/plain": [
       "<Figure size 432x288 with 1 Axes>"
      ]
     },
     "metadata": {
      "needs_background": "light"
     },
     "output_type": "display_data"
    }
   ],
   "source": [
    "plt.plot(#画折线图\n",
    "    range(len(results05060708091011)), list(results05060708091011['output_stp_mean']),\n",
    "    lw = 1 #折线图的线条宽度\n",
    ")\n",
    "\n",
    "vals = plt.gca().get_yticks()  #vals为y轴的刻度位置列表\n",
    "print(vals)\n",
    "plt.yticks(vals, ['%.0f%%' % (v*100) for v in vals]) #在y轴原刻度位置vals上修改数值\n",
    "plt.xlabel('Number of unlabeled data points chosen from the top rated')\n",
    "plt.ylabel('Percent of chosen that are secretly positive')\n",
    "plt.legend([\n",
    "    'Two-step approach'\n",
    "])\n",
    "plt.plot([len(results_chuzuche), len(results_chuzuche)], [0, 1 ], 'r--')\n",
    "plt.title('Performance of 12.06-12.11')\n",
    "plt.grid()\n",
    "plt.show()"
   ]
  },
  {
   "cell_type": "code",
   "execution_count": 21,
   "metadata": {},
   "outputs": [
    {
     "name": "stderr",
     "output_type": "stream",
     "text": [
      "D:\\Anaconda\\lib\\site-packages\\ipykernel_launcher.py:7: MatplotlibDeprecationWarning: \n",
      "The 'normed' kwarg was deprecated in Matplotlib 2.1 and will be removed in 3.1. Use 'density' instead.\n",
      "  import sys\n",
      "D:\\Anaconda\\lib\\site-packages\\numpy\\lib\\histograms.py:824: RuntimeWarning: invalid value encountered in greater_equal\n",
      "  keep = (tmp_a >= first_edge)\n",
      "D:\\Anaconda\\lib\\site-packages\\numpy\\lib\\histograms.py:825: RuntimeWarning: invalid value encountered in less_equal\n",
      "  keep &= (tmp_a <= last_edge)\n"
     ]
    },
    {
     "data": {
      "image/png": "[encoded data removed]",
      "text/plain": [
       "<Figure size 432x288 with 1 Axes>"
      ]
     },
     "metadata": {
      "needs_background": "light"
     },
     "output_type": "display_data"
    }
   ],
   "source": [
    "import matplotlib\n",
    "# 设置matplotlib正常显示中文和负号\n",
    "matplotlib.rcParams['font.sans-serif']=['SimHei']   # 用黑体显示中文\n",
    "matplotlib.rcParams['axes.unicode_minus']=False     # 正常显示负号\n",
    "\n",
    "\n",
    "plt.hist(results05060708091011['output_stp_mean'], bins=40, normed=0, facecolor=\"blue\", edgecolor=\"black\", alpha=0.7)\n",
    "# 显示横轴标签\n",
    "plt.xlabel(\"区间\")\n",
    "# 显示纵轴标签\n",
    "plt.ylabel(\"频数/频率\")\n",
    "# 显示图标题\n",
    "plt.title(\"频数/频率分布直方图\")\n",
    "plt.show()"
   ]
  },
  {
   "cell_type": "code",
   "execution_count": null,
   "metadata": {},
   "outputs": [],
   "source": []
  }
 ],
 "metadata": {
  "kernelspec": {
   "display_name": "Python 3",
   "language": "python",
   "name": "python3"
  },
  "language_info": {
   "codemirror_mode": {
    "name": "ipython",
    "version": 3
   },
   "file_extension": ".py",
   "mimetype": "text/x-python",
   "name": "python",
   "nbconvert_exporter": "python",
   "pygments_lexer": "ipython3",
   "version": "3.7.1"
  }
 },
 "nbformat": 4,
 "nbformat_minor": 2
}
