{
 "cells": [
  {
   "cell_type": "code",
   "execution_count": 1,
   "id": "2ea88be9",
   "metadata": {},
   "outputs": [],
   "source": [
    "import pandas as pd\n",
    "import numpy as np"
   ]
  },
  {
   "cell_type": "code",
   "execution_count": 2,
   "id": "81d06740",
   "metadata": {},
   "outputs": [],
   "source": [
    "df_kakou_location=pd.read_csv(open('../车辆共享后续实验/data/new_kakou_location_m.csv'))"
   ]
  },
  {
   "cell_type": "code",
   "execution_count": 3,
   "id": "11cbe730",
   "metadata": {},
   "outputs": [],
   "source": [
    "df_1205=pd.read_csv(open('../车辆共享后续实验/data/节点/1205_jiedian.csv'))\n",
    "df_1205=pd.merge(left=df_1205,right=df_kakou_location,how='left',left_on='start_kid',right_on='k_id')\n",
    "df_1205=df_1205.drop(columns=['k_id'])\n",
    "df_1205 = df_1205.rename(columns={'x': 'x_start','y':'y_start','x_m': 'x_m_start','y_m':'y_m_start'})\n",
    "\n",
    "df_1205=pd.merge(left=df_1205,right=df_kakou_location,how='left',left_on='end_kid',right_on='k_id')\n",
    "df_1205=df_1205.drop(columns=['k_id'])\n",
    "df_1205 = df_1205.rename(columns={'x': 'x_end','y':'y_end','x_m': 'x_m_end','y_m':'y_m_end'})\n",
    "df_1205.to_csv('../车辆共享后续实验/data/节点/1205_jiedian_location.csv',index=False)"
   ]
  },
  {
   "cell_type": "code",
   "execution_count": 4,
   "id": "73940088",
   "metadata": {},
   "outputs": [],
   "source": [
    "df_1206=pd.read_csv(open('../车辆共享后续实验/data/节点/1206_jiedian.csv'))\n",
    "df_1206=pd.merge(left=df_1206,right=df_kakou_location,how='left',left_on='start_kid',right_on='k_id')\n",
    "df_1206=df_1206.drop(columns=['k_id'])\n",
    "df_1206 = df_1206.rename(columns={'x': 'x_start','y':'y_start','x_m': 'x_m_start','y_m':'y_m_start'})\n",
    "\n",
    "df_1206=pd.merge(left=df_1206,right=df_kakou_location,how='left',left_on='end_kid',right_on='k_id')\n",
    "df_1206=df_1206.drop(columns=['k_id'])\n",
    "df_1206 = df_1206.rename(columns={'x': 'x_end','y':'y_end','x_m': 'x_m_end','y_m':'y_m_end'})\n",
    "df_1206.to_csv('../车辆共享后续实验/data/节点/1206_jiedian_location.csv',index=False)"
   ]
  },
  {
   "cell_type": "code",
   "execution_count": 5,
   "id": "a765518b",
   "metadata": {},
   "outputs": [],
   "source": [
    "df_1207=pd.read_csv(open('../车辆共享后续实验/data/节点/1207_jiedian.csv'))\n",
    "df_1207=pd.merge(left=df_1207,right=df_kakou_location,how='left',left_on='start_kid',right_on='k_id')\n",
    "df_1207=df_1207.drop(columns=['k_id'])\n",
    "df_1207 = df_1207.rename(columns={'x': 'x_start','y':'y_start','x_m': 'x_m_start','y_m':'y_m_start'})\n",
    "\n",
    "df_1207=pd.merge(left=df_1207,right=df_kakou_location,how='left',left_on='end_kid',right_on='k_id')\n",
    "df_1207=df_1207.drop(columns=['k_id'])\n",
    "df_1207 = df_1207.rename(columns={'x': 'x_end','y':'y_end','x_m': 'x_m_end','y_m':'y_m_end'})\n",
    "df_1207.to_csv('../车辆共享后续实验/data/节点/1207_jiedian_location.csv',index=False)"
   ]
  },
  {
   "cell_type": "code",
   "execution_count": 6,
   "id": "95fb3710",
   "metadata": {},
   "outputs": [],
   "source": [
    "df_1208=pd.read_csv(open('../车辆共享后续实验/data/节点/1208_jiedian.csv'))\n",
    "df_1208=pd.merge(left=df_1208,right=df_kakou_location,how='left',left_on='start_kid',right_on='k_id')\n",
    "df_1208=df_1208.drop(columns=['k_id'])\n",
    "df_1208 = df_1208.rename(columns={'x': 'x_start','y':'y_start','x_m': 'x_m_start','y_m':'y_m_start'})\n",
    "\n",
    "df_1208=pd.merge(left=df_1208,right=df_kakou_location,how='left',left_on='end_kid',right_on='k_id')\n",
    "df_1208=df_1208.drop(columns=['k_id'])\n",
    "df_1208 = df_1208.rename(columns={'x': 'x_end','y':'y_end','x_m': 'x_m_end','y_m':'y_m_end'})\n",
    "df_1208.to_csv('../车辆共享后续实验/data/节点/1208_jiedian_location.csv',index=False)"
   ]
  },
  {
   "cell_type": "code",
   "execution_count": 7,
   "id": "5a504c27",
   "metadata": {},
   "outputs": [],
   "source": [
    "df_1209=pd.read_csv(open('../车辆共享后续实验/data/节点/1209_jiedian.csv'))\n",
    "df_1209=pd.merge(left=df_1209,right=df_kakou_location,how='left',left_on='start_kid',right_on='k_id')\n",
    "df_1209=df_1209.drop(columns=['k_id'])\n",
    "df_1209 = df_1209.rename(columns={'x': 'x_start','y':'y_start','x_m': 'x_m_start','y_m':'y_m_start'})\n",
    "\n",
    "df_1209=pd.merge(left=df_1209,right=df_kakou_location,how='left',left_on='end_kid',right_on='k_id')\n",
    "df_1209=df_1209.drop(columns=['k_id'])\n",
    "df_1209 = df_1209.rename(columns={'x': 'x_end','y':'y_end','x_m': 'x_m_end','y_m':'y_m_end'})\n",
    "df_1209.to_csv('../车辆共享后续实验/data/节点/1209_jiedian_location.csv',index=False)"
   ]
  },
  {
   "cell_type": "code",
   "execution_count": 8,
   "id": "b9aff80d",
   "metadata": {},
   "outputs": [],
   "source": [
    "df_1210=pd.read_csv(open('../车辆共享后续实验/data/节点/1210_jiedian.csv'))\n",
    "df_1210=pd.merge(left=df_1210,right=df_kakou_location,how='left',left_on='start_kid',right_on='k_id')\n",
    "df_1210=df_1210.drop(columns=['k_id'])\n",
    "df_1210 = df_1210.rename(columns={'x': 'x_start','y':'y_start','x_m': 'x_m_start','y_m':'y_m_start'})\n",
    "\n",
    "df_1210=pd.merge(left=df_1210,right=df_kakou_location,how='left',left_on='end_kid',right_on='k_id')\n",
    "df_1210=df_1210.drop(columns=['k_id'])\n",
    "df_1210 = df_1210.rename(columns={'x': 'x_end','y':'y_end','x_m': 'x_m_end','y_m':'y_m_end'})\n",
    "df_1210.to_csv('../车辆共享后续实验/data/节点/1210_jiedian_location.csv',index=False)"
   ]
  },
  {
   "cell_type": "code",
   "execution_count": 9,
   "id": "364f0d6e",
   "metadata": {},
   "outputs": [],
   "source": [
    "df_1211=pd.read_csv(open('../车辆共享后续实验/data/节点/1211_jiedian.csv'))\n",
    "df_1211=pd.merge(left=df_1211,right=df_kakou_location,how='left',left_on='start_kid',right_on='k_id')\n",
    "df_1211=df_1211.drop(columns=['k_id'])\n",
    "df_1211 = df_1211.rename(columns={'x': 'x_start','y':'y_start','x_m': 'x_m_start','y_m':'y_m_start'})\n",
    "\n",
    "df_1211=pd.merge(left=df_1211,right=df_kakou_location,how='left',left_on='end_kid',right_on='k_id')\n",
    "df_1211=df_1211.drop(columns=['k_id'])\n",
    "df_1211 = df_1211.rename(columns={'x': 'x_end','y':'y_end','x_m': 'x_m_end','y_m':'y_m_end'})\n",
    "df_1211.to_csv('../车辆共享后续实验/data/节点/1211_jiedian_location.csv',index=False)"
   ]
  },
  {
   "cell_type": "code",
   "execution_count": null,
   "id": "d8c9eb69",
   "metadata": {},
   "outputs": [],
   "source": []
  },
  {
   "cell_type": "code",
   "execution_count": null,
   "id": "e5f489a6",
   "metadata": {},
   "outputs": [],
   "source": []
  }
 ],
 "metadata": {
  "kernelspec": {
   "display_name": "Python 3",
   "language": "python",
   "name": "python3"
  },
  "language_info": {
   "codemirror_mode": {
    "name": "ipython",
    "version": 3
   },
   "file_extension": ".py",
   "mimetype": "text/x-python",
   "name": "python",
   "nbconvert_exporter": "python",
   "pygments_lexer": "ipython3",
   "version": "3.8.8"
  }
 },
 "nbformat": 4,
 "nbformat_minor": 5
}
