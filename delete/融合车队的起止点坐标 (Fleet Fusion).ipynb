{
 "cells": [
  {
   "cell_type": "code",
   "execution_count": 1,
   "id": "1c6bc19d",
   "metadata": {},
   "outputs": [],
   "source": [
    "import pandas as pd\n",
    "import numpy as np\n",
    "import os"
   ]
  },
  {
   "cell_type": "code",
   "execution_count": 2,
   "id": "31740740",
   "metadata": {},
   "outputs": [],
   "source": [
    "df_kakou_location=pd.read_csv(open('../车辆共享后续实验/data/new_kakou_location_m.csv'))"
   ]
  },
  {
   "cell_type": "code",
   "execution_count": 3,
   "id": "ad6335d7",
   "metadata": {},
   "outputs": [],
   "source": [
    "for date in ['1205','1206','1207','1208','1209','1210','1211']:\n",
    "    hebinglujing_qizhi=[]#存储合并路径的起止点的时空信息\n",
    "    filePathList =  os.listdir(r'../车辆共享后续实验/data/PathList/ronghe/splitBytime/'+date)\n",
    "    for allDir in filePathList:\n",
    "        canshu=allDir.split('_')  #根据文件名获取参数\n",
    "        df_jiedian=pd.read_csv(open('../车辆共享后续实验/data/节点/'+date+'_jiedian_'+canshu[2]+'_'+canshu[3]+'.csv'))\n",
    "        child = os.path.join('%s\\%s' % (r'../车辆共享后续实验/data/PathList/ronghe/splitBytime/'+date, allDir))\n",
    "        numpy_path=np.load(child,allow_pickle=True)\n",
    "        for path in numpy_path:\n",
    "            start_jiedian=path[0]#合并路径的起始节点的id\n",
    "            end_jiedian=path[-1]#合并路径的终止节点的id\n",
    "            hebinglujing_qizhi.append({'start_kid':df_jiedian.iloc[start_jiedian]['start_kid'],\n",
    "                                      'start_time':df_jiedian.iloc[start_jiedian]['start_time'],\n",
    "                                      'end_kid':df_jiedian.iloc[end_jiedian]['end_kid'],\n",
    "                                      'end_time':df_jiedian.iloc[end_jiedian]['end_time'],\n",
    "                                      })\n",
    "    df_hebing=pd.DataFrame(hebinglujing_qizhi)   \n",
    "    df_hebing=pd.merge(left=df_hebing,right=df_kakou_location,how='left',left_on='start_kid',right_on='k_id')\n",
    "    df_hebing=df_hebing.drop(columns=['k_id'])\n",
    "    df_hebing = df_hebing.rename(columns={'x': 'x_start','y':'y_start','x_m': 'x_m_start','y_m':'y_m_start'})\n",
    "    df_hebing=pd.merge(left=df_hebing,right=df_kakou_location,how='left',left_on='end_kid',right_on='k_id')\n",
    "    df_hebing=df_hebing.drop(columns=['k_id'])\n",
    "    df_hebing = df_hebing.rename(columns={'x': 'x_end','y':'y_end','x_m': 'x_m_end','y_m':'y_m_end'})\n",
    "    df_hebing.to_csv('../车辆共享后续实验/data/PathList/ronghe/splitBytime/'+date+'_path_location.csv',index=False)"
   ]
  },
  {
   "cell_type": "code",
   "execution_count": null,
   "id": "1728655e",
   "metadata": {},
   "outputs": [],
   "source": []
  },
  {
   "cell_type": "code",
   "execution_count": null,
   "id": "08e9f82a",
   "metadata": {},
   "outputs": [],
   "source": []
  }
 ],
 "metadata": {
  "kernelspec": {
   "display_name": "Python 3",
   "language": "python",
   "name": "python3"
  },
  "language_info": {
   "codemirror_mode": {
    "name": "ipython",
    "version": 3
   },
   "file_extension": ".py",
   "mimetype": "text/x-python",
   "name": "python",
   "nbconvert_exporter": "python",
   "pygments_lexer": "ipython3",
   "version": "3.8.8"
  }
 },
 "nbformat": 4,
 "nbformat_minor": 5
}
