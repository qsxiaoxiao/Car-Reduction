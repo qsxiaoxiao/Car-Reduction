{
 "cells": [
  {
   "cell_type": "code",
   "execution_count": 1,
   "metadata": {},
   "outputs": [],
   "source": [
    "import pandas as pd\n",
    "import numpy as np\n",
    "import random\n",
    "import matplotlib.pyplot as plt \n",
    "import matplotlib\n",
    "import tensorly as tl\n",
    "import numpy as np\n",
    "import json\n",
    "import time\n",
    "import random\n",
    "from datetime import datetime\n",
    "from tensorly.decomposition import non_negative_tucker\n",
    "import collections\n",
    "from pandas import Series\n",
    "from urllib.request import urlopen,quote"
   ]
  },
  {
   "cell_type": "code",
   "execution_count": 2,
   "metadata": {},
   "outputs": [],
   "source": [
    "#删除只有一次出行车辆\n",
    "def shanchu_yicichuxing(df):\n",
    "    #统计拍摄次数\n",
    "    tongji=Series(collections.Counter(df.index)).to_frame().rename(columns={0:'num'})\n",
    "    #拍摄次数大于1的车辆id\n",
    "    carid=tongji[tongji['num']>1].index\n",
    "    #保留拍摄次数大于1的车辆\n",
    "    return df.loc[carid]"
   ]
  },
  {
   "cell_type": "code",
   "execution_count": 3,
   "metadata": {},
   "outputs": [],
   "source": [
    "#每辆非运营车通过两卡口之间的时间差，需要运行10mins\n",
    "def shijiancha(df):\n",
    "    df=df.sort_values(ascending=True,by=['car_id','time'])#时间从小到大排序\n",
    "    #print(df)\n",
    "    kakou_shijiancha=[]\n",
    "    chushi_carid=-1\n",
    "    chushi_time=-1\n",
    "    #a=0#计数\n",
    "    for index, row in df.iterrows():\n",
    "        #print(a)\n",
    "        #a=a+1\n",
    "        if index!=chushi_carid:\n",
    "            chushi_carid=index\n",
    "            chushi_time=row['time']\n",
    "        else:\n",
    "            kakou_shijiancha.append(row['time']-chushi_time)\n",
    "            chushi_time=row['time']\n",
    "            #print(kakou_shijiancha)\n",
    "    #print(kakou_shijiancha)\n",
    "    return kakou_shijiancha"
   ]
  },
  {
   "cell_type": "code",
   "execution_count": 4,
   "metadata": {},
   "outputs": [],
   "source": [
    "#计算上下四分位数,lis按从小到大排过序\n",
    "def count_quartiles(lis):\n",
    "    s=pd.Series(lis)\n",
    "    q1=s.quantile(q=0.25)\n",
    "    q3=s.quantile(q=0.75)\n",
    "    return q1,q3"
   ]
  },
  {
   "cell_type": "code",
   "execution_count": 5,
   "metadata": {},
   "outputs": [],
   "source": [
    "#计算上下边缘,lis按从小到大排过序\n",
    "def count_margin(q1, q3, a):\n",
    "    iqr = q3 - q1\n",
    "    upper = q3 + a*iqr\n",
    "    floor = q1 - a*iqr\n",
    "    return upper, floor"
   ]
  },
  {
   "cell_type": "code",
   "execution_count": 6,
   "metadata": {},
   "outputs": [],
   "source": [
    "#切割一日出行\n",
    "def qiege(df, upper, floor):\n",
    "    df=df.sort_values(ascending=True,by=['time'])#时间从小到大排序\n",
    "    qiege_df=[] #df切割后放入qiege_df\n",
    "    chushi_df=pd.DataFrame(columns=df.columns)\n",
    "    chushi_df.index.name='car_id'\n",
    "    chushi_time=-1\n",
    "    i=0\n",
    "    for index, row in df.iterrows():\n",
    "        i=i+1\n",
    "        if i==1:\n",
    "            chushi_time=row['time']\n",
    "            chushi_df=chushi_df.append(row)\n",
    "        else:#\n",
    "            if row['time']-chushi_time>=upper:\n",
    "                qiege_df.append(chushi_df)\n",
    "                chushi_df=pd.DataFrame(columns=df.columns)\n",
    "                chushi_df.index.name='car_id'\n",
    "                chushi_df=chushi_df.append(row)\n",
    "            elif row['time']-chushi_time<=floor:\n",
    "                chushi_df=chushi_df.append(row)\n",
    "            else:\n",
    "                chushi_df=chushi_df.append(row) \n",
    "            chushi_time=row['time']\n",
    "        if i==len(df):\n",
    "            qiege_df.append(chushi_df)\n",
    "    return qiege_df"
   ]
  },
  {
   "cell_type": "code",
   "execution_count": 7,
   "metadata": {},
   "outputs": [],
   "source": [
    "#构建（起点卡口，终点卡口，出发时刻，到达时刻）为一个节点\n",
    "def goujian_jiedian(df,upper, floor):\n",
    "    df=df.sort_values(ascending=True,by=['car_id','time'])#时间从小到大排序\n",
    "    l_jiedian = []\n",
    "    #jiedian = pd.DataFrame(columns=['start_kid','end_kid','start_time','end_time']) \n",
    "    car_ids=list(set(df.index))\n",
    "    n=0\n",
    "    for car_id in car_ids:\n",
    "        n=n+1\n",
    "        #print(n)\n",
    "        one_feiyunying=df.loc[car_id]\n",
    "        qiege_dfs=qiege(one_feiyunying,upper, floor)\n",
    "        for qiege_df in qiege_dfs:\n",
    "            if len(qiege_df)>1:\n",
    "                #print(qiege_df)\n",
    "                if qiege_df.iloc[0]['id']!=qiege_df.iloc[len(qiege_df)-1]['id']:\n",
    "                #print(qiege_df)\n",
    "                    qiege_df=qiege_df.sort_values(ascending=True,by=['car_id','time'])#时间从小到大排序\n",
    "                    l_jiedian.append([qiege_df.iloc[0]['id'],qiege_df.iloc[len(qiege_df)-1]['id'],\n",
    "                                   qiege_df.iloc[0]['time'],qiege_df.iloc[len(qiege_df)-1]['time'],str(car_id)])\n",
    "                    #print(qiege_df.iloc[0]['id'])\n",
    "                    #print(qiege_df.iloc[len(qiege_df)-1]['id'])\n",
    "                    #print(qiege_df.iloc[0]['time'])\n",
    "                    #print(qiege_df.iloc[len(qiege_df)-1]['time'])\n",
    "                    #print(type(str(car_id)))\n",
    "                    #print(str(car_id))\n",
    "                    '''new_line=pd.Series({'start_kid':qiege_df.iloc[0]['id'],\n",
    "                                        'end_kid':qiege_df.iloc[len(qiege_df)-1]['id'],\n",
    "                                        'start_time':qiege_df.iloc[0]['time'],\n",
    "                                        'end_time':qiege_df.iloc[len(qiege_df)-1]['time']}) '''         \n",
    "                    #jiedian=jiedian.append(new_line,ignore_index=True)\n",
    "                    #print(jiedian)\n",
    "    jiedian = pd.DataFrame(l_jiedian,columns=['start_kid','end_kid','start_time','end_time','car_id'])\n",
    "    #print(jiedian)\n",
    "    return jiedian"
   ]
  },
  {
   "cell_type": "code",
   "execution_count": 8,
   "metadata": {},
   "outputs": [
    {
     "data": {
      "text/plain": [
       "\"\\nfeiyunyingche_1205=pd.read_csv(open(r'F:\\\\运营车识别\\\\王宇坤 出租车识别\\x819.12.181\\x8161205_title_feiyunyingche_zuobiao.csv'),index_col='car_id') \\nfeiyunyingche_1205=shanchu_yicichuxing(feiyunyingche_1205)\\nlist_kakou_shijiancha=shijiancha(feiyunyingche_1205)\\nlist_kakou_shijiancha.sort()#升序\\nq1, q3=count_quartiles(list_kakou_shijiancha)\\nupper, floor=count_margin(q1, q3, 1.6)\\nprint(len(list_kakou_shijiancha))\\nprint(q1, q3)\\nprint(upper, floor)\\n#运行4hours\\ngoujian_jiedian(feiyunyingche_1205,upper, floor).to_csv(r'F:\\\\运营车识别\\\\王宇坤 出租车识别\\x819.12.181P5_jiedian.csv',index=False)\\n\""
      ]
     },
     "execution_count": 8,
     "metadata": {},
     "output_type": "execute_result"
    }
   ],
   "source": [
    "'''\n",
    "feiyunyingche_1205=pd.read_csv(open(r'F:\\运营车识别\\王宇坤 出租车识别\\2019.12.181\\20161205_title_feiyunyingche_zuobiao.csv'),index_col='car_id') \n",
    "feiyunyingche_1205=shanchu_yicichuxing(feiyunyingche_1205)\n",
    "list_kakou_shijiancha=shijiancha(feiyunyingche_1205)\n",
    "list_kakou_shijiancha.sort()#升序\n",
    "q1, q3=count_quartiles(list_kakou_shijiancha)\n",
    "upper, floor=count_margin(q1, q3, 1.6)\n",
    "print(len(list_kakou_shijiancha))\n",
    "print(q1, q3)\n",
    "print(upper, floor)\n",
    "#运行4hours\n",
    "goujian_jiedian(feiyunyingche_1205,upper, floor).to_csv(r'F:\\运营车识别\\王宇坤 出租车识别\\2019.12.181\\1205_jiedian.csv',index=False)\n",
    "'''"
   ]
  },
  {
   "cell_type": "code",
   "execution_count": 10,
   "metadata": {},
   "outputs": [
    {
     "data": {
      "text/plain": [
       "\"\\nfeiyunyingche_1210=pd.read_csv(open(r'F:\\\\运营车识别\\\\王宇坤 出租车识别\\x819.12.181\\x8161210_title_feiyunyingche_zuobiao.csv'),index_col='car_id') \\nfeiyunyingche_1210=shanchu_yicichuxing(feiyunyingche_1210)\\nlist_kakou_shijiancha=shijiancha(feiyunyingche_1210)\\nlist_kakou_shijiancha.sort()#升序\\nq1, q3=count_quartiles(list_kakou_shijiancha)\\nupper, floor=count_margin(q1, q3, 1.6)\\nprint(len(list_kakou_shijiancha))\\nprint(q1, q3)\\nprint(upper, floor)\\n#运行4hours\\ngoujian_jiedian(feiyunyingche_1210,upper, floor).to_csv(r'F:\\\\运营车识别\\\\王宇坤 出租车识别\\x819.12.181Q0_jiedian.csv',index=False)\\n\""
      ]
     },
     "execution_count": 10,
     "metadata": {},
     "output_type": "execute_result"
    }
   ],
   "source": [
    "'''\n",
    "feiyunyingche_1210=pd.read_csv(open(r'F:\\运营车识别\\王宇坤 出租车识别\\2019.12.181\\20161210_title_feiyunyingche_zuobiao.csv'),index_col='car_id') \n",
    "feiyunyingche_1210=shanchu_yicichuxing(feiyunyingche_1210)\n",
    "list_kakou_shijiancha=shijiancha(feiyunyingche_1210)\n",
    "list_kakou_shijiancha.sort()#升序\n",
    "q1, q3=count_quartiles(list_kakou_shijiancha)\n",
    "upper, floor=count_margin(q1, q3, 1.6)\n",
    "print(len(list_kakou_shijiancha))\n",
    "print(q1, q3)\n",
    "print(upper, floor)\n",
    "#运行4hours\n",
    "goujian_jiedian(feiyunyingche_1210,upper, floor).to_csv(r'F:\\运营车识别\\王宇坤 出租车识别\\2019.12.181\\1210_jiedian.csv',index=False)\n",
    "'''"
   ]
  },
  {
   "cell_type": "code",
   "execution_count": 8,
   "metadata": {},
   "outputs": [
    {
     "name": "stderr",
     "output_type": "stream",
     "text": [
      "D:\\Anaconda3\\lib\\site-packages\\numpy\\lib\\arraysetops.py:580: FutureWarning: elementwise comparison failed; returning scalar instead, but in the future will perform elementwise comparison\n",
      "  mask |= (ar1 == a)\n"
     ]
    },
    {
     "name": "stdout",
     "output_type": "stream",
     "text": [
      "719928\n",
      "292.0 10202.0\n",
      "26058.0 -15564.0\n"
     ]
    }
   ],
   "source": [
    "feiyunyingche_1205_1=pd.read_csv(open(r'F:\\运营车识别\\王宇坤 出租车识别\\2019.12.181\\20161205_title_feiyunyingche_class1_zuobiao.csv'),index_col='car_id') \n",
    "feiyunyingche_1205_1=shanchu_yicichuxing(feiyunyingche_1205_1)\n",
    "list_kakou_shijiancha=shijiancha(feiyunyingche_1205_1)\n",
    "list_kakou_shijiancha.sort()#升序\n",
    "q1, q3=count_quartiles(list_kakou_shijiancha)\n",
    "upper, floor=count_margin(q1, q3, 1.6)\n",
    "print(len(list_kakou_shijiancha))\n",
    "print(q1, q3)\n",
    "print(upper, floor)\n",
    "#运行4hours\n",
    "goujian_jiedian(feiyunyingche_1205_1,upper, floor).to_csv(r'F:\\运营车识别\\王宇坤 出租车识别\\2019.12.181\\1205_1_jiedian.csv',index=False)"
   ]
  },
  {
   "cell_type": "code",
   "execution_count": 9,
   "metadata": {},
   "outputs": [
    {
     "name": "stderr",
     "output_type": "stream",
     "text": [
      "D:\\Anaconda3\\lib\\site-packages\\numpy\\lib\\arraysetops.py:580: FutureWarning: elementwise comparison failed; returning scalar instead, but in the future will perform elementwise comparison\n",
      "  mask |= (ar1 == a)\n"
     ]
    },
    {
     "name": "stdout",
     "output_type": "stream",
     "text": [
      "1843944\n",
      "207.0 2159.0\n",
      "5282.200000000001 -2916.2000000000003\n"
     ]
    }
   ],
   "source": [
    "feiyunyingche_1205_2=pd.read_csv(open(r'F:\\运营车识别\\王宇坤 出租车识别\\2019.12.181\\20161205_title_feiyunyingche_class2_zuobiao.csv'),index_col='car_id') \n",
    "feiyunyingche_1205_2=shanchu_yicichuxing(feiyunyingche_1205_2)\n",
    "list_kakou_shijiancha=shijiancha(feiyunyingche_1205_2)\n",
    "list_kakou_shijiancha.sort()#升序\n",
    "q1, q3=count_quartiles(list_kakou_shijiancha)\n",
    "upper, floor=count_margin(q1, q3, 1.6)\n",
    "print(len(list_kakou_shijiancha))\n",
    "print(q1, q3)\n",
    "print(upper, floor)\n",
    "#运行4hours\n",
    "goujian_jiedian(feiyunyingche_1205_2,upper, floor).to_csv(r'F:\\运营车识别\\王宇坤 出租车识别\\2019.12.181\\1205_2_jiedian.csv',index=False)"
   ]
  },
  {
   "cell_type": "code",
   "execution_count": 10,
   "metadata": {},
   "outputs": [
    {
     "name": "stdout",
     "output_type": "stream",
     "text": [
      "712080\n",
      "219.0 8089.0\n",
      "20681.0 -12373.0\n"
     ]
    }
   ],
   "source": [
    "feiyunyingche_1205_3=pd.read_csv(open(r'F:\\运营车识别\\王宇坤 出租车识别\\2019.12.181\\20161205_title_feiyunyingche_class3_zuobiao.csv'),index_col='car_id') \n",
    "feiyunyingche_1205_3=shanchu_yicichuxing(feiyunyingche_1205_3)\n",
    "list_kakou_shijiancha=shijiancha(feiyunyingche_1205_3)\n",
    "list_kakou_shijiancha.sort()#升序\n",
    "q1, q3=count_quartiles(list_kakou_shijiancha)\n",
    "upper, floor=count_margin(q1, q3, 1.6)\n",
    "print(len(list_kakou_shijiancha))\n",
    "print(q1, q3)\n",
    "print(upper, floor)\n",
    "#运行4hours\n",
    "goujian_jiedian(feiyunyingche_1205_3,upper, floor).to_csv(r'F:\\运营车识别\\王宇坤 出租车识别\\2019.12.181\\1205_3_jiedian.csv',index=False)"
   ]
  },
  {
   "cell_type": "code",
   "execution_count": 11,
   "metadata": {},
   "outputs": [
    {
     "name": "stderr",
     "output_type": "stream",
     "text": [
      "D:\\Anaconda3\\lib\\site-packages\\numpy\\lib\\arraysetops.py:580: FutureWarning: elementwise comparison failed; returning scalar instead, but in the future will perform elementwise comparison\n",
      "  mask |= (ar1 == a)\n"
     ]
    },
    {
     "name": "stdout",
     "output_type": "stream",
     "text": [
      "1831699\n",
      "192.0 1988.0\n",
      "4861.6 -2681.6000000000004\n"
     ]
    }
   ],
   "source": [
    "feiyunyingche_1205_4=pd.read_csv(open(r'F:\\运营车识别\\王宇坤 出租车识别\\2019.12.181\\20161205_title_feiyunyingche_class4_zuobiao.csv'),index_col='car_id') \n",
    "feiyunyingche_1205_4=shanchu_yicichuxing(feiyunyingche_1205_4)\n",
    "list_kakou_shijiancha=shijiancha(feiyunyingche_1205_4)\n",
    "list_kakou_shijiancha.sort()#升序\n",
    "q1, q3=count_quartiles(list_kakou_shijiancha)\n",
    "upper, floor=count_margin(q1, q3, 1.6)\n",
    "print(len(list_kakou_shijiancha))\n",
    "print(q1, q3)\n",
    "print(upper, floor)\n",
    "#运行4hours\n",
    "goujian_jiedian(feiyunyingche_1205_4,upper, floor).to_csv(r'F:\\运营车识别\\王宇坤 出租车识别\\2019.12.181\\1205_4_jiedian.csv',index=False)"
   ]
  },
  {
   "cell_type": "code",
   "execution_count": null,
   "metadata": {},
   "outputs": [],
   "source": []
  },
  {
   "cell_type": "code",
   "execution_count": 12,
   "metadata": {},
   "outputs": [
    {
     "name": "stdout",
     "output_type": "stream",
     "text": [
      "546357\n",
      "290.0 9246.0\n",
      "23575.6 -14039.6\n"
     ]
    }
   ],
   "source": [
    "feiyunyingche_1210_1=pd.read_csv(open(r'F:\\运营车识别\\王宇坤 出租车识别\\2019.12.181\\20161210_title_feiyunyingche_class1_zuobiao.csv'),index_col='car_id') \n",
    "feiyunyingche_1210_1=shanchu_yicichuxing(feiyunyingche_1210_1)\n",
    "list_kakou_shijiancha=shijiancha(feiyunyingche_1210_1)\n",
    "list_kakou_shijiancha.sort()#升序\n",
    "q1, q3=count_quartiles(list_kakou_shijiancha)\n",
    "upper, floor=count_margin(q1, q3, 1.6)\n",
    "print(len(list_kakou_shijiancha))\n",
    "print(q1, q3)\n",
    "print(upper, floor)\n",
    "#运行4hours\n",
    "goujian_jiedian(feiyunyingche_1210_1,upper, floor).to_csv(r'F:\\运营车识别\\王宇坤 出租车识别\\2019.12.181\\1210_1_jiedian.csv',index=False)"
   ]
  },
  {
   "cell_type": "code",
   "execution_count": 13,
   "metadata": {},
   "outputs": [
    {
     "name": "stderr",
     "output_type": "stream",
     "text": [
      "D:\\Anaconda3\\lib\\site-packages\\numpy\\lib\\arraysetops.py:580: FutureWarning: elementwise comparison failed; returning scalar instead, but in the future will perform elementwise comparison\n",
      "  mask |= (ar1 == a)\n"
     ]
    },
    {
     "name": "stdout",
     "output_type": "stream",
     "text": [
      "1381935\n",
      "214.0 2184.0\n",
      "5336.0 -2938.0\n"
     ]
    }
   ],
   "source": [
    "feiyunyingche_1210_2=pd.read_csv(open(r'F:\\运营车识别\\王宇坤 出租车识别\\2019.12.181\\20161210_title_feiyunyingche_class2_zuobiao.csv'),index_col='car_id') \n",
    "feiyunyingche_1210_2=shanchu_yicichuxing(feiyunyingche_1210_2)\n",
    "list_kakou_shijiancha=shijiancha(feiyunyingche_1210_2)\n",
    "list_kakou_shijiancha.sort()#升序\n",
    "q1, q3=count_quartiles(list_kakou_shijiancha)\n",
    "upper, floor=count_margin(q1, q3, 1.6)\n",
    "print(len(list_kakou_shijiancha))\n",
    "print(q1, q3)\n",
    "print(upper, floor)\n",
    "#运行4hours\n",
    "goujian_jiedian(feiyunyingche_1210_2,upper, floor).to_csv(r'F:\\运营车识别\\王宇坤 出租车识别\\2019.12.181\\1210_2_jiedian.csv',index=False)"
   ]
  },
  {
   "cell_type": "code",
   "execution_count": 14,
   "metadata": {},
   "outputs": [
    {
     "name": "stderr",
     "output_type": "stream",
     "text": [
      "D:\\Anaconda3\\lib\\site-packages\\numpy\\lib\\arraysetops.py:580: FutureWarning: elementwise comparison failed; returning scalar instead, but in the future will perform elementwise comparison\n",
      "  mask |= (ar1 == a)\n"
     ]
    },
    {
     "name": "stdout",
     "output_type": "stream",
     "text": [
      "1454157\n",
      "199.0 1942.0\n",
      "4730.8 -2589.8\n"
     ]
    }
   ],
   "source": [
    "feiyunyingche_1210_3=pd.read_csv(open(r'F:\\运营车识别\\王宇坤 出租车识别\\2019.12.181\\20161210_title_feiyunyingche_class3_zuobiao.csv'),index_col='car_id') \n",
    "feiyunyingche_1210_3=shanchu_yicichuxing(feiyunyingche_1210_3)\n",
    "list_kakou_shijiancha=shijiancha(feiyunyingche_1210_3)\n",
    "list_kakou_shijiancha.sort()#升序\n",
    "q1, q3=count_quartiles(list_kakou_shijiancha)\n",
    "upper, floor=count_margin(q1, q3, 1.6)\n",
    "print(len(list_kakou_shijiancha))\n",
    "print(q1, q3)\n",
    "print(upper, floor)\n",
    "#运行4hours\n",
    "goujian_jiedian(feiyunyingche_1210_3,upper, floor).to_csv(r'F:\\运营车识别\\王宇坤 出租车识别\\2019.12.181\\1210_3_jiedian.csv',index=False)"
   ]
  },
  {
   "cell_type": "code",
   "execution_count": 15,
   "metadata": {},
   "outputs": [
    {
     "name": "stdout",
     "output_type": "stream",
     "text": [
      "554149\n",
      "226.0 7241.0\n",
      "18465.0 -10998.0\n"
     ]
    }
   ],
   "source": [
    "feiyunyingche_1210_4=pd.read_csv(open(r'F:\\运营车识别\\王宇坤 出租车识别\\2019.12.181\\20161210_title_feiyunyingche_class4_zuobiao.csv'),index_col='car_id') \n",
    "feiyunyingche_1210_4=shanchu_yicichuxing(feiyunyingche_1210_4)\n",
    "list_kakou_shijiancha=shijiancha(feiyunyingche_1210_4)\n",
    "list_kakou_shijiancha.sort()#升序\n",
    "q1, q3=count_quartiles(list_kakou_shijiancha)\n",
    "upper, floor=count_margin(q1, q3, 1.6)\n",
    "print(len(list_kakou_shijiancha))\n",
    "print(q1, q3)\n",
    "print(upper, floor)\n",
    "#运行4hours\n",
    "goujian_jiedian(feiyunyingche_1210_4,upper, floor).to_csv(r'F:\\运营车识别\\王宇坤 出租车识别\\2019.12.181\\1210_4_jiedian.csv',index=False)"
   ]
  },
  {
   "cell_type": "markdown",
   "metadata": {},
   "source": [
    "# 调用百度api计算两个卡口之间的驾车时间"
   ]
  },
  {
   "cell_type": "code",
   "execution_count": null,
   "metadata": {},
   "outputs": [],
   "source": [
    "'''\n",
    "#调用百度api返回两点之间所需时间（单位为秒）\n",
    "#ak:lWpbR5OCQYybppqci2kGYgFd\n",
    "#ak:ceSRRXaqrZRffmNThRZzgEohUSiiZkVT\n",
    "#ak:ogSom1tX1Yuc6ffl87vxuQNaqH3n8dtG\n",
    "def return_shijian(origin_kid_x,origin_kid_y,des_kid_x,des_kid_y):\n",
    "    url = 'http://api.map.baidu.com/direction/v2/driving?'\n",
    "    url=url+'origin='+str(origin_kid_y)+','+str(origin_kid_x)+'&destination='+str(des_kid_y)+','+str(des_kid_x)+'&coord_type=wgs84&tactics=2&ak='+'lWpbR5OCQYybppqci2kGYgFd'        \n",
    "    #print(url)\n",
    "    req = urlopen(url)\n",
    "    res  = req.read().decode()\n",
    "    if json.loads(res)['status']==0:#成功返回\n",
    "        #print(1)\n",
    "        shijian = json.loads(res)['result']['routes'][0]['duration']\n",
    "    else:\n",
    "        #print(json.loads(res)['status'])\n",
    "        shijian=-1\n",
    "    return shijian\n",
    "'''"
   ]
  },
  {
   "cell_type": "code",
   "execution_count": null,
   "metadata": {},
   "outputs": [],
   "source": [
    "'''\n",
    "feiyunyingche_1205=pd.read_csv(open(r'F:\\运营车识别\\王宇坤 出租车识别\\2019.12.181\\20161205_title_feiyunyingche_zuobiao.csv'),index_col='car_id')\n",
    "feiyunyingche_1210=pd.read_csv(open(r'F:\\运营车识别\\王宇坤 出租车识别\\2019.12.181\\20161210_title_feiyunyingche_zuobiao.csv'),index_col='car_id') \n",
    "kid_baidu=list(set(list(set(feiyunyingche_1205['id']))+\n",
    "                   list(set(feiyunyingche_1210['id']))))\n",
    "\n",
    "\n",
    "kakou_time = pd.DataFrame(columns=['origin_kid','des_kid','time']) \n",
    "for i in range(len(kid_baidu)):\n",
    "    for j in range(len(kid_baidu)):\n",
    "        #print(i,j)\n",
    "        if i!=j:  #其实应该有i==j，只不过时间为0\n",
    "            new_line=pd.Series({'origin_kid':kid_baidu[i],\n",
    "                                'des_kid':kid_baidu[j],\n",
    "                                'time':-1})\n",
    "            kakou_time=kakou_time.append(new_line,ignore_index=True)\n",
    "kakou_time.to_csv(r'F:\\运营车识别\\王宇坤 出租车识别\\2019.12.181\\kakou_time.csv',index=False)\n",
    "\n",
    "new_kakou_location_m=pd.read_csv(open(r'F:\\运营车识别\\new_kakou_location_m.csv'))\n",
    "\n",
    "#反复运行，直到全部都有时间\n",
    "kakou_time=pd.read_csv(open(r'F:\\运营车识别\\王宇坤 出租车识别\\2019.12.181\\kakou_time.csv'))\n",
    "for index, row in kakou_time.iterrows():\n",
    "    if row['time']==-1:\n",
    "        origin_kid_x=new_kakou_location_m[new_kakou_location_m['k_id']==row['origin_kid']]['x'].iloc[0]\n",
    "        origin_kid_y=new_kakou_location_m[new_kakou_location_m['k_id']==row['origin_kid']]['y'].iloc[0]\n",
    "        des_kid_x=new_kakou_location_m[new_kakou_location_m['k_id']==row['des_kid']]['x'].iloc[0]\n",
    "        des_kid_y=new_kakou_location_m[new_kakou_location_m['k_id']==row['des_kid']]['y'].iloc[0]\n",
    "        #print(origin_kid_x)\n",
    "        #print(origin_kid_y)\n",
    "        #print(des_kid_x)\n",
    "        #print(des_kid_y)\n",
    "        shijian=return_shijian(origin_kid_x,origin_kid_y,des_kid_x,des_kid_y)\n",
    "        print(shijian)\n",
    "        if shijian!=-1:\n",
    "            kakou_time.loc[index,'time']=shijian\n",
    "        else:\n",
    "            break\n",
    "#print(kakou_time)\n",
    "kakou_time.to_csv(r'F:\\运营车识别\\王宇坤 出租车识别\\2019.12.181\\kakou_time.csv',index=False)\n",
    "'''"
   ]
  },
  {
   "cell_type": "code",
   "execution_count": 20,
   "metadata": {},
   "outputs": [],
   "source": [
    "'''\n",
    "kakou_time=pd.read_csv(open(r'F:\\运营车识别\\王宇坤 出租车识别\\2019.12.181\\kakou_time.csv'))\n",
    "kid_baidu=list(set(list(set(kakou_time['origin_kid']))+\n",
    "                   list(set(kakou_time['des_kid']))))\n",
    "for i in range(len(kid_baidu)):\n",
    "    for j in range(len(kid_baidu)):\n",
    "        if i==j:\n",
    "            new_line=pd.Series({'origin_kid':kid_baidu[i],\n",
    "                                    'des_kid':kid_baidu[j],\n",
    "                                    'time':0})\n",
    "            kakou_time=kakou_time.append(new_line,ignore_index=True)\n",
    "kakou_time.to_csv(r'F:\\运营车识别\\王宇坤 出租车识别\\2019.12.181\\kakou_time.csv',index=False)\n",
    "'''"
   ]
  },
  {
   "cell_type": "code",
   "execution_count": null,
   "metadata": {},
   "outputs": [],
   "source": []
  },
  {
   "cell_type": "code",
   "execution_count": null,
   "metadata": {},
   "outputs": [],
   "source": []
  },
  {
   "cell_type": "code",
   "execution_count": null,
   "metadata": {},
   "outputs": [],
   "source": []
  },
  {
   "cell_type": "code",
   "execution_count": null,
   "metadata": {},
   "outputs": [],
   "source": []
  }
 ],
 "metadata": {
  "kernelspec": {
   "display_name": "Python 3",
   "language": "python",
   "name": "python3"
  },
  "language_info": {
   "codemirror_mode": {
    "name": "ipython",
    "version": 3
   },
   "file_extension": ".py",
   "mimetype": "text/x-python",
   "name": "python",
   "nbconvert_exporter": "python",
   "pygments_lexer": "ipython3",
   "version": "3.8.8"
  }
 },
 "nbformat": 4,
 "nbformat_minor": 2
}
